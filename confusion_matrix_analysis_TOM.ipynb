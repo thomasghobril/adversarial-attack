{
 "cells": [
  {
   "cell_type": "markdown",
   "metadata": {
    "id": "PqheWYdjDSsU"
   },
   "source": [
    "# 1. Imports & define constants"
   ]
  },
  {
   "cell_type": "code",
   "execution_count": 9,
   "metadata": {
    "colab": {
     "base_uri": "https://localhost:8080/"
    },
    "id": "PjRU7s4zD_xz",
    "outputId": "48f394eb-f128-4188-f3df-805f80387f65"
   },
   "outputs": [],
   "source": [
    "# !pip install adversarial-robustness-toolbox # if you need to install the adversarial-robustness-toolbox (art)"
   ]
  },
  {
   "cell_type": "code",
   "execution_count": 1,
   "metadata": {
    "id": "9TWCyqGjDSsg"
   },
   "outputs": [],
   "source": [
    "from art.attacks.evasion import *\n",
    "from art.estimators.classification import TensorFlowV2Classifier\n",
    "\n",
    "import numpy as np\n",
    "from math import pi\n",
    "from random import random, randint\n",
    "\n",
    "import pandas as pd\n",
    "import seaborn as sns\n",
    "\n",
    "import matplotlib.pyplot as plt\n",
    "\n",
    "from tensorflow.keras.losses import MSE\n",
    "from tensorflow.keras.losses import categorical_crossentropy as CCE\n",
    "from tensorflow.keras.models import load_model\n",
    "\n",
    "from tqdm import tqdm\n",
    "import os\n",
    "import warnings\n",
    "warnings.filterwarnings('ignore')\n",
    "os.environ['TF_CPP_MIN_LOG_LEVEL'] = '3'"
   ]
  },
  {
   "cell_type": "code",
   "execution_count": 16,
   "metadata": {},
   "outputs": [],
   "source": [
    "# If you want to check that your modules match the specifications listed in the README\n",
    "\n",
    "# print(\"pandas :\", pd.__version__)\n",
    "# print(\"sns :\", sns.__version__)\n",
    "# print(\"np :\", np.__version__)\n",
    "\n",
    "# import matplotlib ; print(\"matplotlib :\", matplotlib.__version__)\n",
    "# import tensorflow ; print(\"tensorflow :\", tensorflow.__version__)\n",
    "# import art ; print(\"art\", art.__version__)"
   ]
  },
  {
   "cell_type": "markdown",
   "metadata": {},
   "source": [
    "Initialization of specific values for the problem :"
   ]
  },
  {
   "cell_type": "code",
   "execution_count": 44,
   "metadata": {},
   "outputs": [
    {
     "name": "stdout",
     "output_type": "stream",
     "text": [
      "> Domaine des inputs :\n",
      "- rho : [-0.32842287715105956,0.6798577687061284]\n",
      "- theta : [-0.5,0.5]\n",
      "- psi : [-0.5,0.5]\n",
      "- v_own : [-0.5,0.5]\n",
      "- v_int : [-0.5,0.5]\n"
     ]
    }
   ],
   "source": [
    "input_names = ['rho','theta','psi','v_own','v_int']\n",
    "input_latex_names = [r'$\\rho$', \"$\\Theta$\", r'$\\varphi$', \"$v_{own}$\", \"$v_{int}$\"]\n",
    "ACAS_labels = [\"COC\",\"WR\",\"WL\",\"SR\",\"SL\"]\n",
    "\n",
    "X_mean = np.array( [1.9791091*1e4, 0.0, 0.0, 650.0, 600.0] )\n",
    "X_range = np.array( [60261.0, 6.28318530718, 6.28318530718, 1100.0, 1200.0] )\n",
    "X_dom = np.array([ [0.0,    -pi, -pi, 100.0,     0.0],\n",
    "                   [60760.0, pi,  pi, 1200.0, 1200.0] ])\n",
    "\n",
    "print(\"> Domaine des inputs :\")\n",
    "inputs_domain = np.zeros((2,5))\n",
    "inputs_domain[0,0] = (X_dom[0,0]-X_mean[0])/X_range[0]\n",
    "inputs_domain[1,0] = (X_dom[1,0]-X_mean[0])/X_range[0]\n",
    "print(\"- {0} : [{1},{2}]\".format(input_names[0],inputs_domain[0,0],inputs_domain[1,0]))\n",
    "for k in range(1,5):\n",
    "    inputs_domain[0,k] = -0.5 ; inputs_domain[1,k] = 0.5\n",
    "    print(\"- {0} : [{1},{2}]\".format(input_names[k],inputs_domain[0,k],inputs_domain[1,k]))"
   ]
  },
  {
   "cell_type": "markdown",
   "metadata": {},
   "source": [
    "Recover the clusters identified in **network_analysis.ipynb** :"
   ]
  },
  {
   "cell_type": "code",
   "execution_count": 3,
   "metadata": {},
   "outputs": [
    {
     "name": "stdout",
     "output_type": "stream",
     "text": [
      "Selected networks (one in each class) :  [(3, 6), (5, 6), (2, 6), (4, 5), (2, 1), (3, 1), (1, 7), (1, 1), (1, 9)]\n"
     ]
    }
   ],
   "source": [
    "def full_nets_id():\n",
    "    \"\"\" Get the id of the 45 neural networks as pairs of two integers as string. \"\"\"\n",
    "    nets_id = []\n",
    "    for k in range(11,60):\n",
    "        if k%10 != 0:\n",
    "            nets_id.append( (k//10,k%10) )\n",
    "    return(nets_id)\n",
    "\n",
    "ID2num = full_nets_id()\n",
    "\n",
    "NETS_ID = [23,41,14,31,9,18,6,0,8] # one network in each of the 9 identified classes\n",
    "\n",
    "NETS_NUM = [ID2num[u] for u in NETS_ID]\n",
    "print(\"Selected networks (one in each class) : \", NETS_NUM)"
   ]
  },
  {
   "cell_type": "markdown",
   "metadata": {},
   "source": [
    "**OPTIONAL** : Load base points that have been previously defined and save in a numpy file :"
   ]
  },
  {
   "cell_type": "code",
   "execution_count": 71,
   "metadata": {},
   "outputs": [
    {
     "name": "stdout",
     "output_type": "stream",
     "text": [
      "> Number of points : 1000\n"
     ]
    }
   ],
   "source": [
    "BASE_PTS = np.load(\"data_TOM/\" + \"FGSM_#1000_0.01_20-05/\" + \"base_pts.npy\")\n",
    "print(\"> Number of points : {0}\".format(BASE_PTS.shape[0]))"
   ]
  },
  {
   "cell_type": "markdown",
   "metadata": {
    "id": "fcKtsOBzDSs-"
   },
   "source": [
    "# 2. Attack random points and build a confusion matrix"
   ]
  },
  {
   "cell_type": "code",
   "execution_count": 4,
   "metadata": {},
   "outputs": [],
   "source": [
    "def create_random_pts(npts, boundaries=inputs_domain):\n",
    "    \"\"\" Generate 'npts' random points in the domain defined by the 'boundaries'. \"\"\"\n",
    "    pts = np.random.rand(npts, 5)\n",
    "    for f in range(0,5):\n",
    "        pts[:,f] *= (boundaries[1][f] - boundaries[0][f])\n",
    "        pts[:,f] += boundaries[0][f]\n",
    "    return(pts)"
   ]
  },
  {
   "cell_type": "code",
   "execution_count": 5,
   "metadata": {
    "id": "jtrNUZspDStE"
   },
   "outputs": [],
   "source": [
    "def conf_matrix(pred0, pred1, n_classes=5):\n",
    "    \"\"\" Creates the n_classes*n_classes confusion matrix of pred1 compared to the original pred0. \n",
    "        - cmat[i,j] = nb of pts classified as i at the origin and as j after the attack \"\"\"\n",
    "    cmat = np.zeros((n_classes,n_classes)).astype(int)\n",
    "    n_sample = pred0.shape[0]\n",
    "    for k in range(n_sample):\n",
    "        cmat[pred0[k],pred1[k]] += 1\n",
    "    return(cmat)"
   ]
  },
  {
   "cell_type": "code",
   "execution_count": 6,
   "metadata": {
    "id": "9eTnye8tOZcF"
   },
   "outputs": [],
   "source": [
    "def norm_rows(cmat):\n",
    "    \"\"\" Normalizes the lines of the confusion matrix cmat. \"\"\"\n",
    "    n = cmat.shape[0]\n",
    "    ncmat = np.zeros((n,n))\n",
    "    sum_rows = np.sum(cmat, axis=1)\n",
    "    for k in range(n):\n",
    "        s = sum_rows[k]\n",
    "        if s != 0:\n",
    "            ncmat[k,:] = cmat[k,:]/sum_rows[k]\n",
    "    return(ncmat)"
   ]
  },
  {
   "cell_type": "code",
   "execution_count": 7,
   "metadata": {
    "id": "wIVSFMBiVKdB"
   },
   "outputs": [],
   "source": [
    "def load_attack(method, acas_model, iter=20, epsilon=0.8, etap=0.95):\n",
    "    \"\"\" Choose your attack with 'method'. \"\"\"\n",
    "    \n",
    "    if method == \"nf\":\n",
    "        return(NewtonFool(classifier = acas_model, \n",
    "                          eta = etap, \n",
    "                          max_iter = iter,\n",
    "                          verbose = True))\n",
    "    \n",
    "    elif method == \"fgsm\":\n",
    "        return(FastGradientMethod(estimator = acas_model,\n",
    "                                  eps = epsilon))\n",
    "    \n",
    "    elif method == \"cw\":\n",
    "        return(CarliniLInfMethod(classifier = acas_model,\n",
    "                                 initial_const = 1.0, \n",
    "                                 max_iter = iter, \n",
    "                                 verbose = True))\n",
    "    elif method == \"Deepfool\":\n",
    "        return DeepFool(classifier=acas_model, max_iter=iter)\n",
    "    \n",
    "    else:\n",
    "        raise Exception(\"'{0}' is not a valid attack.\".format(method))"
   ]
  },
  {
   "cell_type": "code",
   "execution_count": 98,
   "metadata": {
    "id": "_wXsq_2JNopK"
   },
   "outputs": [],
   "source": [
    "def build_confusion_matrix(npts, method, num_net, base_pts=None, folder=\"/content/\", show=True, savefile=None, iter=20,\n",
    "                                                                                                            epsilon=0.001,\n",
    "                                                                                                            etap=0.95):\n",
    "    \"\"\" Do not forget to set folder and, if you use Colab, to import your neural networks ! \"\"\"\n",
    "    \n",
    "    # 1 - Load the model ACAS\n",
    "    \n",
    "    if (num_net[0] in range(1,6)) and (num_net[1] in range(1,10)):\n",
    "        path_model = folder + \"ACASXU_{}_{}.h5\".format(num_net[0], num_net[1])\n",
    "        model = load_model(path_model)\n",
    "        model.compile()\n",
    "    else:\n",
    "        raise Exception(\"ACAS neural network {0}-{1} doesn't exist.\".format(num_net[0],num_net[1]))\n",
    "\n",
    "    # 2 - Transform into art form\n",
    "    \n",
    "    ACAS_classifier = TensorFlowV2Classifier(model = model,\n",
    "                                             loss_object = MSE,\n",
    "                                             train_step = None,\n",
    "                                             nb_classes = 5,\n",
    "                                             input_shape = (1, 5),\n",
    "                                             clip_values = (inputs_domain[0,:],inputs_domain[1,:]))\n",
    "\n",
    "    attack = load_attack(method, ACAS_classifier, iter = iter,\n",
    "                                                  epsilon = epsilon,\n",
    "                                                  etap = etap)\n",
    "\n",
    "    # 3 - Apply the attack on N random points\n",
    "    \n",
    "    if npts != 0:\n",
    "        base_pts = create_random_pts(npts, boundaries=inputs_domain)\n",
    "    else:\n",
    "        npts = base_pts.shape[0]\n",
    "    adv_pts = attack.generate(base_pts)\n",
    "    \n",
    "    base_pred = model.predict(base_pts)\n",
    "    base_advice = np.argmin(base_pred, axis=1)\n",
    "    \n",
    "    adv_pred = model.predict(adv_pts)\n",
    "    adv_advice = np.argmin(adv_pred, axis=1)\n",
    "\n",
    "    # 4 - Confusion matrix\n",
    "    \n",
    "    cmat = conf_matrix(base_advice, adv_advice)\n",
    "    base_count = (np.bincount(np.concatenate((base_advice,np.arange(0,5)))) - np.ones(5)).astype(int)\n",
    "    adv_count = (np.bincount(np.concatenate((adv_advice,np.arange(0,5)))) - np.ones(5)).astype(int)\n",
    "    \n",
    "    # 5 - Show confusion matrix with normalized rows\n",
    "    \n",
    "    ncmat = norm_rows(cmat)    \n",
    "    if show or (savefile!=None):\n",
    "        index0 = [ACAS_labels[i] + \" ({0})\".format(base_count[i]) for i in range(5)]\n",
    "        index1 = [\"adv-\" + ACAS_labels[i] + \" ({0})\".format(adv_count[i]) for i in range(5)]\n",
    "        df_cmat = pd.DataFrame(ncmat, index = index0, columns = index1)\n",
    "\n",
    "        plt.figure(figsize = (10,7))\n",
    "        sns.heatmap(df_cmat, annot=True)\n",
    "        plt.title(\"Confusion matrix - \" + method.upper() + \" - #{0}\".format(N) + \" - network {0}-{1}\".format(num_net[0], num_net[1]))\n",
    "        if show:\n",
    "            plt.show()\n",
    "        if savefile:\n",
    "            plt.savefig(savefile)\n",
    "    \n",
    "    return(cmat, ncmat)"
   ]
  },
  {
   "cell_type": "code",
   "execution_count": 27,
   "metadata": {
    "colab": {
     "base_uri": "https://localhost:8080/",
     "height": 531,
     "referenced_widgets": [
      "799ed959c60847a4ac84b84c60b84219",
      "3de6fc130ea144a2bad0ec86020273a9",
      "4775b348f26c4888bc61dac8854b7be8",
      "2ffd53ad8b5a448e84f919295fb4e43d",
      "6840433b6f0344439bbcd40d535b291f",
      "c01c451b95cc4171b3c6d08dd93c6b61",
      "3a6522008b7d4c5dba1024773ca85c13",
      "b12c2886eede4931bbba5fafd1a5bc9d",
      "e40e462d96bb4e8a8d79d4db4d5f5937",
      "84fdedd24ee24fd4a1239856442dbad3",
      "0915c81104a9415da7ba6f956980a9ab"
     ]
    },
    "id": "HXnFQwm_O6dz",
    "outputId": "6fb5f67a-ed74-461f-96c9-f30bdb3e6d35"
   },
   "outputs": [
    {
     "name": "stdout",
     "output_type": "stream",
     "text": [
      "WARNING:tensorflow:No training configuration found in the save file, so the model was *not* compiled. Compile it manually.\n"
     ]
    },
    {
     "data": {
      "image/png": "[encoded data removed]",
      "text/plain": [
       "<Figure size 720x504 with 2 Axes>"
      ]
     },
     "metadata": {
      "needs_background": "light"
     },
     "output_type": "display_data"
    }
   ],
   "source": [
    "cmat, ncmat = build_confusion_matrix(1000, \"fgsm\", (1, 1), epsilon=0.001, folder=\"ACAS_XU_tf_keras/\", show=True)"
   ]
  },
  {
   "cell_type": "code",
   "execution_count": null,
   "metadata": {},
   "outputs": [],
   "source": [
    "# Example where we generate several cmat which are automatically saved\n",
    "for eps in [0.001,0.005,0.01,0.05,0.1,0.5,1.0]:\n",
    "    filename = \"fgsm_cmat/cmat_eps_\" + str(eps) + \".png\"\n",
    "    _,_ = build_confusion_matrix(10000, \"fgsm\", (1, 1), epsilon=eps, folder=\"ACAS_XU_tf_keras/\", savefile=filename, show=False)\n",
    "    print(eps)"
   ]
  },
  {
   "cell_type": "markdown",
   "metadata": {},
   "source": [
    "# 3. Plot the evolution of the matrix coefficients when a parameter changes"
   ]
  },
  {
   "cell_type": "markdown",
   "metadata": {},
   "source": [
    "Generate pts in the input domains, apply an attack on them, vary the intensity and compute the different confusion matrixes with the function ***cmat_tracking*** :"
   ]
  },
  {
   "cell_type": "code",
   "execution_count": 99,
   "metadata": {},
   "outputs": [],
   "source": [
    "def cmat_tracking(npts, method, nets, base_pts=[], folder=\"/content/\", param_range=[0], store_adv=False):\n",
    "    \"\"\" Compute the evolution of the coefficients of the cmat when we explore 'param_range' with 'method'\n",
    "        for each network in 'net'.\n",
    "        Set npts = 0 if you want to load pre-generated points in 'base_pts'. \"\"\"\n",
    "    \n",
    "    ## Adapt the code for the single network case\n",
    "    \n",
    "    if (type(nets) == tuple) and (len(nets) == 2): # a single network\n",
    "        nets = [nets] ; nnet = 1\n",
    "    else:\n",
    "        nnet = len(nets)\n",
    "        \n",
    "    ## Generate N random points and create the 4D table to store the cmat\n",
    "    \n",
    "    if npts != 0:\n",
    "        base_pts = create_random_pts(npts, boundaries=inputs_domain)\n",
    "    else:\n",
    "        npts = base_pts.shape[0]\n",
    "    ncmat = len(param_range)\n",
    "    bloc = np.zeros((nnet,ncmat+1,5,5)) # 4D table\n",
    "    if store_adv:\n",
    "        all_adv_pts = np.zeros((nnet,ncmat,npts,5)) # store all adversarial pts\n",
    "    else:\n",
    "        all_adv_pts = None\n",
    "    \n",
    "    ## Iter over each network\n",
    "    \n",
    "    print(\"### ========== Apply {0} on {1} nnets and {2} points and each of the {3} configurations of the parameters ========== ###\\n\"\n",
    "              .format(method.upper(), nnet, npts, len(param_range)))\n",
    "    \n",
    "    for inet in range(nnet):\n",
    "        num_net = nets[inet]\n",
    "        \n",
    "        # 1 - Load the network and compute the base pred\n",
    "        \n",
    "        if (num_net[0] in range(1,6)) and (num_net[1] in range(1,10)):\n",
    "            path_model = folder + \"ACASXU_{}_{}.h5\".format(num_net[0], num_net[1])\n",
    "            model = load_model(path_model)\n",
    "            model.compile()\n",
    "        else:\n",
    "            raise Exception(\"ACAS neural network {0}-{1} doesn't exist.\".format(num_net[0],num_net[1]))\n",
    "        \n",
    "        base_pred = model.predict(base_pts)\n",
    "        base_advice = np.argmin(base_pred, axis=1)\n",
    "        base_count = (np.bincount(np.concatenate((base_advice,np.arange(0,5)))) - np.ones(5)).astype(int)\n",
    "        bloc[inet,0] = np.eye(5)*base_count # base points without any attack for each network\n",
    "\n",
    "        # 2 - Transform into art form\n",
    "\n",
    "        ACAS_classifier = TensorFlowV2Classifier(model = model,\n",
    "                                                 loss_object = MSE,\n",
    "                                                 train_step = None,\n",
    "                                                 nb_classes = 5,\n",
    "                                                 input_shape = (1, 5),\n",
    "                                                 clip_values = (inputs_domain[0,:],inputs_domain[1,:]))\n",
    "\n",
    "        # 4 - Iter over the param_range and attack the base_pts\n",
    "\n",
    "        print(\"\\n# [{5}/{6}] > Apply {0} on nnet {1}-{2} for {3} points and each of the {4} configurations of the parameters :\"\n",
    "              .format(method.upper(), num_net[0], num_net[1], npts, len(param_range), inet+1, nnet))\n",
    "\n",
    "        for k in tqdm(range(len(param_range))):\n",
    "            pk = param_range[k]\n",
    "            attack = load_attack(method, ACAS_classifier, iter = None, epsilon = pk, etap = None)\n",
    "\n",
    "            adv_pts = attack.generate(base_pts)\n",
    "            if store_adv:\n",
    "                all_adv_pts[inet,k] = adv_pts\n",
    "            adv_pred = model.predict(adv_pts)\n",
    "            adv_advice = np.argmin(adv_pred, axis=1)\n",
    "\n",
    "            bloc[inet,k+1] = conf_matrix(base_advice, adv_advice) # store the confusion matrix in the corresponding cube\n",
    "    \n",
    "    if nnet == 1:\n",
    "        return(bloc[0], all_adv_pts, base_pts)\n",
    "    else:\n",
    "        return(bloc, all_adv_pts, base_pts)"
   ]
  },
  {
   "cell_type": "markdown",
   "metadata": {},
   "source": [
    "**Example :** Apply the method with 9 nnets, FGSM, 100 epsilon values from 0.01 to 1.0 and 1000 pts pre-generated in *BASE_PTS*."
   ]
  },
  {
   "cell_type": "code",
   "execution_count": 100,
   "metadata": {},
   "outputs": [
    {
     "name": "stdout",
     "output_type": "stream",
     "text": [
      "### ========== Apply FGSM on 9 nnets and 1000 points and each of the 99 configurations of the parameters ========== ###\n",
      "\n",
      "WARNING:tensorflow:No training configuration found in the save file, so the model was *not* compiled. Compile it manually.\n"
     ]
    },
    {
     "name": "stderr",
     "output_type": "stream",
     "text": [
      "\r",
      "  0%|                                                                                           | 0/99 [00:00<?, ?it/s]"
     ]
    },
    {
     "name": "stdout",
     "output_type": "stream",
     "text": [
      "\n",
      "# [1/9] > Apply FGSM on nnet 3-6 for 1000 points and each of the 99 configurations of the parameters :\n"
     ]
    },
    {
     "name": "stderr",
     "output_type": "stream",
     "text": [
      "100%|██████████████████████████████████████████████████████████████████████████████████| 99/99 [00:29<00:00,  3.41it/s]\n"
     ]
    },
    {
     "name": "stdout",
     "output_type": "stream",
     "text": [
      "WARNING:tensorflow:No training configuration found in the save file, so the model was *not* compiled. Compile it manually.\n"
     ]
    },
    {
     "name": "stderr",
     "output_type": "stream",
     "text": [
      "\r",
      "  0%|                                                                                           | 0/99 [00:00<?, ?it/s]"
     ]
    },
    {
     "name": "stdout",
     "output_type": "stream",
     "text": [
      "\n",
      "# [2/9] > Apply FGSM on nnet 5-6 for 1000 points and each of the 99 configurations of the parameters :\n"
     ]
    },
    {
     "name": "stderr",
     "output_type": "stream",
     "text": [
      "100%|██████████████████████████████████████████████████████████████████████████████████| 99/99 [00:29<00:00,  3.31it/s]\n"
     ]
    },
    {
     "name": "stdout",
     "output_type": "stream",
     "text": [
      "WARNING:tensorflow:No training configuration found in the save file, so the model was *not* compiled. Compile it manually.\n"
     ]
    },
    {
     "name": "stderr",
     "output_type": "stream",
     "text": [
      "\r",
      "  0%|                                                                                           | 0/99 [00:00<?, ?it/s]"
     ]
    },
    {
     "name": "stdout",
     "output_type": "stream",
     "text": [
      "\n",
      "# [3/9] > Apply FGSM on nnet 2-6 for 1000 points and each of the 99 configurations of the parameters :\n"
     ]
    },
    {
     "name": "stderr",
     "output_type": "stream",
     "text": [
      "100%|██████████████████████████████████████████████████████████████████████████████████| 99/99 [00:30<00:00,  3.26it/s]"
     ]
    },
    {
     "name": "stdout",
     "output_type": "stream",
     "text": [
      "WARNING:tensorflow:No training configuration found in the save file, so the model was *not* compiled. Compile it manually.\n"
     ]
    },
    {
     "name": "stderr",
     "output_type": "stream",
     "text": [
      "\n",
      "  0%|                                                                                           | 0/99 [00:00<?, ?it/s]"
     ]
    },
    {
     "name": "stdout",
     "output_type": "stream",
     "text": [
      "\n",
      "# [4/9] > Apply FGSM on nnet 4-5 for 1000 points and each of the 99 configurations of the parameters :\n"
     ]
    },
    {
     "name": "stderr",
     "output_type": "stream",
     "text": [
      "100%|██████████████████████████████████████████████████████████████████████████████████| 99/99 [00:29<00:00,  3.33it/s]\n"
     ]
    },
    {
     "name": "stdout",
     "output_type": "stream",
     "text": [
      "WARNING:tensorflow:No training configuration found in the save file, so the model was *not* compiled. Compile it manually.\n"
     ]
    },
    {
     "name": "stderr",
     "output_type": "stream",
     "text": [
      "\r",
      "  0%|                                                                                           | 0/99 [00:00<?, ?it/s]"
     ]
    },
    {
     "name": "stdout",
     "output_type": "stream",
     "text": [
      "\n",
      "# [5/9] > Apply FGSM on nnet 2-1 for 1000 points and each of the 99 configurations of the parameters :\n"
     ]
    },
    {
     "name": "stderr",
     "output_type": "stream",
     "text": [
      "100%|██████████████████████████████████████████████████████████████████████████████████| 99/99 [00:28<00:00,  3.47it/s]\n"
     ]
    },
    {
     "name": "stdout",
     "output_type": "stream",
     "text": [
      "WARNING:tensorflow:No training configuration found in the save file, so the model was *not* compiled. Compile it manually.\n"
     ]
    },
    {
     "name": "stderr",
     "output_type": "stream",
     "text": [
      "\r",
      "  0%|                                                                                           | 0/99 [00:00<?, ?it/s]"
     ]
    },
    {
     "name": "stdout",
     "output_type": "stream",
     "text": [
      "\n",
      "# [6/9] > Apply FGSM on nnet 3-1 for 1000 points and each of the 99 configurations of the parameters :\n"
     ]
    },
    {
     "name": "stderr",
     "output_type": "stream",
     "text": [
      "100%|██████████████████████████████████████████████████████████████████████████████████| 99/99 [00:28<00:00,  3.44it/s]\n"
     ]
    },
    {
     "name": "stdout",
     "output_type": "stream",
     "text": [
      "WARNING:tensorflow:No training configuration found in the save file, so the model was *not* compiled. Compile it manually.\n"
     ]
    },
    {
     "name": "stderr",
     "output_type": "stream",
     "text": [
      "\r",
      "  0%|                                                                                           | 0/99 [00:00<?, ?it/s]"
     ]
    },
    {
     "name": "stdout",
     "output_type": "stream",
     "text": [
      "\n",
      "# [7/9] > Apply FGSM on nnet 1-7 for 1000 points and each of the 99 configurations of the parameters :\n"
     ]
    },
    {
     "name": "stderr",
     "output_type": "stream",
     "text": [
      "100%|██████████████████████████████████████████████████████████████████████████████████| 99/99 [00:28<00:00,  3.48it/s]\n"
     ]
    },
    {
     "name": "stdout",
     "output_type": "stream",
     "text": [
      "WARNING:tensorflow:No training configuration found in the save file, so the model was *not* compiled. Compile it manually.\n"
     ]
    },
    {
     "name": "stderr",
     "output_type": "stream",
     "text": [
      "\r",
      "  0%|                                                                                           | 0/99 [00:00<?, ?it/s]"
     ]
    },
    {
     "name": "stdout",
     "output_type": "stream",
     "text": [
      "\n",
      "# [8/9] > Apply FGSM on nnet 1-1 for 1000 points and each of the 99 configurations of the parameters :\n"
     ]
    },
    {
     "name": "stderr",
     "output_type": "stream",
     "text": [
      "100%|██████████████████████████████████████████████████████████████████████████████████| 99/99 [00:28<00:00,  3.44it/s]\n"
     ]
    },
    {
     "name": "stdout",
     "output_type": "stream",
     "text": [
      "WARNING:tensorflow:No training configuration found in the save file, so the model was *not* compiled. Compile it manually.\n"
     ]
    },
    {
     "name": "stderr",
     "output_type": "stream",
     "text": [
      "\r",
      "  0%|                                                                                           | 0/99 [00:00<?, ?it/s]"
     ]
    },
    {
     "name": "stdout",
     "output_type": "stream",
     "text": [
      "\n",
      "# [9/9] > Apply FGSM on nnet 1-9 for 1000 points and each of the 99 configurations of the parameters :\n"
     ]
    },
    {
     "name": "stderr",
     "output_type": "stream",
     "text": [
      "100%|██████████████████████████████████████████████████████████████████████████████████| 99/99 [00:28<00:00,  3.48it/s]\n"
     ]
    }
   ],
   "source": [
    "cmat_bloc, all_adv_pts, base_pts = cmat_tracking(npts = 0,\n",
    "                                                 base_pts = BASE_PTS,\n",
    "                                                 method = \"fgsm\",\n",
    "                                                 nets = NETS_NUM,\n",
    "                                                 folder = \"ACAS_XU_tf_keras/\",\n",
    "                                                 param_range = [0.001*k for k in range(1,100)],\n",
    "                                                 store_adv = True)"
   ]
  },
  {
   "cell_type": "code",
   "execution_count": 102,
   "metadata": {},
   "outputs": [
    {
     "name": "stdout",
     "output_type": "stream",
     "text": [
      "cmat_bloc : (9, 100, 5, 5) => nb of float : 22500\n",
      "base_pts : (1000, 5) => nb of float : 5000\n",
      "all_adv_pts : (9, 99, 1000, 5) => nb of float : 4455000\n",
      "> Total nb of float : 4482500 | ~35.86 Mo\n"
     ]
    }
   ],
   "source": [
    "print(\"cmat_bloc :\", cmat_bloc.shape, \"=> nb of float : {0}\".format(cmat_bloc.size))\n",
    "print(\"base_pts :\", base_pts.shape, \"=> nb of float : {0}\".format(base_pts.size))\n",
    "print(\"all_adv_pts :\", all_adv_pts.shape, \"=> nb of float : {0}\".format(all_adv_pts.size))\n",
    "tot_nb_float = cmat_bloc.size + base_pts.size + all_adv_pts.size\n",
    "print(\"> Total nb of float : {0} | ~{1} Mo\".format(tot_nb_float,8*tot_nb_float/1e6))"
   ]
  },
  {
   "cell_type": "code",
   "execution_count": null,
   "metadata": {},
   "outputs": [],
   "source": [
    "# save data\n",
    "folder_name = \"data_TOM/\" + \"FGSM_#1000_0.001_23-05/\"\n",
    "\n",
    "np.save(folder_name + \"cmat_bloc.npy\", cmat_bloc)\n",
    "print(\"'cmat_bloc' saved !\")\n",
    "\n",
    "np.save(folder_name + \"base_pts.npy\", base_pts)\n",
    "print(\"'base_pts' saved !\")\n",
    "\n",
    "np.save(folder_name + \"all_adv_pts.npy\", all_adv_pts)\n",
    "print(\"'all_adv_pts' saved !\")\n",
    "\n",
    "np.save(folder_name + \"param_range.npy\", np.array([0.001*k for k in range(1,100)]))\n",
    "print(\"'param_range' saved !\")"
   ]
  },
  {
   "cell_type": "code",
   "execution_count": 146,
   "metadata": {},
   "outputs": [],
   "source": [
    "# load data\n",
    "folder_name = \"data_TOM/\" + \"FGSM_#1000_0.01_20-05/\"\n",
    "\n",
    "CMAT_BLOC = np.load(folder_name + \"cmat_bloc.npy\")\n",
    "BASE_PTS = np.load(folder_name + \"base_pts.npy\")\n",
    "ALL_ADV_PTS = np.load(folder_name + \"all_adv_pts.npy\")\n",
    "PRANGE = list(np.load(folder_name + \"param_range.npy\"))"
   ]
  },
  {
   "cell_type": "markdown",
   "metadata": {},
   "source": [
    "# 4 - Analyse the different behaviours between the classes of networks"
   ]
  },
  {
   "cell_type": "markdown",
   "metadata": {},
   "source": [
    "Visualize the evolution of coefficients in different networks using function the ***switch_plot*** :"
   ]
  },
  {
   "cell_type": "code",
   "execution_count": 140,
   "metadata": {},
   "outputs": [],
   "source": [
    "def switch_plot(bloc, lab1, lab2, prange, net=(1,1), method=\"FGSM\", pname=\"epsilon\", ratio=True, show=True, savefile=None):\n",
    "    \"\"\" Plot the evolution of component (lab1,lab2) as a function of prange in the simulation cube.\n",
    "        Actually, there are two kinds of kk-plot wheter lab1=lab2 or not :\n",
    "        - lab1=lab2 : plot the nb or % of points that remain well predicted as lab1=lab2\n",
    "        - lab1!=lab2 : plot the nb or % of points whose initial prediction was lab1 but changed for lab2 \"\"\"\n",
    "    \n",
    "    if len(bloc.shape) == 4: # more than one network\n",
    "        nnet = bloc.shape[0] ; ncmat = bloc.shape[1] ; npts = bloc[0,0,0,0]\n",
    "    elif len(bloc.shape) == 3: # a single network\n",
    "        nnet = 1 ; ncmat = bloc.shape[0] ; npts = bloc[0,0,0] ; net = [net]\n",
    "        bloc = np.array([bloc]) # now bloc has shape (1,ncmat,5,5)\n",
    "    else:\n",
    "        raise Exception(\"Invalid shape : 'bloc' has shape {0} but shape of size 3 or 4 is expected\".format(bloc.shape))\n",
    "\n",
    "    if len(prange) < ncmat: # need to consider the initial setting without any attack\n",
    "        prange = [0] + prange\n",
    "    \n",
    "    ACAS_lab1 = ACAS_labels[lab1] ; ACAS_lab2 = ACAS_labels[lab2]\n",
    "    \n",
    "    fig = plt.figure(figsize=(8, 6))\n",
    "    for num_net in range(nnet):\n",
    "        \n",
    "        tracked_coef = bloc[num_net,:,lab1,lab2]\n",
    "        norm_coeff = bloc[num_net,0,lab1,lab1]\n",
    "        (a,b) = net[num_net]\n",
    "\n",
    "        if ratio: # plot a % of the total number of points in lab1 without any attack\n",
    "            plt.plot(prange, 100*tracked_coef/norm_coeff, label=\"{0}-{1}\".format(a,b))\n",
    "            plt.ylabel(\"points proportion in %\", size=12)\n",
    "        else: # plot the real number of points\n",
    "            plt.plot(prange, tracked_coef, label=\"{0}-{1}\".format(a,b))\n",
    "            plt.ylabel(\"number of points\", size=12)\n",
    "        plt.xlabel(pname, size=12)\n",
    "    \n",
    "    if nnet == 1:\n",
    "        plt.title(\"NNET {0}-{1} - Evolution from {2} to {3} with {4}\".format(net[0][0],net[0][1],ACAS_lab1,ACAS_lab2,method), size=15)\n",
    "    else:\n",
    "        plt.title(\"Evolution from {0} to {1} with {2}\".format(ACAS_lab1,ACAS_lab2,method), size=15)\n",
    "        plt.legend(loc='center left', bbox_to_anchor=(1, 0.5))\n",
    "\n",
    "    if show and (savefile == None):\n",
    "        plt.show()\n",
    "    if savefile != None:\n",
    "        plt.savefig(savefile, bbox_inches=\"tight\") ; plt.close(fig)\n",
    "        print(\"Switch-plot {0}-{1} saved in {2}\".format(ACAS_lab1, ACAS_lab2, savefile))"
   ]
  },
  {
   "cell_type": "markdown",
   "metadata": {},
   "source": [
    "**Example :** Visualize a switch-plot COC-COC with all 9 nnets and FGSM with epsilon from 0.1 to 1.0 on 1000 pts."
   ]
  },
  {
   "cell_type": "code",
   "execution_count": 147,
   "metadata": {},
   "outputs": [
    {
     "data": {
      "image/png": "[encoded data removed]",
      "text/plain": [
       "<Figure size 576x432 with 1 Axes>"
      ]
     },
     "metadata": {
      "needs_background": "light"
     },
     "output_type": "display_data"
    }
   ],
   "source": [
    "switch_plot(CMAT_BLOC, 0, 0, prange=PRANGE, net=NETS_NUM, ratio=True)"
   ]
  },
  {
   "cell_type": "code",
   "execution_count": 148,
   "metadata": {},
   "outputs": [
    {
     "name": "stdout",
     "output_type": "stream",
     "text": [
      "Switch-plot COC-COC saved in data_TOM/switch-plot_COC-COC\n"
     ]
    }
   ],
   "source": [
    "# save a switch-plot\n",
    "switch_plot(CMAT_BLOC, 0, 0, prange=PRANGE, net=NETS_NUM, savefile=\"data_TOM/\" + \"switch-plot_COC-COC\")"
   ]
  },
  {
   "cell_type": "markdown",
   "metadata": {},
   "source": [
    "Visualize the global behaviour of a single network using the function ***behaviour_plot*** :"
   ]
  },
  {
   "cell_type": "code",
   "execution_count": 118,
   "metadata": {},
   "outputs": [],
   "source": [
    "# multiplot_pos = [(0,0),(0,1),(0,2),(1,0),(1,1),(1,2)]\n",
    "\n",
    "def behaviour_plot(cmat_cube, prange, net=(1,1), method=\"fgsm\", ratio=False, show=True, savefile=None):\n",
    "    \"\"\" Plot the divergence of each of the 5 labels. \"\"\"\n",
    "    \n",
    "    ncmat = cmat_cube.shape[0]\n",
    "    npts = int(np.sum(np.sum(cmat_cube[0])))\n",
    "    \n",
    "    if len(prange) < ncmat: # need to consider the initial setting without any attack\n",
    "        prange = [0] + prange\n",
    "\n",
    "    fig, axes = plt.subplots(2, 3, figsize=(15, 10)) #, sharey=True)\n",
    "    plt.subplots_adjust(wspace = 0.4, hspace = 0.4)\n",
    "    fig.suptitle(\"Global behaviour of network {0}-{1} against {2} on {3} pts\".format(net[0],net[1],method.upper(),npts), size=25)\n",
    "\n",
    "    for k in range(5):\n",
    "        plot_coord = (k//3,k%3)\n",
    "        \n",
    "        if ratio:\n",
    "            norm_coeff = cmat_cube[0,k,k]\n",
    "            for q in range(5):\n",
    "                axes[plot_coord].plot(prange,100*cmat_cube[:,k,q]/norm_coeff, label=ACAS_labels[q]) #, color = labels_color[k])\n",
    "            axes[plot_coord].set_ylabel(\"points proportion in %\", size=14)\n",
    "        else:      \n",
    "            for q in range(5):\n",
    "                axes[plot_coord].plot(prange,cmat_cube[:,k,q], label=ACAS_labels[q]) #, color = labels_color[k])\n",
    "            axes[plot_coord].set_ylabel(\"number of points\", size=14)\n",
    "            \n",
    "        axes[plot_coord].set_xlabel(\"intensity\", size=14)\n",
    "        axes[plot_coord].set_title(\"Divergence of {0}\".format(ACAS_labels[k]), size=15)\n",
    "    \n",
    "    for i in range(5):\n",
    "        cmat0_coeff = \" [{0}%]\".format(int(10000*cmat_cube[0,i,i]/npts)/100.0)\n",
    "        axes[(1,2)].plot([], [], label = ACAS_labels[i] + cmat0_coeff)\n",
    "    axes[(1,2)].get_xaxis().set_visible(False)\n",
    "    axes[(1,2)].get_yaxis().set_visible(False)\n",
    "    axes[(1,2)].spines['top'].set_visible(False)\n",
    "    axes[(1,2)].spines['right'].set_visible(False)\n",
    "    axes[(1,2)].spines['bottom'].set_visible(False)\n",
    "    axes[(1,2)].spines['left'].set_visible(False)\n",
    "    axes[(1,2)].legend(loc=\"center\", fontsize=\"xx-large\")\n",
    "        \n",
    "    if show and (savefile == None):\n",
    "        plt.show()\n",
    "    if savefile != None:\n",
    "        plt.savefig(savefile) ; plt.close(fig)\n",
    "        print(\"Network {0}-{1} behaviour-plot saved in {2}\".format(net[0], net[1], savefile))"
   ]
  },
  {
   "cell_type": "markdown",
   "metadata": {},
   "source": [
    "**Example :** Visualize the global behaviour of a single network."
   ]
  },
  {
   "cell_type": "code",
   "execution_count": 123,
   "metadata": {},
   "outputs": [
    {
     "data": {
      "image/png": "[encoded data removed]",
      "text/plain": [
       "<Figure size 1080x720 with 6 Axes>"
      ]
     },
     "metadata": {
      "needs_background": "light"
     },
     "output_type": "display_data"
    }
   ],
   "source": [
    "ind_net = 5 # 7 = full network = the only one with interesting behaviour plots...\n",
    "\n",
    "behaviour_plot(CMAT_BLOC[ind_net], prange=PRANGE, net=NETS_NUM[ind_net], ratio=True)"
   ]
  },
  {
   "cell_type": "code",
   "execution_count": 128,
   "metadata": {},
   "outputs": [
    {
     "name": "stdout",
     "output_type": "stream",
     "text": [
      "Network 3-6 behaviour-plot saved in data_TOM/FGSM_#1000_0.001_23-05/behaviour-plot_3-6\n",
      "Network 5-6 behaviour-plot saved in data_TOM/FGSM_#1000_0.001_23-05/behaviour-plot_5-6\n",
      "Network 2-6 behaviour-plot saved in data_TOM/FGSM_#1000_0.001_23-05/behaviour-plot_2-6\n",
      "Network 4-5 behaviour-plot saved in data_TOM/FGSM_#1000_0.001_23-05/behaviour-plot_4-5\n",
      "Network 2-1 behaviour-plot saved in data_TOM/FGSM_#1000_0.001_23-05/behaviour-plot_2-1\n",
      "Network 3-1 behaviour-plot saved in data_TOM/FGSM_#1000_0.001_23-05/behaviour-plot_3-1\n",
      "Network 1-7 behaviour-plot saved in data_TOM/FGSM_#1000_0.001_23-05/behaviour-plot_1-7\n",
      "Network 1-1 behaviour-plot saved in data_TOM/FGSM_#1000_0.001_23-05/behaviour-plot_1-1\n",
      "Network 1-9 behaviour-plot saved in data_TOM/FGSM_#1000_0.001_23-05/behaviour-plot_1-9\n"
     ]
    }
   ],
   "source": [
    "# save several behaviour-plot\n",
    "for inet in range(9):\n",
    "    behaviour_plot(CMAT_BLOC[inet], prange=PRANGE, net=NETS_NUM[inet], ratio=True,\n",
    "                   savefile = \"data_TOM/\" + \"FGSM_#1000_0.001_23-05/\" + \"behaviour-plot_{0}-{1}\".format(NETS_NUM[inet][0],NETS_NUM[inet][1]))"
   ]
  },
  {
   "cell_type": "markdown",
   "metadata": {},
   "source": [
    "# 5 - Evaluate the saturation on the boundaries when using an attack"
   ]
  },
  {
   "cell_type": "code",
   "execution_count": 129,
   "metadata": {},
   "outputs": [],
   "source": [
    "def get_saturated_coord(adv_pts, tol=1e-4):\n",
    "    \"\"\" For every adversarial point 'a' in adv_pts, return 'm' where m[k]=1 if a[k] is close to a lower or upper boundary\n",
    "        defined by inputs_domain and m[k]=0 otherwise ('close to' means at a distance < tol). \"\"\"\n",
    "    npts = adv_pts.shape[0]\n",
    "    mask = np.zeros((npts,5))\n",
    "    for i in range(5):\n",
    "        binf = inputs_domain[0,i] ; bsup = inputs_domain[1,i]\n",
    "        for k in range(npts):\n",
    "            ki = adv_pts[k,i]\n",
    "            if (ki - binf < tol) or (bsup - ki) < tol:\n",
    "                mask[k,i] = 1\n",
    "    return(mask)"
   ]
  },
  {
   "cell_type": "markdown",
   "metadata": {},
   "source": [
    "Visualize the evolution of the level of saturation for each coordinates using the function ***saturation_plot*** :"
   ]
  },
  {
   "cell_type": "code",
   "execution_count": 136,
   "metadata": {},
   "outputs": [],
   "source": [
    "def saturation_plot(base_pts, adv_pts, prange, net=(1,1), method=\"fgsm\", show=True, savefile=None):\n",
    "    \"\"\" Plot the saturation of the points coordinates as a function of the attack intensity (prange). \"\"\"\n",
    "    \n",
    "    nset = adv_pts.shape[0] + 1\n",
    "    npts = base_pts.shape[0]\n",
    "    \n",
    "    if len(prange) < nset: # need to consider the initial setting without any attack\n",
    "        prange = [0] + prange\n",
    "\n",
    "    sat_tab = np.zeros((nset,5))\n",
    "    \n",
    "    mask_init = get_saturated_coord(base_pts)\n",
    "    sat_tab[0,:] = np.sum(mask_init, axis=0)\n",
    "    \n",
    "    for k in range(0,nset-1):\n",
    "        mask_k = get_saturated_coord(adv_pts[k])\n",
    "        sat_tab[k+1,:] = np.sum(mask_k, axis=0)\n",
    "    \n",
    "    fig = plt.figure(figsize=(8, 6))\n",
    "    for k in range(5):\n",
    "        plt.plot(prange, sat_tab[:,k], label=input_latex_names[k])\n",
    "    plt.legend(loc='center left', bbox_to_anchor=(1, 0.5), fontsize=\"xx-large\")\n",
    "    plt.xlabel(\"intensity\", size=14) ; plt.ylabel(\"number of points\", size=14)\n",
    "    plt.title(\"Saturation of network {0}-{1} with {2} on {3} points\".format(net[0],net[1],method.upper(), npts), size=16)\n",
    "    \n",
    "    if show and (savefile == None):\n",
    "        plt.show()\n",
    "    if savefile != None:\n",
    "        plt.savefig(savefile, bbox_inches=\"tight\") ; plt.close(fig)\n",
    "        print(\"Network {0}-{1} behaviour-plot saved in {2}\".format(net[0], net[1], savefile))"
   ]
  },
  {
   "cell_type": "markdown",
   "metadata": {},
   "source": [
    "**Example :** Visualize the evolution of the level of saturation for each of the 5 coordinates."
   ]
  },
  {
   "cell_type": "code",
   "execution_count": 149,
   "metadata": {},
   "outputs": [
    {
     "data": {
      "image/png": "[encoded data removed]",
      "text/plain": [
       "<Figure size 576x432 with 1 Axes>"
      ]
     },
     "metadata": {
      "needs_background": "light"
     },
     "output_type": "display_data"
    }
   ],
   "source": [
    "ind_net = 0\n",
    "\n",
    "saturation_plot(BASE_PTS, ALL_ADV_PTS[ind_net], net=NETS_NUM[ind_net], prange=PRANGE)"
   ]
  },
  {
   "cell_type": "code",
   "execution_count": 150,
   "metadata": {},
   "outputs": [
    {
     "name": "stdout",
     "output_type": "stream",
     "text": [
      "Network 3-6 behaviour-plot saved in data_TOM/FGSM_#1000_0.01_20-05/saturation-plot_3-6\n"
     ]
    }
   ],
   "source": [
    "# save saturation-plot\n",
    "ind_net = 0\n",
    "\n",
    "saturation_plot(BASE_PTS, ALL_ADV_PTS[ind_net], prange=PRANGE, net=NETS_NUM[ind_net],\n",
    "                savefile = \"data_TOM/\" + \"FGSM_#1000_0.01_20-05/\" + \"saturation-plot_{0}-{1}\".format(NETS_NUM[ind_net][0],NETS_NUM[ind_net][1]))"
   ]
  }
 ],
 "metadata": {
  "colab": {
   "name": "ConfusionMatrix_PIERRE.ipynb",
   "provenance": []
  },
  "kernelspec": {
   "display_name": "Python 3",
   "language": "python",
   "name": "python3"
  },
  "language_info": {
   "codemirror_mode": {
    "name": "ipython",
    "version": 3
   },
   "file_extension": ".py",
   "mimetype": "text/x-python",
   "name": "python",
   "nbconvert_exporter": "python",
   "pygments_lexer": "ipython3",
   "version": "3.8.3"
  },
  "widgets": {
   "application/vnd.jupyter.widget-state+json": {
    "0915c81104a9415da7ba6f956980a9ab": {
     "model_module": "@jupyter-widgets/controls",
     "model_module_version": "1.5.0",
     "model_name": "DescriptionStyleModel",
     "state": {
      "_model_module": "@jupyter-widgets/controls",
      "_model_module_version": "1.5.0",
      "_model_name": "DescriptionStyleModel",
      "_view_count": null,
      "_view_module": "@jupyter-widgets/base",
      "_view_module_version": "1.2.0",
      "_view_name": "StyleView",
      "description_width": ""
     }
    },
    "2ffd53ad8b5a448e84f919295fb4e43d": {
     "model_module": "@jupyter-widgets/controls",
     "model_module_version": "1.5.0",
     "model_name": "HTMLModel",
     "state": {
      "_dom_classes": [],
      "_model_module": "@jupyter-widgets/controls",
      "_model_module_version": "1.5.0",
      "_model_name": "HTMLModel",
      "_view_count": null,
      "_view_module": "@jupyter-widgets/controls",
      "_view_module_version": "1.5.0",
      "_view_name": "HTMLView",
      "description": "",
      "description_tooltip": null,
      "layout": "IPY_MODEL_84fdedd24ee24fd4a1239856442dbad3",
      "placeholder": "​",
      "style": "IPY_MODEL_0915c81104a9415da7ba6f956980a9ab",
      "value": " 50/50 [00:12&lt;00:00,  4.32it/s]"
     }
    },
    "3a6522008b7d4c5dba1024773ca85c13": {
     "model_module": "@jupyter-widgets/controls",
     "model_module_version": "1.5.0",
     "model_name": "DescriptionStyleModel",
     "state": {
      "_model_module": "@jupyter-widgets/controls",
      "_model_module_version": "1.5.0",
      "_model_name": "DescriptionStyleModel",
      "_view_count": null,
      "_view_module": "@jupyter-widgets/base",
      "_view_module_version": "1.2.0",
      "_view_name": "StyleView",
      "description_width": ""
     }
    },
    "3de6fc130ea144a2bad0ec86020273a9": {
     "model_module": "@jupyter-widgets/controls",
     "model_module_version": "1.5.0",
     "model_name": "HTMLModel",
     "state": {
      "_dom_classes": [],
      "_model_module": "@jupyter-widgets/controls",
      "_model_module_version": "1.5.0",
      "_model_name": "HTMLModel",
      "_view_count": null,
      "_view_module": "@jupyter-widgets/controls",
      "_view_module_version": "1.5.0",
      "_view_name": "HTMLView",
      "description": "",
      "description_tooltip": null,
      "layout": "IPY_MODEL_c01c451b95cc4171b3c6d08dd93c6b61",
      "placeholder": "​",
      "style": "IPY_MODEL_3a6522008b7d4c5dba1024773ca85c13",
      "value": "NewtonFool: 100%"
     }
    },
    "4775b348f26c4888bc61dac8854b7be8": {
     "model_module": "@jupyter-widgets/controls",
     "model_module_version": "1.5.0",
     "model_name": "FloatProgressModel",
     "state": {
      "_dom_classes": [],
      "_model_module": "@jupyter-widgets/controls",
      "_model_module_version": "1.5.0",
      "_model_name": "FloatProgressModel",
      "_view_count": null,
      "_view_module": "@jupyter-widgets/controls",
      "_view_module_version": "1.5.0",
      "_view_name": "ProgressView",
      "bar_style": "success",
      "description": "",
      "description_tooltip": null,
      "layout": "IPY_MODEL_b12c2886eede4931bbba5fafd1a5bc9d",
      "max": 50,
      "min": 0,
      "orientation": "horizontal",
      "style": "IPY_MODEL_e40e462d96bb4e8a8d79d4db4d5f5937",
      "value": 50
     }
    },
    "6840433b6f0344439bbcd40d535b291f": {
     "model_module": "@jupyter-widgets/base",
     "model_module_version": "1.2.0",
     "model_name": "LayoutModel",
     "state": {
      "_model_module": "@jupyter-widgets/base",
      "_model_module_version": "1.2.0",
      "_model_name": "LayoutModel",
      "_view_count": null,
      "_view_module": "@jupyter-widgets/base",
      "_view_module_version": "1.2.0",
      "_view_name": "LayoutView",
      "align_content": null,
      "align_items": null,
      "align_self": null,
      "border": null,
      "bottom": null,
      "display": null,
      "flex": null,
      "flex_flow": null,
      "grid_area": null,
      "grid_auto_columns": null,
      "grid_auto_flow": null,
      "grid_auto_rows": null,
      "grid_column": null,
      "grid_gap": null,
      "grid_row": null,
      "grid_template_areas": null,
      "grid_template_columns": null,
      "grid_template_rows": null,
      "height": null,
      "justify_content": null,
      "justify_items": null,
      "left": null,
      "margin": null,
      "max_height": null,
      "max_width": null,
      "min_height": null,
      "min_width": null,
      "object_fit": null,
      "object_position": null,
      "order": null,
      "overflow": null,
      "overflow_x": null,
      "overflow_y": null,
      "padding": null,
      "right": null,
      "top": null,
      "visibility": null,
      "width": null
     }
    },
    "799ed959c60847a4ac84b84c60b84219": {
     "model_module": "@jupyter-widgets/controls",
     "model_module_version": "1.5.0",
     "model_name": "HBoxModel",
     "state": {
      "_dom_classes": [],
      "_model_module": "@jupyter-widgets/controls",
      "_model_module_version": "1.5.0",
      "_model_name": "HBoxModel",
      "_view_count": null,
      "_view_module": "@jupyter-widgets/controls",
      "_view_module_version": "1.5.0",
      "_view_name": "HBoxView",
      "box_style": "",
      "children": [
       "IPY_MODEL_3de6fc130ea144a2bad0ec86020273a9",
       "IPY_MODEL_4775b348f26c4888bc61dac8854b7be8",
       "IPY_MODEL_2ffd53ad8b5a448e84f919295fb4e43d"
      ],
      "layout": "IPY_MODEL_6840433b6f0344439bbcd40d535b291f"
     }
    },
    "84fdedd24ee24fd4a1239856442dbad3": {
     "model_module": "@jupyter-widgets/base",
     "model_module_version": "1.2.0",
     "model_name": "LayoutModel",
     "state": {
      "_model_module": "@jupyter-widgets/base",
      "_model_module_version": "1.2.0",
      "_model_name": "LayoutModel",
      "_view_count": null,
      "_view_module": "@jupyter-widgets/base",
      "_view_module_version": "1.2.0",
      "_view_name": "LayoutView",
      "align_content": null,
      "align_items": null,
      "align_self": null,
      "border": null,
      "bottom": null,
      "display": null,
      "flex": null,
      "flex_flow": null,
      "grid_area": null,
      "grid_auto_columns": null,
      "grid_auto_flow": null,
      "grid_auto_rows": null,
      "grid_column": null,
      "grid_gap": null,
      "grid_row": null,
      "grid_template_areas": null,
      "grid_template_columns": null,
      "grid_template_rows": null,
      "height": null,
      "justify_content": null,
      "justify_items": null,
      "left": null,
      "margin": null,
      "max_height": null,
      "max_width": null,
      "min_height": null,
      "min_width": null,
      "object_fit": null,
      "object_position": null,
      "order": null,
      "overflow": null,
      "overflow_x": null,
      "overflow_y": null,
      "padding": null,
      "right": null,
      "top": null,
      "visibility": null,
      "width": null
     }
    },
    "b12c2886eede4931bbba5fafd1a5bc9d": {
     "model_module": "@jupyter-widgets/base",
     "model_module_version": "1.2.0",
     "model_name": "LayoutModel",
     "state": {
      "_model_module": "@jupyter-widgets/base",
      "_model_module_version": "1.2.0",
      "_model_name": "LayoutModel",
      "_view_count": null,
      "_view_module": "@jupyter-widgets/base",
      "_view_module_version": "1.2.0",
      "_view_name": "LayoutView",
      "align_content": null,
      "align_items": null,
      "align_self": null,
      "border": null,
      "bottom": null,
      "display": null,
      "flex": null,
      "flex_flow": null,
      "grid_area": null,
      "grid_auto_columns": null,
      "grid_auto_flow": null,
      "grid_auto_rows": null,
      "grid_column": null,
      "grid_gap": null,
      "grid_row": null,
      "grid_template_areas": null,
      "grid_template_columns": null,
      "grid_template_rows": null,
      "height": null,
      "justify_content": null,
      "justify_items": null,
      "left": null,
      "margin": null,
      "max_height": null,
      "max_width": null,
      "min_height": null,
      "min_width": null,
      "object_fit": null,
      "object_position": null,
      "order": null,
      "overflow": null,
      "overflow_x": null,
      "overflow_y": null,
      "padding": null,
      "right": null,
      "top": null,
      "visibility": null,
      "width": null
     }
    },
    "c01c451b95cc4171b3c6d08dd93c6b61": {
     "model_module": "@jupyter-widgets/base",
     "model_module_version": "1.2.0",
     "model_name": "LayoutModel",
     "state": {
      "_model_module": "@jupyter-widgets/base",
      "_model_module_version": "1.2.0",
      "_model_name": "LayoutModel",
      "_view_count": null,
      "_view_module": "@jupyter-widgets/base",
      "_view_module_version": "1.2.0",
      "_view_name": "LayoutView",
      "align_content": null,
      "align_items": null,
      "align_self": null,
      "border": null,
      "bottom": null,
      "display": null,
      "flex": null,
      "flex_flow": null,
      "grid_area": null,
      "grid_auto_columns": null,
      "grid_auto_flow": null,
      "grid_auto_rows": null,
      "grid_column": null,
      "grid_gap": null,
      "grid_row": null,
      "grid_template_areas": null,
      "grid_template_columns": null,
      "grid_template_rows": null,
      "height": null,
      "justify_content": null,
      "justify_items": null,
      "left": null,
      "margin": null,
      "max_height": null,
      "max_width": null,
      "min_height": null,
      "min_width": null,
      "object_fit": null,
      "object_position": null,
      "order": null,
      "overflow": null,
      "overflow_x": null,
      "overflow_y": null,
      "padding": null,
      "right": null,
      "top": null,
      "visibility": null,
      "width": null
     }
    },
    "e40e462d96bb4e8a8d79d4db4d5f5937": {
     "model_module": "@jupyter-widgets/controls",
     "model_module_version": "1.5.0",
     "model_name": "ProgressStyleModel",
     "state": {
      "_model_module": "@jupyter-widgets/controls",
      "_model_module_version": "1.5.0",
      "_model_name": "ProgressStyleModel",
      "_view_count": null,
      "_view_module": "@jupyter-widgets/base",
      "_view_module_version": "1.2.0",
      "_view_name": "StyleView",
      "bar_color": null,
      "description_width": ""
     }
    }
   }
  }
 },
 "nbformat": 4,
 "nbformat_minor": 1
}
