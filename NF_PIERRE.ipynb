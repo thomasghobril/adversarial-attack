{
  "cells": [
    {
      "cell_type": "markdown",
      "metadata": {
        "id": "PqheWYdjDSsU"
      },
      "source": [
        "# 1. Imports"
      ]
    },
    {
      "cell_type": "code",
      "execution_count": 91,
      "metadata": {
        "id": "LCP_8-BEDSsZ"
      },
      "outputs": [],
      "source": [
        "import numpy as np\n",
        "from math import pi\n",
        "\n",
        "import seaborn as sn\n",
        "import pandas as pd"
      ]
    },
    {
      "cell_type": "code",
      "execution_count": 62,
      "metadata": {
        "id": "kCsWJI4BDSsc"
      },
      "outputs": [],
      "source": [
        "from tensorflow.keras.models import load_model"
      ]
    },
    {
      "cell_type": "code",
      "execution_count": 63,
      "metadata": {
        "id": "4PlFeEsADSsf"
      },
      "outputs": [],
      "source": [
        "from tensorflow.keras.losses import MSE\n",
        "from tensorflow.keras.losses import categorical_crossentropy as CCE\n",
        "import tensorflow as tf"
      ]
    },
    {
      "cell_type": "code",
      "source": [
        "!pip install adversarial-robustness-toolbox"
      ],
      "metadata": {
        "colab": {
          "base_uri": "https://localhost:8080/"
        },
        "id": "PjRU7s4zD_xz",
        "outputId": "0bc62d2b-66b8-4e3c-dd25-234e31c214a3"
      },
      "execution_count": 64,
      "outputs": [
        {
          "output_type": "stream",
          "name": "stdout",
          "text": [
            "Requirement already satisfied: adversarial-robustness-toolbox in /usr/local/lib/python3.7/dist-packages (1.10.1)\n",
            "Requirement already satisfied: scikit-learn<1.1.0,>=0.22.2 in /usr/local/lib/python3.7/dist-packages (from adversarial-robustness-toolbox) (1.0.2)\n",
            "Requirement already satisfied: tqdm in /usr/local/lib/python3.7/dist-packages (from adversarial-robustness-toolbox) (4.64.0)\n",
            "Requirement already satisfied: six in /usr/local/lib/python3.7/dist-packages (from adversarial-robustness-toolbox) (1.15.0)\n",
            "Requirement already satisfied: numpy>=1.18.0 in /usr/local/lib/python3.7/dist-packages (from adversarial-robustness-toolbox) (1.21.6)\n",
            "Requirement already satisfied: setuptools in /usr/local/lib/python3.7/dist-packages (from adversarial-robustness-toolbox) (39.2.0)\n",
            "Requirement already satisfied: numba>=0.53.1 in /usr/local/lib/python3.7/dist-packages (from adversarial-robustness-toolbox) (0.55.1)\n",
            "Requirement already satisfied: scipy>=1.4.1 in /usr/local/lib/python3.7/dist-packages (from adversarial-robustness-toolbox) (1.4.1)\n",
            "Requirement already satisfied: llvmlite<0.39,>=0.38.0rc1 in /usr/local/lib/python3.7/dist-packages (from numba>=0.53.1->adversarial-robustness-toolbox) (0.38.0)\n",
            "Requirement already satisfied: threadpoolctl>=2.0.0 in /usr/local/lib/python3.7/dist-packages (from scikit-learn<1.1.0,>=0.22.2->adversarial-robustness-toolbox) (3.1.0)\n",
            "Requirement already satisfied: joblib>=0.11 in /usr/local/lib/python3.7/dist-packages (from scikit-learn<1.1.0,>=0.22.2->adversarial-robustness-toolbox) (1.1.0)\n"
          ]
        }
      ]
    },
    {
      "cell_type": "code",
      "execution_count": 65,
      "metadata": {
        "id": "9TWCyqGjDSsg"
      },
      "outputs": [],
      "source": [
        "from art import *\n",
        "\n",
        "from art.attacks.evasion import *\n",
        "from art.estimators.classification import TensorFlowV2Classifier\n",
        "\n",
        "from matplotlib import pyplot as plt\n",
        "\n",
        "import numpy as np\n",
        "\n",
        "from tensorflow.keras import Model\n",
        "from tensorflow.keras.layers import Dense, Flatten, Conv2D\n",
        "import tensorflow as tf\n",
        "\n",
        "import os\n",
        "import warnings\n",
        "warnings.filterwarnings('ignore')\n",
        "os.environ['TF_CPP_MIN_LOG_LEVEL'] = '3'"
      ]
    },
    {
      "cell_type": "code",
      "execution_count": null,
      "metadata": {
        "id": "MxP1fK-SDSsj"
      },
      "outputs": [],
      "source": [
        "# Load properties from another python file\n",
        "from properties import *"
      ]
    },
    {
      "cell_type": "code",
      "execution_count": 66,
      "metadata": {
        "id": "s1TEQep5DSsm"
      },
      "outputs": [],
      "source": [
        "from random import random, randint"
      ]
    },
    {
      "cell_type": "markdown",
      "metadata": {
        "id": "i3NN82SoDSso"
      },
      "source": [
        "# 2. Load models"
      ]
    },
    {
      "cell_type": "code",
      "execution_count": 67,
      "metadata": {
        "id": "96AJHk3ZDSsp"
      },
      "outputs": [],
      "source": [
        "path_model = \"/content/ACASXU_1_1.h5\""
      ]
    },
    {
      "cell_type": "code",
      "execution_count": 68,
      "metadata": {
        "colab": {
          "base_uri": "https://localhost:8080/"
        },
        "id": "KHnJ0k26DSss",
        "outputId": "f4dd64c0-0fec-42c0-fc91-81335f9c5380"
      },
      "outputs": [
        {
          "output_type": "stream",
          "name": "stdout",
          "text": [
            "WARNING:tensorflow:No training configuration found in the save file, so the model was *not* compiled. Compile it manually.\n"
          ]
        }
      ],
      "source": [
        "model_11 = load_model(path_model)"
      ]
    },
    {
      "cell_type": "code",
      "execution_count": 69,
      "metadata": {
        "id": "wP6VJtVBDSsx"
      },
      "outputs": [],
      "source": [
        "model_11.compile()"
      ]
    },
    {
      "cell_type": "code",
      "execution_count": 70,
      "metadata": {
        "colab": {
          "base_uri": "https://localhost:8080/"
        },
        "id": "j3lNNXYZDSsy",
        "outputId": "9d0e3471-a870-4039-c3b8-f4c518778b87"
      },
      "outputs": [
        {
          "output_type": "execute_result",
          "data": {
            "text/plain": [
              "array([[0.19883643, 0.20087564, 0.19964513, 0.20093843, 0.19970441]],\n",
              "      dtype=float32)"
            ]
          },
          "metadata": {},
          "execution_count": 70
        }
      ],
      "source": [
        "pt = np.array([1.0, 1.0, 1.0, 1.0, 1.0]).reshape(1,5)\n",
        "model_11.predict(pt)"
      ]
    },
    {
      "cell_type": "code",
      "execution_count": 71,
      "metadata": {
        "id": "B2DPtHT_DSsz"
      },
      "outputs": [],
      "source": [
        "ACAS_model = model_11"
      ]
    },
    {
      "cell_type": "markdown",
      "metadata": {
        "id": "7j5RS1OfDSs0"
      },
      "source": [
        "# 3. Carlini & Wagner = CW"
      ]
    },
    {
      "cell_type": "code",
      "execution_count": 45,
      "metadata": {
        "colab": {
          "base_uri": "https://localhost:8080/"
        },
        "id": "Fv3XJkDhDSs1",
        "outputId": "d6498674-4baf-43e5-f1ae-56133ac187c8"
      },
      "outputs": [
        {
          "output_type": "stream",
          "name": "stdout",
          "text": [
            "(1, 5)\n",
            "[[0.8 0.8 0.8 0.8 0.8]]\n",
            "2\n"
          ]
        }
      ],
      "source": [
        "x_test = 0.8*np.array([1.0, 1.0, 1.0, 1.0, 1.0]).reshape(1, 5)\n",
        "print(x_test.shape)\n",
        "print(x_test)\n",
        "print(x_test.ndim)"
      ]
    },
    {
      "cell_type": "code",
      "execution_count": 46,
      "metadata": {
        "id": "Mi6m4IBXDSs2"
      },
      "outputs": [],
      "source": [
        "ACAS_classifier = TensorFlowV2Classifier(\n",
        "    model=ACAS_model,\n",
        "    loss_object=MSE,\n",
        "    train_step=None,\n",
        "    nb_classes=5,\n",
        "    input_shape=(1, 5),\n",
        "    clip_values=(-1.0, 1.0),\n",
        ")"
      ]
    },
    {
      "cell_type": "code",
      "execution_count": 47,
      "metadata": {
        "colab": {
          "base_uri": "https://localhost:8080/",
          "height": 357
        },
        "id": "sdYziJzCDSs3",
        "outputId": "ff7960f9-4fb0-4047-e92e-af8f2e718a85"
      },
      "outputs": [
        {
          "output_type": "error",
          "ename": "ValueError",
          "evalue": "ignored",
          "traceback": [
            "\u001b[0;31m---------------------------------------------------------------------------\u001b[0m",
            "\u001b[0;31mValueError\u001b[0m                                Traceback (most recent call last)",
            "\u001b[0;32m<ipython-input-47-1c9a1c1308be>\u001b[0m in \u001b[0;36m<module>\u001b[0;34m()\u001b[0m\n\u001b[1;32m      5\u001b[0m                              verbose=True)\n\u001b[1;32m      6\u001b[0m \u001b[0;34m\u001b[0m\u001b[0m\n\u001b[0;32m----> 7\u001b[0;31m \u001b[0mx_adv_shadow\u001b[0m \u001b[0;34m=\u001b[0m \u001b[0mattack_Shadow\u001b[0m\u001b[0;34m.\u001b[0m\u001b[0mgenerate\u001b[0m\u001b[0;34m(\u001b[0m\u001b[0mx_test\u001b[0m\u001b[0;34m)\u001b[0m \u001b[0;31m#, y=np.array([[0,1,0,0,0]]))\u001b[0m\u001b[0;34m\u001b[0m\u001b[0;34m\u001b[0m\u001b[0m\n\u001b[0m\u001b[1;32m      8\u001b[0m \u001b[0;34m\u001b[0m\u001b[0m\n\u001b[1;32m      9\u001b[0m \u001b[0mprint\u001b[0m\u001b[0;34m(\u001b[0m\u001b[0mx_adv_shadow\u001b[0m\u001b[0;34m.\u001b[0m\u001b[0mshape\u001b[0m\u001b[0;34m)\u001b[0m\u001b[0;34m\u001b[0m\u001b[0;34m\u001b[0m\u001b[0m\n",
            "\u001b[0;32m/usr/local/lib/python3.7/dist-packages/art/attacks/evasion/shadow_attack.py\u001b[0m in \u001b[0;36mgenerate\u001b[0;34m(self, x, y, **kwargs)\u001b[0m\n\u001b[1;32m    143\u001b[0m \u001b[0;34m\u001b[0m\u001b[0m\n\u001b[1;32m    144\u001b[0m         \u001b[0;32mif\u001b[0m \u001b[0mx\u001b[0m\u001b[0;34m.\u001b[0m\u001b[0mndim\u001b[0m \u001b[0;34m!=\u001b[0m \u001b[0;36m4\u001b[0m\u001b[0;34m:\u001b[0m  \u001b[0;31m# pragma: no cover\u001b[0m\u001b[0;34m\u001b[0m\u001b[0;34m\u001b[0m\u001b[0m\n\u001b[0;32m--> 145\u001b[0;31m             \u001b[0;32mraise\u001b[0m \u001b[0mValueError\u001b[0m\u001b[0;34m(\u001b[0m\u001b[0;34m\"Unrecognized input dimension. Shadow Attack can only be applied to image data.\"\u001b[0m\u001b[0;34m)\u001b[0m\u001b[0;34m\u001b[0m\u001b[0;34m\u001b[0m\u001b[0m\n\u001b[0m\u001b[1;32m    146\u001b[0m \u001b[0;34m\u001b[0m\u001b[0m\n\u001b[1;32m    147\u001b[0m         \u001b[0mx\u001b[0m \u001b[0;34m=\u001b[0m \u001b[0mx\u001b[0m\u001b[0;34m.\u001b[0m\u001b[0mastype\u001b[0m\u001b[0;34m(\u001b[0m\u001b[0mART_NUMPY_DTYPE\u001b[0m\u001b[0;34m)\u001b[0m\u001b[0;34m\u001b[0m\u001b[0;34m\u001b[0m\u001b[0m\n",
            "\u001b[0;31mValueError\u001b[0m: Unrecognized input dimension. Shadow Attack can only be applied to image data."
          ]
        }
      ],
      "source": [
        "attack_Shadow = ShadowAttack(estimator=ACAS_classifier, \n",
        "                             lambda_tv=0.3, \n",
        "                             sigma=0.8, \n",
        "                             nb_steps=10,\n",
        "                             verbose=True)\n",
        "\n",
        "x_adv_shadow = attack_Shadow.generate(x_test) #, y=np.array([[0,1,0,0,0]]))\n",
        "\n",
        "print(x_adv_shadow.shape)\n",
        "print(x_adv_shadow)"
      ]
    },
    {
      "cell_type": "code",
      "source": [
        "attack_NF = NewtonFool(classifier=ACAS_classifier, \n",
        "                       eta=0.95, \n",
        "                       max_iter = 20,\n",
        "                       verbose=True)\n",
        "\n",
        "x_adv_nf = attack_NF.generate(x_test) #, y=np.array([[0,1,0,0,0]]))\n",
        "\n",
        "print(x_adv_nf.shape)\n",
        "print(x_adv_nf)"
      ],
      "metadata": {
        "colab": {
          "base_uri": "https://localhost:8080/",
          "height": 84,
          "referenced_widgets": [
            "3e9edc0fcc3144dbbb28dc3d18a1b2df",
            "f5f5a844f1f249109932fd9769dc9096",
            "0c508500e9894f5e928d068b3f50689f",
            "d04f8bb495134a53b3f0ad2c826bcf67",
            "8ff0fd04b4ac4f8da28eb58c8724f9fa",
            "4ac5a9e4c4f745e19b10f0d45d8dbdc8",
            "abe633f2bfd748e6ba2cc01abfca04c7",
            "2fe2ff1bad284c9a91fdfe58f92267b2",
            "59fff2f0acad4ebbbc66e7fd4087eac7",
            "5063ba0b11ef474199141330ac5b06d0",
            "9c14a2d02f664eed937d5cf46b4afe2a"
          ]
        },
        "id": "z7LpgNtxMD63",
        "outputId": "a036c1e8-79af-4db8-8d57-dd42251ba824"
      },
      "execution_count": 72,
      "outputs": [
        {
          "output_type": "display_data",
          "data": {
            "text/plain": [
              "NewtonFool:   0%|          | 0/1 [00:00<?, ?it/s]"
            ],
            "application/vnd.jupyter.widget-view+json": {
              "version_major": 2,
              "version_minor": 0,
              "model_id": "3e9edc0fcc3144dbbb28dc3d18a1b2df"
            }
          },
          "metadata": {}
        },
        {
          "output_type": "stream",
          "name": "stdout",
          "text": [
            "(1, 5)\n",
            "[[0.6790788 0.3252571 0.9147245 0.7498163 0.803792 ]]\n"
          ]
        }
      ]
    },
    {
      "cell_type": "code",
      "source": [
        "model_11.summary()"
      ],
      "metadata": {
        "colab": {
          "base_uri": "https://localhost:8080/"
        },
        "id": "Kj6y5qYFLvQj",
        "outputId": "45d8edfb-9150-4a08-de87-e6d7d0fd9c0f"
      },
      "execution_count": 73,
      "outputs": [
        {
          "output_type": "stream",
          "name": "stdout",
          "text": [
            "Model: \"sequential_14\"\n",
            "_________________________________________________________________\n",
            " Layer (type)                Output Shape              Param #   \n",
            "=================================================================\n",
            " dense_98 (Dense)            (None, 50)                300       \n",
            "                                                                 \n",
            " activation_98 (Activation)  (None, 50)                0         \n",
            "                                                                 \n",
            " dense_99 (Dense)            (None, 50)                2550      \n",
            "                                                                 \n",
            " activation_99 (Activation)  (None, 50)                0         \n",
            "                                                                 \n",
            " dense_100 (Dense)           (None, 50)                2550      \n",
            "                                                                 \n",
            " activation_100 (Activation)  (None, 50)               0         \n",
            "                                                                 \n",
            " dense_101 (Dense)           (None, 50)                2550      \n",
            "                                                                 \n",
            " activation_101 (Activation)  (None, 50)               0         \n",
            "                                                                 \n",
            " dense_102 (Dense)           (None, 50)                2550      \n",
            "                                                                 \n",
            " activation_102 (Activation)  (None, 50)               0         \n",
            "                                                                 \n",
            " dense_103 (Dense)           (None, 50)                2550      \n",
            "                                                                 \n",
            " activation_103 (Activation)  (None, 50)               0         \n",
            "                                                                 \n",
            " dense_104 (Dense)           (None, 5)                 255       \n",
            "                                                                 \n",
            " activation_104 (Activation)  (None, 5)                0         \n",
            "                                                                 \n",
            "=================================================================\n",
            "Total params: 13,305\n",
            "Trainable params: 13,305\n",
            "Non-trainable params: 0\n",
            "_________________________________________________________________\n"
          ]
        }
      ]
    },
    {
      "cell_type": "markdown",
      "metadata": {
        "id": "ggMzC7jpDSs4"
      },
      "source": [
        "# 4. Generate points"
      ]
    },
    {
      "cell_type": "code",
      "execution_count": null,
      "metadata": {
        "id": "xz9tC33_DSs4"
      },
      "outputs": [],
      "source": [
        "def random_pts(n, prop_dom, main_dom):\n",
        "    \"\"\" prop_dom is a list of domains given by intervals in a numpy 2x5 table. \"\"\"\n",
        "    ndom = len(prop_dom)\n",
        "    ndim = main_dom.shape[1]\n",
        "    \n",
        "    x = np.zeros((n,ndim))\n",
        "    for i in range(n): # generate the i-th point\n",
        "        choosen_dom = prop_dom[randint(0,ndom-1)] # choose the input property domain for a given prop\n",
        "        for k in range(ndim): # create a random coord for each dim\n",
        "            boundaries = main_dom[:,k]\n",
        "            if choosen_dom[0,k] != None:\n",
        "                boundaries[0] = choosen_dom[0,k]\n",
        "            if choosen_dom[1,k] != None:\n",
        "                boundaries[1] = choosen_dom[1,k]\n",
        "            x[i,k] = boundaries[0] + random()*(boundaries[1]-boundaries[0])\n",
        "\n",
        "    return(x)"
      ]
    },
    {
      "cell_type": "code",
      "execution_count": null,
      "metadata": {
        "id": "_dbo5bouDSs5"
      },
      "outputs": [],
      "source": [
        "def random_main_pts(n, main_dom):\n",
        "    \"\"\" Generate random points in the main domain given by intervals stored in a numpy 2x5 table. \"\"\"\n",
        "    ndim = main_dom.shape[1]\n",
        "    \n",
        "    x = np.zeros((n,ndim))\n",
        "    for k in range(ndim): # create a random coord for each dim\n",
        "        col = main_dom[0,k]*np.ones((n,1)) + np.random.rand(n,1)*(main_dom[1,k] - main_dom[0,k])\n",
        "        for i in range(n):\n",
        "            x[i,k] = col[i]\n",
        "\n",
        "    return(x)"
      ]
    },
    {
      "cell_type": "code",
      "execution_count": null,
      "metadata": {
        "id": "CuI89rTzDSs5"
      },
      "outputs": [],
      "source": [
        "x_test = random_main_pts(1000, X_dom)"
      ]
    },
    {
      "cell_type": "code",
      "execution_count": null,
      "metadata": {
        "id": "W_FSLth6DSs6"
      },
      "outputs": [],
      "source": [
        "def normalize(x, x_mean, x_range):\n",
        "    (n,k) = x.shape\n",
        "    nx = np.zeros((n,k))\n",
        "    for i in range(n):\n",
        "        for j in range(k):\n",
        "            nx[i,j] = (x[i,j]-x_mean[j])/x_range[j]\n",
        "    return(nx)"
      ]
    },
    {
      "cell_type": "code",
      "execution_count": null,
      "metadata": {
        "id": "kcwc4dVRDSs6"
      },
      "outputs": [],
      "source": [
        "def check_pts(model, input_pts, IP, OP):\n",
        "    n = input_pts.shape[0]\n",
        "    IO_check = np.zeros((n,2)) # 1st column : input checked - 2nd column : output checked\n",
        "    \n",
        "    norm_input = normalize(input_pts, X_mean, X_range) # normalize pts\n",
        "    \n",
        "    pred_pts = model.predict(norm_input) # make predictions with the model (neural net)\n",
        "    \n",
        "    for k in range(n):\n",
        "        IO_check[k,0] = IP(input_pts[k,:]) # check input (just in case)\n",
        "        IO_check[k,1] = OP(pred_pts[k,:]) # check output\n",
        "\n",
        "    return(IO_check, pred_pts)"
      ]
    },
    {
      "cell_type": "code",
      "execution_count": null,
      "metadata": {
        "id": "sAbWB9MHDSs8"
      },
      "outputs": [],
      "source": [
        "rand_inputs = random_pts(1000000, IP2_dom, X_dom)"
      ]
    },
    {
      "cell_type": "code",
      "execution_count": null,
      "metadata": {
        "id": "pvKrsJltDSs8"
      },
      "outputs": [],
      "source": [
        "Pcheck, pred_pts = check_pts(model_11, rand_inputs, IP1, OP1)"
      ]
    },
    {
      "cell_type": "code",
      "execution_count": null,
      "metadata": {
        "id": "2CA0Mt60DSs8"
      },
      "outputs": [],
      "source": [
        "def find_adverse(input_pts, prop_check):\n",
        "    n = prop_check.shape[0]\n",
        "    index = []\n",
        "    for k in range(n):\n",
        "        if prop_check[k,0] and not(prop_check[k,1]):\n",
        "            index.append(k)\n",
        "    return(input_pts[index,:])"
      ]
    },
    {
      "cell_type": "code",
      "execution_count": null,
      "metadata": {
        "id": "k8fobFKnDSs9",
        "outputId": "8babea55-3a52-45d0-c34f-8b3f9343c155"
      },
      "outputs": [
        {
          "name": "stdout",
          "output_type": "stream",
          "text": [
            "(0, 5)\n"
          ]
        }
      ],
      "source": [
        "adv = find_adverse(rand_inputs, Pcheck)\n",
        "print(adv.shape)"
      ]
    },
    {
      "cell_type": "code",
      "execution_count": null,
      "metadata": {
        "id": "il-RmZpZDSs-",
        "outputId": "c4d58786-4d1d-4671-ac10-521f1a30424e"
      },
      "outputs": [
        {
          "data": {
            "text/plain": [
              "(1000000, 2)"
            ]
          },
          "execution_count": 116,
          "metadata": {},
          "output_type": "execute_result"
        }
      ],
      "source": [
        "Pcheck.shape"
      ]
    },
    {
      "cell_type": "markdown",
      "metadata": {
        "id": "fcKtsOBzDSs-"
      },
      "source": [
        "# Try FGSM & CW"
      ]
    },
    {
      "cell_type": "code",
      "execution_count": 93,
      "metadata": {
        "id": "UgMOGfjUDSs-"
      },
      "outputs": [],
      "source": [
        "original_pts = np.random.rand(200, 5) # random_main_pts(10, X_dom)"
      ]
    },
    {
      "cell_type": "code",
      "execution_count": 75,
      "metadata": {
        "colab": {
          "base_uri": "https://localhost:8080/"
        },
        "id": "z1A2SDJHDSs_",
        "outputId": "c0da1c36-e098-493b-ab61-06fa930c5c35"
      },
      "outputs": [
        {
          "output_type": "stream",
          "name": "stdout",
          "text": [
            "[[0.64503868 0.22517846 0.27345505 0.18576205 0.99734877]\n",
            " [0.72422036 0.23993736 0.44570044 0.00625824 0.08875024]\n",
            " [0.75587775 0.8131253  0.05906341 0.21066995 0.90795945]\n",
            " [0.1543939  0.62929757 0.71010121 0.15883728 0.65933197]\n",
            " [0.16126769 0.08161742 0.73602627 0.72717183 0.48131994]\n",
            " [0.82536247 0.33551887 0.76086962 0.19033041 0.65826751]\n",
            " [0.20799342 0.14322862 0.92544188 0.00410809 0.98799024]\n",
            " [0.40924941 0.95484662 0.57354856 0.43402597 0.1493754 ]\n",
            " [0.00143467 0.09299703 0.09148635 0.22753118 0.79730955]\n",
            " [0.21850713 0.42806202 0.89302113 0.9552131  0.78642203]]\n"
          ]
        }
      ],
      "source": [
        "print(original_pts)"
      ]
    },
    {
      "cell_type": "code",
      "execution_count": 94,
      "metadata": {
        "colab": {
          "base_uri": "https://localhost:8080/",
          "height": 49,
          "referenced_widgets": [
            "5dd1b9f3f50146fa8042d4c3e0ac2607",
            "4fba32fa9ed4493cb11cf9648e2fa5a7",
            "0fe628be6295474cad63a60014715e1a",
            "67425b7ae91742fe92ed17f582c7faf2",
            "49e23f4a917b40059d724ea0582a059f",
            "8f4bd807d64b43e1b4a5450432c751ab",
            "47c03d9f93714ce6a0ce5400b732f31b",
            "a303a66e04684086ad5f473d098f3d58",
            "7223196c01d64f53a910c907341ea4bf",
            "867ba2495bfd493abbfe9c5d56cfccdd",
            "e31fba35e14a4475bc5362eedbd0b69c"
          ]
        },
        "id": "KzheR_b1DSs_",
        "outputId": "d09e23fb-3afb-4c21-9f1d-98591010548c"
      },
      "outputs": [
        {
          "output_type": "display_data",
          "data": {
            "text/plain": [
              "NewtonFool:   0%|          | 0/200 [00:00<?, ?it/s]"
            ],
            "application/vnd.jupyter.widget-view+json": {
              "version_major": 2,
              "version_minor": 0,
              "model_id": "5dd1b9f3f50146fa8042d4c3e0ac2607"
            }
          },
          "metadata": {}
        }
      ],
      "source": [
        "adv_pts_nf = attack_NF.generate(original_pts)"
      ]
    },
    {
      "cell_type": "code",
      "execution_count": 77,
      "metadata": {
        "colab": {
          "base_uri": "https://localhost:8080/"
        },
        "id": "zV-a5nGrDStA",
        "outputId": "1ad1a489-b673-40e9-f35b-48708be88578"
      },
      "outputs": [
        {
          "output_type": "stream",
          "name": "stdout",
          "text": [
            "NF\n",
            "[[ 0.6120344   0.31750807  0.06566731  0.19372164  0.9589168 ]\n",
            " [ 0.63566756  0.23545824  0.2616458  -0.1188745   0.18310514]\n",
            " [ 0.601638    0.405261    0.24697585  0.17026766  0.9154741 ]\n",
            " [-0.07043315  0.7073687   0.8543074   0.00230985  0.5851023 ]\n",
            " [ 0.06155502 -0.05641579  0.5702279   0.6942413   0.5245631 ]\n",
            " [ 0.731361    0.27424332  0.5833579   0.21820669  0.64795494]\n",
            " [ 0.12496914  0.13983122  0.93749195  0.02403916  0.9968333 ]\n",
            " [ 0.36185792  1.          0.29424927  0.38087067  0.21732081]\n",
            " [-0.01689305  0.10361274  0.05706991  0.0100699   0.87246776]\n",
            " [ 0.22660385  0.21254632  1.          0.9539991   0.7443011 ]]\n"
          ]
        }
      ],
      "source": [
        "print(\"NF\")\n",
        "print(adv_pts_nf)\n"
      ]
    },
    {
      "cell_type": "code",
      "execution_count": 95,
      "metadata": {
        "id": "N6USvts8DStB"
      },
      "outputs": [],
      "source": [
        "original_pred = ACAS_model.predict(original_pts)\n",
        "\n",
        "adv_pred_nf = ACAS_model.predict(adv_pts_nf)"
      ]
    },
    {
      "cell_type": "code",
      "execution_count": 79,
      "metadata": {
        "colab": {
          "base_uri": "https://localhost:8080/"
        },
        "id": "BIlWRN_WDStB",
        "outputId": "c053bd72-ad06-4ce2-c9ed-1ec617fbd78a"
      },
      "outputs": [
        {
          "output_type": "stream",
          "name": "stdout",
          "text": [
            "Original pred :\n",
            "[[0.19952835 0.2001324  0.20011587 0.20011467 0.20010875]\n",
            " [0.1995361  0.20012967 0.20011392 0.200113   0.20010738]\n",
            " [0.19954208 0.20012926 0.20011118 0.20010895 0.20010865]\n",
            " [0.19951637 0.20013674 0.20011881 0.20011702 0.20011105]\n",
            " [0.19932513 0.2075909  0.1948749  0.20957328 0.18863587]\n",
            " [0.19950749 0.200138   0.20012245 0.20012206 0.20011005]\n",
            " [0.2003104  0.19976981 0.20236728 0.19380067 0.20375185]\n",
            " [0.19867967 0.20112297 0.19944005 0.20121187 0.19954544]\n",
            " [0.19961755 0.20010535 0.20009002 0.20008808 0.20009896]\n",
            " [0.1995301  0.20013154 0.20011559 0.20011464 0.20010811]]\n",
            "NF pred :\n",
            "[[0.19956148 0.20012274 0.20010598 0.20010415 0.20010565]\n",
            " [0.19956382 0.2001216  0.20010565 0.20010419 0.20010479]\n",
            " [0.19953999 0.2001294  0.20011213 0.20011033 0.2001082 ]\n",
            " [0.19956984 0.20012017 0.20010363 0.20010176 0.20010467]\n",
            " [0.19936986 0.2000503  0.20025402 0.2        0.20032585]\n",
            " [0.1995198  0.2001347  0.20011856 0.20011768 0.20010929]\n",
            " [0.20155154 0.20030627 0.20075032 0.1973919  0.2       ]\n",
            " [0.19956538 0.20026684 0.20023686 0.19994572 0.19998527]\n",
            " [0.19962704 0.20010269 0.20008712 0.20008492 0.20009822]\n",
            " [0.2000553  0.20655629 0.19635357 0.20817913 0.1888557 ]]\n"
          ]
        }
      ],
      "source": [
        "print(\"Original pred :\")\n",
        "print(original_pred)\n",
        "\n",
        "print(\"NF pred :\")\n",
        "print(adv_pred_nf)"
      ]
    },
    {
      "cell_type": "code",
      "execution_count": 97,
      "metadata": {
        "id": "vT6q-6usDStB"
      },
      "outputs": [],
      "source": [
        "original_advice = np.argmin(original_pred, axis=1)\n",
        "\n",
        "nf_advice = np.argmin(adv_pred_nf, axis=1)"
      ]
    },
    {
      "cell_type": "code",
      "execution_count": 81,
      "metadata": {
        "colab": {
          "base_uri": "https://localhost:8080/"
        },
        "id": "LhQb9WwnDStC",
        "outputId": "01efe6ae-e694-4479-9f13-055c04920d37"
      },
      "outputs": [
        {
          "output_type": "stream",
          "name": "stdout",
          "text": [
            "[0 0 0 0 4 0 3 0 0 0]\n",
            "[0 0 0 0 0 0 3 0 0 4]\n"
          ]
        }
      ],
      "source": [
        "print(original_advice)\n",
        "\n",
        "print(nf_advice)"
      ]
    },
    {
      "cell_type": "code",
      "execution_count": 83,
      "metadata": {
        "id": "jtrNUZspDStE"
      },
      "outputs": [],
      "source": [
        "def confusion_matrix(pred0, pred1, n_classes=5):\n",
        "    \"\"\" Create the n_classes*n_classes confusion matrix of pred1 compared to the original pred0. \n",
        "        - cmat[i,j] = nb of pts classified as i at the origin and as j after the attack \"\"\"\n",
        "    cmat = np.zeros((n_classes,n_classes)).astype(int)\n",
        "    n_sample = pred0.shape[0]\n",
        "    for k in range(n_sample):\n",
        "        cmat[pred0[k],pred1[k]] += 1\n",
        "    return(cmat)"
      ]
    },
    {
      "cell_type": "code",
      "source": [
        "def norm_rows(cmat):\n",
        "    \"\"\" Normalize the lines of the confusion matrix cmat. \"\"\"\n",
        "    n = cmat.shape[0]\n",
        "    ncmat = np.zeros((n,n))\n",
        "    sum_rows = np.sum(cmat_nf, axis=1)\n",
        "    for k in range(n):\n",
        "        s = sum_rows[k]\n",
        "        if s != 0:\n",
        "            ncmat[k,:] = cmat[k,:]/sum_rows[k]\n",
        "    return(ncmat)"
      ],
      "metadata": {
        "id": "9eTnye8tOZcF"
      },
      "execution_count": 87,
      "outputs": []
    },
    {
      "cell_type": "code",
      "source": [
        "# confusion matrix\n",
        "cmat_nf = confusion_matrix(original_advice, nf_advice)\n",
        "print(cmat_nf)\n",
        "\n",
        "# confusion matrix with normalized lines\n",
        "ncmat_nf = norm_rows(cmat_nf)\n",
        "print(ncmat_nf)"
      ],
      "metadata": {
        "colab": {
          "base_uri": "https://localhost:8080/"
        },
        "id": "Poipg3u6ObRG",
        "outputId": "92701878-b64b-40f2-95a7-dd30a88399a6"
      },
      "execution_count": 98,
      "outputs": [
        {
          "output_type": "stream",
          "name": "stdout",
          "text": [
            "[[170   0   1   3   4]\n",
            " [  0   0   0   0   0]\n",
            " [  5   0   0   1   3]\n",
            " [  3   0   0   4   0]\n",
            " [  6   0   0   0   0]]\n",
            "[[0.95505618 0.         0.00561798 0.01685393 0.02247191]\n",
            " [0.         0.         0.         0.         0.        ]\n",
            " [0.55555556 0.         0.         0.11111111 0.33333333]\n",
            " [0.42857143 0.         0.         0.57142857 0.        ]\n",
            " [1.         0.         0.         0.         0.        ]]\n"
          ]
        }
      ]
    },
    {
      "cell_type": "code",
      "source": [
        "# confusion matrix plot legend\n",
        "index0 = [\"COC\",\"WR\",\"WL\",\"SR\",\"SL\"]\n",
        "index1 = [\"adv-COC\",\"adv-WR\",\"adv-WL\",\"adv-SR\",\"adv-SL\"]"
      ],
      "metadata": {
        "id": "HtA_figCOps5"
      },
      "execution_count": 99,
      "outputs": []
    },
    {
      "cell_type": "code",
      "source": [
        "df_cmat = pd.DataFrame(ncmat_nf, index = index0, columns = index1)\n",
        "\n",
        "plt.figure(figsize = (10,7))\n",
        "sn.heatmap(df_cmat, annot=True)\n",
        "plt.title(\"Confusion matrix - CW - #{0}\".format(1000))\n",
        "plt.show()"
      ],
      "metadata": {
        "colab": {
          "base_uri": "https://localhost:8080/",
          "height": 444
        },
        "id": "kiQHWDe9OvCC",
        "outputId": "76d47b60-92ca-4b15-cf16-4ff2b8894f3f"
      },
      "execution_count": 100,
      "outputs": [
        {
          "output_type": "display_data",
          "data": {
            "text/plain": [
              "<Figure size 720x504 with 2 Axes>"
            ],
            "image/png": "[encoded data removed]"
          },
          "metadata": {
            "needs_background": "light"
          }
        }
      ]
    }
  ],
  "metadata": {
    "kernelspec": {
      "display_name": "Python 3",
      "language": "python",
      "name": "python3"
    },
    "language_info": {
      "codemirror_mode": {
        "name": "ipython",
        "version": 3
      },
      "file_extension": ".py",
      "mimetype": "text/x-python",
      "name": "python",
      "nbconvert_exporter": "python",
      "pygments_lexer": "ipython3",
      "version": "3.8.3"
    },
    "colab": {
      "name": "NF_PIERRE.ipynb",
      "provenance": []
    },
    "widgets": {
      "application/vnd.jupyter.widget-state+json": {
        "3e9edc0fcc3144dbbb28dc3d18a1b2df": {
          "model_module": "@jupyter-widgets/controls",
          "model_name": "HBoxModel",
          "model_module_version": "1.5.0",
          "state": {
            "_dom_classes": [],
            "_model_module": "@jupyter-widgets/controls",
            "_model_module_version": "1.5.0",
            "_model_name": "HBoxModel",
            "_view_count": null,
            "_view_module": "@jupyter-widgets/controls",
            "_view_module_version": "1.5.0",
            "_view_name": "HBoxView",
            "box_style": "",
            "children": [
              "IPY_MODEL_f5f5a844f1f249109932fd9769dc9096",
              "IPY_MODEL_0c508500e9894f5e928d068b3f50689f",
              "IPY_MODEL_d04f8bb495134a53b3f0ad2c826bcf67"
            ],
            "layout": "IPY_MODEL_8ff0fd04b4ac4f8da28eb58c8724f9fa"
          }
        },
        "f5f5a844f1f249109932fd9769dc9096": {
          "model_module": "@jupyter-widgets/controls",
          "model_name": "HTMLModel",
          "model_module_version": "1.5.0",
          "state": {
            "_dom_classes": [],
            "_model_module": "@jupyter-widgets/controls",
            "_model_module_version": "1.5.0",
            "_model_name": "HTMLModel",
            "_view_count": null,
            "_view_module": "@jupyter-widgets/controls",
            "_view_module_version": "1.5.0",
            "_view_name": "HTMLView",
            "description": "",
            "description_tooltip": null,
            "layout": "IPY_MODEL_4ac5a9e4c4f745e19b10f0d45d8dbdc8",
            "placeholder": "​",
            "style": "IPY_MODEL_abe633f2bfd748e6ba2cc01abfca04c7",
            "value": "NewtonFool: 100%"
          }
        },
        "0c508500e9894f5e928d068b3f50689f": {
          "model_module": "@jupyter-widgets/controls",
          "model_name": "FloatProgressModel",
          "model_module_version": "1.5.0",
          "state": {
            "_dom_classes": [],
            "_model_module": "@jupyter-widgets/controls",
            "_model_module_version": "1.5.0",
            "_model_name": "FloatProgressModel",
            "_view_count": null,
            "_view_module": "@jupyter-widgets/controls",
            "_view_module_version": "1.5.0",
            "_view_name": "ProgressView",
            "bar_style": "success",
            "description": "",
            "description_tooltip": null,
            "layout": "IPY_MODEL_2fe2ff1bad284c9a91fdfe58f92267b2",
            "max": 1,
            "min": 0,
            "orientation": "horizontal",
            "style": "IPY_MODEL_59fff2f0acad4ebbbc66e7fd4087eac7",
            "value": 1
          }
        },
        "d04f8bb495134a53b3f0ad2c826bcf67": {
          "model_module": "@jupyter-widgets/controls",
          "model_name": "HTMLModel",
          "model_module_version": "1.5.0",
          "state": {
            "_dom_classes": [],
            "_model_module": "@jupyter-widgets/controls",
            "_model_module_version": "1.5.0",
            "_model_name": "HTMLModel",
            "_view_count": null,
            "_view_module": "@jupyter-widgets/controls",
            "_view_module_version": "1.5.0",
            "_view_name": "HTMLView",
            "description": "",
            "description_tooltip": null,
            "layout": "IPY_MODEL_5063ba0b11ef474199141330ac5b06d0",
            "placeholder": "​",
            "style": "IPY_MODEL_9c14a2d02f664eed937d5cf46b4afe2a",
            "value": " 1/1 [00:00&lt;00:00,  3.26it/s]"
          }
        },
        "8ff0fd04b4ac4f8da28eb58c8724f9fa": {
          "model_module": "@jupyter-widgets/base",
          "model_name": "LayoutModel",
          "model_module_version": "1.2.0",
          "state": {
            "_model_module": "@jupyter-widgets/base",
            "_model_module_version": "1.2.0",
            "_model_name": "LayoutModel",
            "_view_count": null,
            "_view_module": "@jupyter-widgets/base",
            "_view_module_version": "1.2.0",
            "_view_name": "LayoutView",
            "align_content": null,
            "align_items": null,
            "align_self": null,
            "border": null,
            "bottom": null,
            "display": null,
            "flex": null,
            "flex_flow": null,
            "grid_area": null,
            "grid_auto_columns": null,
            "grid_auto_flow": null,
            "grid_auto_rows": null,
            "grid_column": null,
            "grid_gap": null,
            "grid_row": null,
            "grid_template_areas": null,
            "grid_template_columns": null,
            "grid_template_rows": null,
            "height": null,
            "justify_content": null,
            "justify_items": null,
            "left": null,
            "margin": null,
            "max_height": null,
            "max_width": null,
            "min_height": null,
            "min_width": null,
            "object_fit": null,
            "object_position": null,
            "order": null,
            "overflow": null,
            "overflow_x": null,
            "overflow_y": null,
            "padding": null,
            "right": null,
            "top": null,
            "visibility": null,
            "width": null
          }
        },
        "4ac5a9e4c4f745e19b10f0d45d8dbdc8": {
          "model_module": "@jupyter-widgets/base",
          "model_name": "LayoutModel",
          "model_module_version": "1.2.0",
          "state": {
            "_model_module": "@jupyter-widgets/base",
            "_model_module_version": "1.2.0",
            "_model_name": "LayoutModel",
            "_view_count": null,
            "_view_module": "@jupyter-widgets/base",
            "_view_module_version": "1.2.0",
            "_view_name": "LayoutView",
            "align_content": null,
            "align_items": null,
            "align_self": null,
            "border": null,
            "bottom": null,
            "display": null,
            "flex": null,
            "flex_flow": null,
            "grid_area": null,
            "grid_auto_columns": null,
            "grid_auto_flow": null,
            "grid_auto_rows": null,
            "grid_column": null,
            "grid_gap": null,
            "grid_row": null,
            "grid_template_areas": null,
            "grid_template_columns": null,
            "grid_template_rows": null,
            "height": null,
            "justify_content": null,
            "justify_items": null,
            "left": null,
            "margin": null,
            "max_height": null,
            "max_width": null,
            "min_height": null,
            "min_width": null,
            "object_fit": null,
            "object_position": null,
            "order": null,
            "overflow": null,
            "overflow_x": null,
            "overflow_y": null,
            "padding": null,
            "right": null,
            "top": null,
            "visibility": null,
            "width": null
          }
        },
        "abe633f2bfd748e6ba2cc01abfca04c7": {
          "model_module": "@jupyter-widgets/controls",
          "model_name": "DescriptionStyleModel",
          "model_module_version": "1.5.0",
          "state": {
            "_model_module": "@jupyter-widgets/controls",
            "_model_module_version": "1.5.0",
            "_model_name": "DescriptionStyleModel",
            "_view_count": null,
            "_view_module": "@jupyter-widgets/base",
            "_view_module_version": "1.2.0",
            "_view_name": "StyleView",
            "description_width": ""
          }
        },
        "2fe2ff1bad284c9a91fdfe58f92267b2": {
          "model_module": "@jupyter-widgets/base",
          "model_name": "LayoutModel",
          "model_module_version": "1.2.0",
          "state": {
            "_model_module": "@jupyter-widgets/base",
            "_model_module_version": "1.2.0",
            "_model_name": "LayoutModel",
            "_view_count": null,
            "_view_module": "@jupyter-widgets/base",
            "_view_module_version": "1.2.0",
            "_view_name": "LayoutView",
            "align_content": null,
            "align_items": null,
            "align_self": null,
            "border": null,
            "bottom": null,
            "display": null,
            "flex": null,
            "flex_flow": null,
            "grid_area": null,
            "grid_auto_columns": null,
            "grid_auto_flow": null,
            "grid_auto_rows": null,
            "grid_column": null,
            "grid_gap": null,
            "grid_row": null,
            "grid_template_areas": null,
            "grid_template_columns": null,
            "grid_template_rows": null,
            "height": null,
            "justify_content": null,
            "justify_items": null,
            "left": null,
            "margin": null,
            "max_height": null,
            "max_width": null,
            "min_height": null,
            "min_width": null,
            "object_fit": null,
            "object_position": null,
            "order": null,
            "overflow": null,
            "overflow_x": null,
            "overflow_y": null,
            "padding": null,
            "right": null,
            "top": null,
            "visibility": null,
            "width": null
          }
        },
        "59fff2f0acad4ebbbc66e7fd4087eac7": {
          "model_module": "@jupyter-widgets/controls",
          "model_name": "ProgressStyleModel",
          "model_module_version": "1.5.0",
          "state": {
            "_model_module": "@jupyter-widgets/controls",
            "_model_module_version": "1.5.0",
            "_model_name": "ProgressStyleModel",
            "_view_count": null,
            "_view_module": "@jupyter-widgets/base",
            "_view_module_version": "1.2.0",
            "_view_name": "StyleView",
            "bar_color": null,
            "description_width": ""
          }
        },
        "5063ba0b11ef474199141330ac5b06d0": {
          "model_module": "@jupyter-widgets/base",
          "model_name": "LayoutModel",
          "model_module_version": "1.2.0",
          "state": {
            "_model_module": "@jupyter-widgets/base",
            "_model_module_version": "1.2.0",
            "_model_name": "LayoutModel",
            "_view_count": null,
            "_view_module": "@jupyter-widgets/base",
            "_view_module_version": "1.2.0",
            "_view_name": "LayoutView",
            "align_content": null,
            "align_items": null,
            "align_self": null,
            "border": null,
            "bottom": null,
            "display": null,
            "flex": null,
            "flex_flow": null,
            "grid_area": null,
            "grid_auto_columns": null,
            "grid_auto_flow": null,
            "grid_auto_rows": null,
            "grid_column": null,
            "grid_gap": null,
            "grid_row": null,
            "grid_template_areas": null,
            "grid_template_columns": null,
            "grid_template_rows": null,
            "height": null,
            "justify_content": null,
            "justify_items": null,
            "left": null,
            "margin": null,
            "max_height": null,
            "max_width": null,
            "min_height": null,
            "min_width": null,
            "object_fit": null,
            "object_position": null,
            "order": null,
            "overflow": null,
            "overflow_x": null,
            "overflow_y": null,
            "padding": null,
            "right": null,
            "top": null,
            "visibility": null,
            "width": null
          }
        },
        "9c14a2d02f664eed937d5cf46b4afe2a": {
          "model_module": "@jupyter-widgets/controls",
          "model_name": "DescriptionStyleModel",
          "model_module_version": "1.5.0",
          "state": {
            "_model_module": "@jupyter-widgets/controls",
            "_model_module_version": "1.5.0",
            "_model_name": "DescriptionStyleModel",
            "_view_count": null,
            "_view_module": "@jupyter-widgets/base",
            "_view_module_version": "1.2.0",
            "_view_name": "StyleView",
            "description_width": ""
          }
        },
        "5dd1b9f3f50146fa8042d4c3e0ac2607": {
          "model_module": "@jupyter-widgets/controls",
          "model_name": "HBoxModel",
          "model_module_version": "1.5.0",
          "state": {
            "_dom_classes": [],
            "_model_module": "@jupyter-widgets/controls",
            "_model_module_version": "1.5.0",
            "_model_name": "HBoxModel",
            "_view_count": null,
            "_view_module": "@jupyter-widgets/controls",
            "_view_module_version": "1.5.0",
            "_view_name": "HBoxView",
            "box_style": "",
            "children": [
              "IPY_MODEL_4fba32fa9ed4493cb11cf9648e2fa5a7",
              "IPY_MODEL_0fe628be6295474cad63a60014715e1a",
              "IPY_MODEL_67425b7ae91742fe92ed17f582c7faf2"
            ],
            "layout": "IPY_MODEL_49e23f4a917b40059d724ea0582a059f"
          }
        },
        "4fba32fa9ed4493cb11cf9648e2fa5a7": {
          "model_module": "@jupyter-widgets/controls",
          "model_name": "HTMLModel",
          "model_module_version": "1.5.0",
          "state": {
            "_dom_classes": [],
            "_model_module": "@jupyter-widgets/controls",
            "_model_module_version": "1.5.0",
            "_model_name": "HTMLModel",
            "_view_count": null,
            "_view_module": "@jupyter-widgets/controls",
            "_view_module_version": "1.5.0",
            "_view_name": "HTMLView",
            "description": "",
            "description_tooltip": null,
            "layout": "IPY_MODEL_8f4bd807d64b43e1b4a5450432c751ab",
            "placeholder": "​",
            "style": "IPY_MODEL_47c03d9f93714ce6a0ce5400b732f31b",
            "value": "NewtonFool: 100%"
          }
        },
        "0fe628be6295474cad63a60014715e1a": {
          "model_module": "@jupyter-widgets/controls",
          "model_name": "FloatProgressModel",
          "model_module_version": "1.5.0",
          "state": {
            "_dom_classes": [],
            "_model_module": "@jupyter-widgets/controls",
            "_model_module_version": "1.5.0",
            "_model_name": "FloatProgressModel",
            "_view_count": null,
            "_view_module": "@jupyter-widgets/controls",
            "_view_module_version": "1.5.0",
            "_view_name": "ProgressView",
            "bar_style": "success",
            "description": "",
            "description_tooltip": null,
            "layout": "IPY_MODEL_a303a66e04684086ad5f473d098f3d58",
            "max": 200,
            "min": 0,
            "orientation": "horizontal",
            "style": "IPY_MODEL_7223196c01d64f53a910c907341ea4bf",
            "value": 200
          }
        },
        "67425b7ae91742fe92ed17f582c7faf2": {
          "model_module": "@jupyter-widgets/controls",
          "model_name": "HTMLModel",
          "model_module_version": "1.5.0",
          "state": {
            "_dom_classes": [],
            "_model_module": "@jupyter-widgets/controls",
            "_model_module_version": "1.5.0",
            "_model_name": "HTMLModel",
            "_view_count": null,
            "_view_module": "@jupyter-widgets/controls",
            "_view_module_version": "1.5.0",
            "_view_name": "HTMLView",
            "description": "",
            "description_tooltip": null,
            "layout": "IPY_MODEL_867ba2495bfd493abbfe9c5d56cfccdd",
            "placeholder": "​",
            "style": "IPY_MODEL_e31fba35e14a4475bc5362eedbd0b69c",
            "value": " 200/200 [00:49&lt;00:00,  4.02it/s]"
          }
        },
        "49e23f4a917b40059d724ea0582a059f": {
          "model_module": "@jupyter-widgets/base",
          "model_name": "LayoutModel",
          "model_module_version": "1.2.0",
          "state": {
            "_model_module": "@jupyter-widgets/base",
            "_model_module_version": "1.2.0",
            "_model_name": "LayoutModel",
            "_view_count": null,
            "_view_module": "@jupyter-widgets/base",
            "_view_module_version": "1.2.0",
            "_view_name": "LayoutView",
            "align_content": null,
            "align_items": null,
            "align_self": null,
            "border": null,
            "bottom": null,
            "display": null,
            "flex": null,
            "flex_flow": null,
            "grid_area": null,
            "grid_auto_columns": null,
            "grid_auto_flow": null,
            "grid_auto_rows": null,
            "grid_column": null,
            "grid_gap": null,
            "grid_row": null,
            "grid_template_areas": null,
            "grid_template_columns": null,
            "grid_template_rows": null,
            "height": null,
            "justify_content": null,
            "justify_items": null,
            "left": null,
            "margin": null,
            "max_height": null,
            "max_width": null,
            "min_height": null,
            "min_width": null,
            "object_fit": null,
            "object_position": null,
            "order": null,
            "overflow": null,
            "overflow_x": null,
            "overflow_y": null,
            "padding": null,
            "right": null,
            "top": null,
            "visibility": null,
            "width": null
          }
        },
        "8f4bd807d64b43e1b4a5450432c751ab": {
          "model_module": "@jupyter-widgets/base",
          "model_name": "LayoutModel",
          "model_module_version": "1.2.0",
          "state": {
            "_model_module": "@jupyter-widgets/base",
            "_model_module_version": "1.2.0",
            "_model_name": "LayoutModel",
            "_view_count": null,
            "_view_module": "@jupyter-widgets/base",
            "_view_module_version": "1.2.0",
            "_view_name": "LayoutView",
            "align_content": null,
            "align_items": null,
            "align_self": null,
            "border": null,
            "bottom": null,
            "display": null,
            "flex": null,
            "flex_flow": null,
            "grid_area": null,
            "grid_auto_columns": null,
            "grid_auto_flow": null,
            "grid_auto_rows": null,
            "grid_column": null,
            "grid_gap": null,
            "grid_row": null,
            "grid_template_areas": null,
            "grid_template_columns": null,
            "grid_template_rows": null,
            "height": null,
            "justify_content": null,
            "justify_items": null,
            "left": null,
            "margin": null,
            "max_height": null,
            "max_width": null,
            "min_height": null,
            "min_width": null,
            "object_fit": null,
            "object_position": null,
            "order": null,
            "overflow": null,
            "overflow_x": null,
            "overflow_y": null,
            "padding": null,
            "right": null,
            "top": null,
            "visibility": null,
            "width": null
          }
        },
        "47c03d9f93714ce6a0ce5400b732f31b": {
          "model_module": "@jupyter-widgets/controls",
          "model_name": "DescriptionStyleModel",
          "model_module_version": "1.5.0",
          "state": {
            "_model_module": "@jupyter-widgets/controls",
            "_model_module_version": "1.5.0",
            "_model_name": "DescriptionStyleModel",
            "_view_count": null,
            "_view_module": "@jupyter-widgets/base",
            "_view_module_version": "1.2.0",
            "_view_name": "StyleView",
            "description_width": ""
          }
        },
        "a303a66e04684086ad5f473d098f3d58": {
          "model_module": "@jupyter-widgets/base",
          "model_name": "LayoutModel",
          "model_module_version": "1.2.0",
          "state": {
            "_model_module": "@jupyter-widgets/base",
            "_model_module_version": "1.2.0",
            "_model_name": "LayoutModel",
            "_view_count": null,
            "_view_module": "@jupyter-widgets/base",
            "_view_module_version": "1.2.0",
            "_view_name": "LayoutView",
            "align_content": null,
            "align_items": null,
            "align_self": null,
            "border": null,
            "bottom": null,
            "display": null,
            "flex": null,
            "flex_flow": null,
            "grid_area": null,
            "grid_auto_columns": null,
            "grid_auto_flow": null,
            "grid_auto_rows": null,
            "grid_column": null,
            "grid_gap": null,
            "grid_row": null,
            "grid_template_areas": null,
            "grid_template_columns": null,
            "grid_template_rows": null,
            "height": null,
            "justify_content": null,
            "justify_items": null,
            "left": null,
            "margin": null,
            "max_height": null,
            "max_width": null,
            "min_height": null,
            "min_width": null,
            "object_fit": null,
            "object_position": null,
            "order": null,
            "overflow": null,
            "overflow_x": null,
            "overflow_y": null,
            "padding": null,
            "right": null,
            "top": null,
            "visibility": null,
            "width": null
          }
        },
        "7223196c01d64f53a910c907341ea4bf": {
          "model_module": "@jupyter-widgets/controls",
          "model_name": "ProgressStyleModel",
          "model_module_version": "1.5.0",
          "state": {
            "_model_module": "@jupyter-widgets/controls",
            "_model_module_version": "1.5.0",
            "_model_name": "ProgressStyleModel",
            "_view_count": null,
            "_view_module": "@jupyter-widgets/base",
            "_view_module_version": "1.2.0",
            "_view_name": "StyleView",
            "bar_color": null,
            "description_width": ""
          }
        },
        "867ba2495bfd493abbfe9c5d56cfccdd": {
          "model_module": "@jupyter-widgets/base",
          "model_name": "LayoutModel",
          "model_module_version": "1.2.0",
          "state": {
            "_model_module": "@jupyter-widgets/base",
            "_model_module_version": "1.2.0",
            "_model_name": "LayoutModel",
            "_view_count": null,
            "_view_module": "@jupyter-widgets/base",
            "_view_module_version": "1.2.0",
            "_view_name": "LayoutView",
            "align_content": null,
            "align_items": null,
            "align_self": null,
            "border": null,
            "bottom": null,
            "display": null,
            "flex": null,
            "flex_flow": null,
            "grid_area": null,
            "grid_auto_columns": null,
            "grid_auto_flow": null,
            "grid_auto_rows": null,
            "grid_column": null,
            "grid_gap": null,
            "grid_row": null,
            "grid_template_areas": null,
            "grid_template_columns": null,
            "grid_template_rows": null,
            "height": null,
            "justify_content": null,
            "justify_items": null,
            "left": null,
            "margin": null,
            "max_height": null,
            "max_width": null,
            "min_height": null,
            "min_width": null,
            "object_fit": null,
            "object_position": null,
            "order": null,
            "overflow": null,
            "overflow_x": null,
            "overflow_y": null,
            "padding": null,
            "right": null,
            "top": null,
            "visibility": null,
            "width": null
          }
        },
        "e31fba35e14a4475bc5362eedbd0b69c": {
          "model_module": "@jupyter-widgets/controls",
          "model_name": "DescriptionStyleModel",
          "model_module_version": "1.5.0",
          "state": {
            "_model_module": "@jupyter-widgets/controls",
            "_model_module_version": "1.5.0",
            "_model_name": "DescriptionStyleModel",
            "_view_count": null,
            "_view_module": "@jupyter-widgets/base",
            "_view_module_version": "1.2.0",
            "_view_name": "StyleView",
            "description_width": ""
          }
        }
      }
    }
  },
  "nbformat": 4,
  "nbformat_minor": 0
}