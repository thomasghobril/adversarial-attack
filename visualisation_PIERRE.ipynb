{
 "cells": [
  {
   "cell_type": "markdown",
   "metadata": {},
   "source": [
    "# 1. Imports"
   ]
  },
  {
   "cell_type": "code",
   "execution_count": 206,
   "metadata": {},
   "outputs": [],
   "source": [
    "import numpy as np\n",
    "from math import pi\n",
    "import matplotlib.pyplot as plt\n",
    "from copy import deepcopy"
   ]
  },
  {
   "cell_type": "code",
   "execution_count": 2,
   "metadata": {},
   "outputs": [],
   "source": [
    "from tensorflow.keras.models import load_model"
   ]
  },
  {
   "cell_type": "code",
   "execution_count": 3,
   "metadata": {},
   "outputs": [],
   "source": [
    "from tensorflow.keras.losses import MSE\n",
    "from tensorflow.keras.losses import categorical_crossentropy as CCE\n",
    "import tensorflow as tf"
   ]
  },
  {
   "cell_type": "code",
   "execution_count": 4,
   "metadata": {},
   "outputs": [],
   "source": [
    "# Load properties from another python file\n",
    "from properties import *"
   ]
  },
  {
   "cell_type": "code",
   "execution_count": 5,
   "metadata": {},
   "outputs": [],
   "source": [
    "from random import random, randint"
   ]
  },
  {
   "cell_type": "code",
   "execution_count": 6,
   "metadata": {},
   "outputs": [],
   "source": [
    "path_model = \"ACAS_XU_tf_keras/ACASXU_1_1.h5\""
   ]
  },
  {
   "cell_type": "markdown",
   "metadata": {},
   "source": [
    "# 2. Load models"
   ]
  },
  {
   "cell_type": "code",
   "execution_count": 7,
   "metadata": {},
   "outputs": [
    {
     "name": "stdout",
     "output_type": "stream",
     "text": [
      "WARNING:tensorflow:No training configuration found in the save file, so the model was *not* compiled. Compile it manually.\n"
     ]
    }
   ],
   "source": [
    "model_11 = load_model(path_model)"
   ]
  },
  {
   "cell_type": "code",
   "execution_count": 8,
   "metadata": {},
   "outputs": [
    {
     "name": "stdout",
     "output_type": "stream",
     "text": [
      "WARNING:tensorflow:No training configuration found in the save file, so the model was *not* compiled. Compile it manually.\n"
     ]
    }
   ],
   "source": [
    "model_35 = load_model(\"ACAS_XU_tf_keras/ACASXU_3_5.h5\")"
   ]
  },
  {
   "cell_type": "code",
   "execution_count": 9,
   "metadata": {},
   "outputs": [
    {
     "name": "stdout",
     "output_type": "stream",
     "text": [
      "Model: \"sequential_14\"\n",
      "_________________________________________________________________\n",
      "Layer (type)                 Output Shape              Param #   \n",
      "=================================================================\n",
      "dense_98 (Dense)             (None, 50)                300       \n",
      "_________________________________________________________________\n",
      "activation_98 (Activation)   (None, 50)                0         \n",
      "_________________________________________________________________\n",
      "dense_99 (Dense)             (None, 50)                2550      \n",
      "_________________________________________________________________\n",
      "activation_99 (Activation)   (None, 50)                0         \n",
      "_________________________________________________________________\n",
      "dense_100 (Dense)            (None, 50)                2550      \n",
      "_________________________________________________________________\n",
      "activation_100 (Activation)  (None, 50)                0         \n",
      "_________________________________________________________________\n",
      "dense_101 (Dense)            (None, 50)                2550      \n",
      "_________________________________________________________________\n",
      "activation_101 (Activation)  (None, 50)                0         \n",
      "_________________________________________________________________\n",
      "dense_102 (Dense)            (None, 50)                2550      \n",
      "_________________________________________________________________\n",
      "activation_102 (Activation)  (None, 50)                0         \n",
      "_________________________________________________________________\n",
      "dense_103 (Dense)            (None, 50)                2550      \n",
      "_________________________________________________________________\n",
      "activation_103 (Activation)  (None, 50)                0         \n",
      "_________________________________________________________________\n",
      "dense_104 (Dense)            (None, 5)                 255       \n",
      "_________________________________________________________________\n",
      "activation_104 (Activation)  (None, 5)                 0         \n",
      "=================================================================\n",
      "Total params: 13,305\n",
      "Trainable params: 13,305\n",
      "Non-trainable params: 0\n",
      "_________________________________________________________________\n"
     ]
    }
   ],
   "source": [
    "model_11.summary()"
   ]
  },
  {
   "cell_type": "code",
   "execution_count": 10,
   "metadata": {},
   "outputs": [],
   "source": [
    "model_11.compile()"
   ]
  },
  {
   "cell_type": "code",
   "execution_count": 11,
   "metadata": {},
   "outputs": [],
   "source": [
    "model_35.compile()"
   ]
  },
  {
   "cell_type": "code",
   "execution_count": 12,
   "metadata": {},
   "outputs": [
    {
     "data": {
      "text/plain": [
       "array([[0.19883643, 0.20087564, 0.19964513, 0.20093843, 0.19970441]],\n",
       "      dtype=float32)"
      ]
     },
     "execution_count": 12,
     "metadata": {},
     "output_type": "execute_result"
    }
   ],
   "source": [
    "pt = np.array([1.0, 1.0, 1.0, 1.0, 1.0]).reshape(1,5)\n",
    "model_11.predict(pt)"
   ]
  },
  {
   "cell_type": "code",
   "execution_count": 13,
   "metadata": {},
   "outputs": [
    {
     "data": {
      "text/plain": [
       "array([[0.1967246 , 0.2045978 , 0.19686562, 0.20457308, 0.19723897]],\n",
       "      dtype=float32)"
      ]
     },
     "execution_count": 13,
     "metadata": {},
     "output_type": "execute_result"
    }
   ],
   "source": [
    "pt = np.array([1.0, 1.0, 1.0, 1.0, 1.0]).reshape(1,5)\n",
    "model_35.predict(pt)"
   ]
  },
  {
   "cell_type": "markdown",
   "metadata": {},
   "source": [
    "# 3. FGSM"
   ]
  },
  {
   "cell_type": "code",
   "execution_count": null,
   "metadata": {},
   "outputs": [],
   "source": [
    "def generate_adv_sample(model, x0, label, loss_function=\"MSE\", eps=1e-5):\n",
    "    # transforming into a tensorflow object\n",
    "    x0_ = tf.cast(x0, tf.float32)\n",
    "    \n",
    "    # record our gradients\n",
    "    with tf.GradientTape() as tape:\n",
    "        # explicitly indicate that our input should be tacked for gradient updates\n",
    "        tape.watch(x0_)\n",
    "\n",
    "        # use our model to make predictions on the input and then compute the loss\n",
    "        pred = model(x0_)\n",
    "        if loss_function == \"CCE\":\n",
    "            np_label = np.array([i==label for i in range(0,5)]).reshape((1,5))\n",
    "            loss = CCE(np_label, pred)\n",
    "        elif loss_function == \"MSE\":\n",
    "            loss = MSE(label, pred)\n",
    "        else:\n",
    "            raise Exception(\"Unknown loss function '{0}'\".format(loss_function))\n",
    "        \n",
    "        # calculate the gradients of loss with respect to the input, then compute the sign of the gradient\n",
    "        gradient = tape.gradient(loss, x0_)\n",
    "        signedGrad = tf.sign(gradient)\n",
    "\n",
    "        # construct the image adversary\n",
    "        adv_sample = (x0_ + (signedGrad * eps)).numpy()\n",
    "\n",
    "        # return the adversarial sample to the calling function\n",
    "        return(adv_sample)"
   ]
  },
  {
   "cell_type": "code",
   "execution_count": null,
   "metadata": {},
   "outputs": [],
   "source": [
    "x0_adv = generate_adv_sample(model_11, pt, label = 0, loss_function = \"CCE\", eps=1e-3)\n",
    "print(x0_adv)"
   ]
  },
  {
   "cell_type": "code",
   "execution_count": null,
   "metadata": {},
   "outputs": [],
   "source": [
    "model_11.predict(x0_adv)"
   ]
  },
  {
   "cell_type": "code",
   "execution_count": null,
   "metadata": {},
   "outputs": [],
   "source": [
    "np_label = np.array([int(i==2) for i in range(0,5)]).reshape((1,5))\n",
    "np_label"
   ]
  },
  {
   "cell_type": "markdown",
   "metadata": {},
   "source": [
    "# 4. Random search"
   ]
  },
  {
   "cell_type": "code",
   "execution_count": 82,
   "metadata": {},
   "outputs": [],
   "source": [
    "def random_pts(n, prop_dom, main_dom):\n",
    "    \"\"\" prop_dom is a list of domains given by intervals in a numpy 2x5 table. \"\"\"\n",
    "    ndom = len(prop_dom)\n",
    "    ndim = main_dom.shape[1]\n",
    "    \n",
    "    x = np.zeros((n,ndim))\n",
    "    for i in range(n): # generate the i-th point\n",
    "        choosen_dom = prop_dom[randint(0,ndom-1)] # choose the input property domain for a given prop\n",
    "        for k in range(ndim): # create a random coord for each dim\n",
    "            boundaries = main_dom[:,k]\n",
    "            if choosen_dom[0,k] != None:\n",
    "                boundaries[0] = choosen_dom[0,k]\n",
    "            if choosen_dom[1,k] != None:\n",
    "                boundaries[1] = choosen_dom[1,k]\n",
    "            x[i,k] = boundaries[0] + random()*(boundaries[1]-boundaries[0])\n",
    "\n",
    "    return(x)"
   ]
  },
  {
   "cell_type": "code",
   "execution_count": 190,
   "metadata": {},
   "outputs": [],
   "source": [
    "def normalize(x, x_mean, x_range):\n",
    "    (n,k) = x.shape\n",
    "    nx = np.zeros((n,k))\n",
    "    for i in range(n):\n",
    "        for j in range(k):\n",
    "            nx[i,j] = (x[i,j]-x_mean[j])/x_range[j]\n",
    "    return(nx)"
   ]
  },
  {
   "cell_type": "code",
   "execution_count": 22,
   "metadata": {},
   "outputs": [],
   "source": [
    "def check_pts(model, input_pts, IP, OP):\n",
    "    n = input_pts.shape[0]\n",
    "    IO_check = np.zeros((n,2)) # 1st column : input checked - 2nd column : output checked\n",
    "    \n",
    "    norm_input = normalize(input_pts, X_mean, X_range) # normalize pts\n",
    "    \n",
    "    pred_pts = model.predict(norm_input) # make predictions with the model (neural net)\n",
    "    \n",
    "    for k in range(n):\n",
    "        IO_check[k,0] = IP(input_pts[k,:]) # check input (just in case)\n",
    "        IO_check[k,1] = OP(pred_pts[k,:]) # check output\n",
    "\n",
    "    return(IO_check, pred_pts)"
   ]
  },
  {
   "cell_type": "code",
   "execution_count": 20,
   "metadata": {},
   "outputs": [],
   "source": [
    "rand_inputs = random_pts(10, IP2_dom, X_dom)"
   ]
  },
  {
   "cell_type": "code",
   "execution_count": 23,
   "metadata": {},
   "outputs": [
    {
     "ename": "ValueError",
     "evalue": "setting an array element with a sequence.",
     "output_type": "error",
     "traceback": [
      "\u001b[1;31m---------------------------------------------------------------------------\u001b[0m",
      "\u001b[1;31mTypeError\u001b[0m                                 Traceback (most recent call last)",
      "\u001b[1;31mTypeError\u001b[0m: only size-1 arrays can be converted to Python scalars",
      "\nThe above exception was the direct cause of the following exception:\n",
      "\u001b[1;31mValueError\u001b[0m                                Traceback (most recent call last)",
      "\u001b[1;32m<ipython-input-23-03924a83f79f>\u001b[0m in \u001b[0;36m<module>\u001b[1;34m\u001b[0m\n\u001b[1;32m----> 1\u001b[1;33m \u001b[0mPcheck\u001b[0m\u001b[1;33m,\u001b[0m \u001b[0mpred_pts\u001b[0m \u001b[1;33m=\u001b[0m \u001b[0mcheck_pts\u001b[0m\u001b[1;33m(\u001b[0m\u001b[0mmodel_11\u001b[0m\u001b[1;33m,\u001b[0m \u001b[0mrand_inputs\u001b[0m\u001b[1;33m,\u001b[0m \u001b[0mIP1\u001b[0m\u001b[1;33m,\u001b[0m \u001b[0mOP1\u001b[0m\u001b[1;33m)\u001b[0m\u001b[1;33m\u001b[0m\u001b[1;33m\u001b[0m\u001b[0m\n\u001b[0m",
      "\u001b[1;32m<ipython-input-22-1e6dce8d8957>\u001b[0m in \u001b[0;36mcheck_pts\u001b[1;34m(model, input_pts, IP, OP)\u001b[0m\n\u001b[0;32m      9\u001b[0m     \u001b[1;32mfor\u001b[0m \u001b[0mk\u001b[0m \u001b[1;32min\u001b[0m \u001b[0mrange\u001b[0m\u001b[1;33m(\u001b[0m\u001b[0mn\u001b[0m\u001b[1;33m)\u001b[0m\u001b[1;33m:\u001b[0m\u001b[1;33m\u001b[0m\u001b[1;33m\u001b[0m\u001b[0m\n\u001b[0;32m     10\u001b[0m         \u001b[0mIO_check\u001b[0m\u001b[1;33m[\u001b[0m\u001b[0mk\u001b[0m\u001b[1;33m,\u001b[0m\u001b[1;36m0\u001b[0m\u001b[1;33m]\u001b[0m \u001b[1;33m=\u001b[0m \u001b[0mIP\u001b[0m\u001b[1;33m(\u001b[0m\u001b[0minput_pts\u001b[0m\u001b[1;33m[\u001b[0m\u001b[0mk\u001b[0m\u001b[1;33m,\u001b[0m\u001b[1;33m:\u001b[0m\u001b[1;33m]\u001b[0m\u001b[1;33m)\u001b[0m \u001b[1;31m# check input (just in case)\u001b[0m\u001b[1;33m\u001b[0m\u001b[1;33m\u001b[0m\u001b[0m\n\u001b[1;32m---> 11\u001b[1;33m         \u001b[0mIO_check\u001b[0m\u001b[1;33m[\u001b[0m\u001b[0mk\u001b[0m\u001b[1;33m,\u001b[0m\u001b[1;36m1\u001b[0m\u001b[1;33m]\u001b[0m \u001b[1;33m=\u001b[0m \u001b[0mOP\u001b[0m\u001b[1;33m(\u001b[0m\u001b[0mpred_pts\u001b[0m\u001b[1;33m[\u001b[0m\u001b[0mk\u001b[0m\u001b[1;33m,\u001b[0m\u001b[1;33m:\u001b[0m\u001b[1;33m]\u001b[0m\u001b[1;33m)\u001b[0m \u001b[1;31m# check output\u001b[0m\u001b[1;33m\u001b[0m\u001b[1;33m\u001b[0m\u001b[0m\n\u001b[0m\u001b[0;32m     12\u001b[0m         \u001b[0mprint\u001b[0m\u001b[1;33m(\u001b[0m\u001b[0mIO_check\u001b[0m\u001b[1;33m)\u001b[0m\u001b[1;33m\u001b[0m\u001b[1;33m\u001b[0m\u001b[0m\n\u001b[0;32m     13\u001b[0m \u001b[1;33m\u001b[0m\u001b[0m\n",
      "\u001b[1;31mValueError\u001b[0m: setting an array element with a sequence."
     ]
    }
   ],
   "source": [
    "Pcheck, pred_pts = check_pts(model_11, rand_inputs, IP1, OP1)"
   ]
  },
  {
   "cell_type": "code",
   "execution_count": 114,
   "metadata": {},
   "outputs": [],
   "source": [
    "def find_adverse(input_pts, prop_check):\n",
    "    n = prop_check.shape[0]\n",
    "    index = []\n",
    "    for k in range(n):\n",
    "        if prop_check[k,0] and not(prop_check[k,0]):\n",
    "            index.append(k)\n",
    "    return(input_pts[index,:])"
   ]
  },
  {
   "cell_type": "code",
   "execution_count": 115,
   "metadata": {},
   "outputs": [
    {
     "name": "stdout",
     "output_type": "stream",
     "text": [
      "(0, 5)\n"
     ]
    }
   ],
   "source": [
    "adv = find_adverse(rand_inputs, Pcheck)\n",
    "print(adv.shape)"
   ]
  },
  {
   "cell_type": "code",
   "execution_count": 116,
   "metadata": {},
   "outputs": [
    {
     "data": {
      "text/plain": [
       "(1000000, 2)"
      ]
     },
     "execution_count": 116,
     "metadata": {},
     "output_type": "execute_result"
    }
   ],
   "source": [
    "Pcheck.shape"
   ]
  },
  {
   "cell_type": "markdown",
   "metadata": {},
   "source": [
    "# 5. Statistics on random points"
   ]
  },
  {
   "cell_type": "code",
   "execution_count": 278,
   "metadata": {},
   "outputs": [],
   "source": [
    "def clustering_attempt(N, dim1, dim2, model=model_11):\n",
    "    \"\"\"\n",
    "    Analyse la sortie par le réseau model de N entrées générées aléatoirement, dont seules les composantes dim1 et dim2 \\n\n",
    "    varient (les trois autres composantes sont fixées égales à une valeur moyenne).\n",
    "    \"\"\"\n",
    "    rand_inputs = random_pts(N, [X_dom], X_dom)\n",
    "    fixed_dims = np.array([0, 1, 2, 3, 4])\n",
    "    fixed_dims1 = deepcopy(fixed_dims[fixed_dims != dim1])\n",
    "    fixed_dims2 = deepcopy(fixed_dims1[fixed_dims1 != dim2]) #Contains 3 indexes whose values will be fixed (to the average value)\n",
    "    mean_inputs = [np.mean(rand_inputs[:, i]) for i in range(5)]\n",
    "\n",
    "    rand_inputs[:, fixed_dims2[0]] = mean_inputs[fixed_dims2[0]]*np.ones(N)\n",
    "    rand_inputs[:, fixed_dims2[1]] = mean_inputs[fixed_dims2[1]]*np.ones(N)\n",
    "    rand_inputs[:, fixed_dims2[2]] = mean_inputs[fixed_dims2[2]]*np.ones(N)\n",
    "\n",
    "\n",
    "    rand_outputs = model.predict(normalize(rand_inputs, X_mean, X_range))\n",
    "    preds = np.argmin(rand_outputs, 1)\n",
    "\n",
    "    alabels = [\"$\\rho$\", \"$\\Theta$\", \"$\\psi$\", \"$v_{own}$\", \"$v_{int}$\"]\n",
    "\n",
    "    def clustering(d1, d2):\n",
    "        plt.scatter(rand_inputs[preds==0, dim1], rand_inputs[preds==0, dim2], label=\"COC\")\n",
    "        plt.scatter(rand_inputs[preds==1, dim1], rand_inputs[preds==1, dim2], label=\"WR\")\n",
    "        plt.scatter(rand_inputs[preds==2, dim1], rand_inputs[preds==2, dim2], label=\"WL\")\n",
    "        plt.scatter(rand_inputs[preds==3, dim1], rand_inputs[preds==3, dim2], label=\"SR\")\n",
    "        plt.scatter(rand_inputs[preds==4, dim1], rand_inputs[preds==4, dim2], label=\"SL\")\n",
    "        plt.legend(bbox_to_anchor=(1.05, 1))\n",
    "        plt.xlabel(alabels[dim1], fontsize = 15)\n",
    "        plt.ylabel(alabels[dim2], fontsize = 15)\n",
    "        plt.show()\n",
    "    clustering(dim1, dim2)\n",
    "\n",
    "# Ordre : rho, theta, psi, v_own, v_int \n",
    "\n"
   ]
  },
  {
   "cell_type": "code",
   "execution_count": 274,
   "metadata": {},
   "outputs": [
    {
     "data": {
      "text/plain": [
       "'\\nDisplays to include in the presentation\\n2, 4\\n2, 3\\n0, 1\\n2, 1 ♥\\n1, 3\\n1, 4\\n'"
      ]
     },
     "execution_count": 274,
     "metadata": {},
     "output_type": "execute_result"
    }
   ],
   "source": [
    "\"\"\"\n",
    "Displays to include in the presentation\n",
    "2, 4\n",
    "2, 3\n",
    "0, 1\n",
    "2, 1 ♥\n",
    "1, 3\n",
    "1, 4\n",
    "\"\"\""
   ]
  },
  {
   "cell_type": "code",
   "execution_count": 279,
   "metadata": {},
   "outputs": [
    {
     "data": {
      "image/png": "[encoded data removed]",
      "text/plain": [
       "<Figure size 432x288 with 1 Axes>"
      ]
     },
     "metadata": {
      "needs_background": "light"
     },
     "output_type": "display_data"
    }
   ],
   "source": [
    "clustering_attempt(50000, 1, 2)"
   ]
  },
  {
   "cell_type": "code",
   "execution_count": 280,
   "metadata": {},
   "outputs": [
    {
     "name": "stdout",
     "output_type": "stream",
     "text": [
      "Maxima:  [0.013805518, 0.019990219, 0.13644679, 0.9996823, 0.90597504]\n",
      "Minima:  [1.2702534e-07, 0.0003105947, 7.0034184e-06, 0.019823257, 7.500304e-09]\n",
      "Mean values:  [0.0009061997, 0.0041305344, 0.00979491, 0.96959287, 0.015575443]\n",
      "5th percentile:  [2.3502485007043104e-07, 0.0004058257371070795, 1.1069022775700432e-05, 0.8783774644136428, 1.6267562141791813e-08]\n",
      "95th percentile [0.004933892749249934, 0.015583826228976244, 0.056247988529503246, 0.9995826721191406, 0.04331267084926361]\n"
     ]
    }
   ],
   "source": [
    "max_values = [np.max(rand_outputs[:, i]) for i in range(5)]\n",
    "min_values = [np.min(rand_outputs[:, i]) for i in range(5)]\n",
    "mean_values = [np.mean(rand_outputs[:, i]) for i in range(5)]\n",
    "p5 = [np.percentile(rand_outputs[:, i], 5) for i in range(5)]\n",
    "p95 = [np.percentile(rand_outputs[:, i], 95) for i in range(5)]\n",
    "print(\"Maxima: \", max_values)\n",
    "print(\"Minima: \", min_values)\n",
    "print(\"Mean values: \", mean_values)\n",
    "print(\"5th percentile: \", p5)\n",
    "print(\"95th percentile\", p95)"
   ]
  }
 ],
 "metadata": {
  "kernelspec": {
   "display_name": "Python 3",
   "language": "python",
   "name": "python3"
  },
  "language_info": {
   "codemirror_mode": {
    "name": "ipython",
    "version": 3
   },
   "file_extension": ".py",
   "mimetype": "text/x-python",
   "name": "python",
   "nbconvert_exporter": "python",
   "pygments_lexer": "ipython3",
   "version": "3.8.3"
  }
 },
 "nbformat": 4,
 "nbformat_minor": 4
}
