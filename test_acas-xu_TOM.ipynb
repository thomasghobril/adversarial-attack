{
 "cells": [
  {
   "cell_type": "markdown",
   "metadata": {},
   "source": [
    "# 1. Imports"
   ]
  },
  {
   "cell_type": "code",
   "execution_count": 7,
   "metadata": {},
   "outputs": [],
   "source": [
    "import numpy as np\n",
    "from math import pi"
   ]
  },
  {
   "cell_type": "code",
   "execution_count": 3,
   "metadata": {},
   "outputs": [],
   "source": [
    "from tensorflow.keras.models import load_model"
   ]
  },
  {
   "cell_type": "code",
   "execution_count": 4,
   "metadata": {},
   "outputs": [],
   "source": [
    "# import the necessary packages\n",
    "from tensorflow.keras.losses import MSE\n",
    "from tensorflow.keras.losses import categorical_crossentropy as CCE\n",
    "import tensorflow as tf"
   ]
  },
  {
   "cell_type": "code",
   "execution_count": 10,
   "metadata": {},
   "outputs": [],
   "source": [
    "path_model = \"ACAS_XU_tf_keras/ACASXU_1_1.h5\""
   ]
  },
  {
   "cell_type": "markdown",
   "metadata": {},
   "source": [
    "# 2. Load models"
   ]
  },
  {
   "cell_type": "code",
   "execution_count": 11,
   "metadata": {},
   "outputs": [
    {
     "name": "stdout",
     "output_type": "stream",
     "text": [
      "WARNING:tensorflow:No training configuration found in the save file, so the model was *not* compiled. Compile it manually.\n"
     ]
    }
   ],
   "source": [
    "model_11 = load_model(path_model)"
   ]
  },
  {
   "cell_type": "code",
   "execution_count": 16,
   "metadata": {},
   "outputs": [
    {
     "name": "stdout",
     "output_type": "stream",
     "text": [
      "WARNING:tensorflow:No training configuration found in the save file, so the model was *not* compiled. Compile it manually.\n"
     ]
    }
   ],
   "source": [
    "model_35 = load_model(\"ACAS_XU_tf_keras/ACASXU_3_5.h5\")"
   ]
  },
  {
   "cell_type": "code",
   "execution_count": 12,
   "metadata": {},
   "outputs": [
    {
     "name": "stdout",
     "output_type": "stream",
     "text": [
      "Model: \"sequential_14\"\n",
      "_________________________________________________________________\n",
      "Layer (type)                 Output Shape              Param #   \n",
      "=================================================================\n",
      "dense_98 (Dense)             (None, 50)                300       \n",
      "_________________________________________________________________\n",
      "activation_98 (Activation)   (None, 50)                0         \n",
      "_________________________________________________________________\n",
      "dense_99 (Dense)             (None, 50)                2550      \n",
      "_________________________________________________________________\n",
      "activation_99 (Activation)   (None, 50)                0         \n",
      "_________________________________________________________________\n",
      "dense_100 (Dense)            (None, 50)                2550      \n",
      "_________________________________________________________________\n",
      "activation_100 (Activation)  (None, 50)                0         \n",
      "_________________________________________________________________\n",
      "dense_101 (Dense)            (None, 50)                2550      \n",
      "_________________________________________________________________\n",
      "activation_101 (Activation)  (None, 50)                0         \n",
      "_________________________________________________________________\n",
      "dense_102 (Dense)            (None, 50)                2550      \n",
      "_________________________________________________________________\n",
      "activation_102 (Activation)  (None, 50)                0         \n",
      "_________________________________________________________________\n",
      "dense_103 (Dense)            (None, 50)                2550      \n",
      "_________________________________________________________________\n",
      "activation_103 (Activation)  (None, 50)                0         \n",
      "_________________________________________________________________\n",
      "dense_104 (Dense)            (None, 5)                 255       \n",
      "_________________________________________________________________\n",
      "activation_104 (Activation)  (None, 5)                 0         \n",
      "=================================================================\n",
      "Total params: 13,305\n",
      "Trainable params: 13,305\n",
      "Non-trainable params: 0\n",
      "_________________________________________________________________\n"
     ]
    }
   ],
   "source": [
    "model_11.summary()"
   ]
  },
  {
   "cell_type": "code",
   "execution_count": 13,
   "metadata": {},
   "outputs": [],
   "source": [
    "model_11.compile()"
   ]
  },
  {
   "cell_type": "code",
   "execution_count": 17,
   "metadata": {},
   "outputs": [],
   "source": [
    "model_35.compile()"
   ]
  },
  {
   "cell_type": "code",
   "execution_count": 27,
   "metadata": {},
   "outputs": [
    {
     "data": {
      "text/plain": [
       "array([[0.19883643, 0.20087564, 0.19964513, 0.20093843, 0.19970441]],\n",
       "      dtype=float32)"
      ]
     },
     "execution_count": 27,
     "metadata": {},
     "output_type": "execute_result"
    }
   ],
   "source": [
    "pt = np.array([1.0, 1.0, 1.0, 1.0, 1.0]).reshape(1,5)\n",
    "model_11.predict(pt)"
   ]
  },
  {
   "cell_type": "code",
   "execution_count": 18,
   "metadata": {},
   "outputs": [
    {
     "data": {
      "text/plain": [
       "array([[0.1967246 , 0.2045978 , 0.19686562, 0.20457308, 0.19723897]],\n",
       "      dtype=float32)"
      ]
     },
     "execution_count": 18,
     "metadata": {},
     "output_type": "execute_result"
    }
   ],
   "source": [
    "pt = np.array([1.0, 1.0, 1.0, 1.0, 1.0]).reshape(1,5)\n",
    "model_35.predict(pt)"
   ]
  },
  {
   "cell_type": "markdown",
   "metadata": {},
   "source": [
    "# 3. FGSM"
   ]
  },
  {
   "cell_type": "code",
   "execution_count": 58,
   "metadata": {},
   "outputs": [],
   "source": [
    "def generate_adv_sample(model, x0, label, loss_function=\"MSE\", eps=1e-5):\n",
    "    # transforming into a tensorflow object\n",
    "    x0_ = tf.cast(x0, tf.float32)\n",
    "    \n",
    "    # record our gradients\n",
    "    with tf.GradientTape() as tape:\n",
    "        # explicitly indicate that our input should be tacked for gradient updates\n",
    "        tape.watch(x0_)\n",
    "\n",
    "        # use our model to make predictions on the input and then compute the loss\n",
    "        pred = model(x0_)\n",
    "        if loss_function == \"CCE\":\n",
    "            np_label = np.array([i==label for i in range(0,5)]).reshape((1,5))\n",
    "            loss = CCE(np_label, pred)\n",
    "        elif loss_function == \"MSE\":\n",
    "            loss = MSE(label, pred)\n",
    "        else:\n",
    "            raise Exception(\"Unknown loss function '{0}'\".format(loss_function))\n",
    "        \n",
    "        # calculate the gradients of loss with respect to the input, then compute the sign of the gradient\n",
    "        gradient = tape.gradient(loss, x0_)\n",
    "        signedGrad = tf.sign(gradient)\n",
    "\n",
    "        # construct the image adversary\n",
    "        adv_sample = (x0_ + (signedGrad * eps)).numpy()\n",
    "\n",
    "        # return the adversarial sample to the calling function\n",
    "        return(adv_sample)"
   ]
  },
  {
   "cell_type": "code",
   "execution_count": 62,
   "metadata": {},
   "outputs": [
    {
     "name": "stdout",
     "output_type": "stream",
     "text": [
      "[[0.999 1.001 0.999 1.001 0.999]]\n"
     ]
    }
   ],
   "source": [
    "x0_adv = generate_adv_sample(model_11, pt, label = 0, loss_function = \"CCE\", eps=1e-3)\n",
    "print(x0_adv)"
   ]
  },
  {
   "cell_type": "code",
   "execution_count": 38,
   "metadata": {},
   "outputs": [
    {
     "data": {
      "text/plain": [
       "array([[0.19881836, 0.20089944, 0.19962737, 0.20096485, 0.19969004]],\n",
       "      dtype=float32)"
      ]
     },
     "execution_count": 38,
     "metadata": {},
     "output_type": "execute_result"
    }
   ],
   "source": [
    "model_11.predict(x0_adv)"
   ]
  },
  {
   "cell_type": "code",
   "execution_count": 55,
   "metadata": {},
   "outputs": [
    {
     "data": {
      "text/plain": [
       "array([[0, 0, 1, 0, 0]])"
      ]
     },
     "execution_count": 55,
     "metadata": {},
     "output_type": "execute_result"
    }
   ],
   "source": [
    "np_label = np.array([int(i==2) for i in range(0,5)]).reshape((1,5))\n",
    "np_label"
   ]
  },
  {
   "cell_type": "markdown",
   "metadata": {},
   "source": [
    "# 4. Properties"
   ]
  },
  {
   "cell_type": "code",
   "execution_count": 8,
   "metadata": {},
   "outputs": [],
   "source": [
    "# PROCEDURE : X_normalised = (X - X_mean)/X_range\n",
    "# X = [rho, theta, psi, v_own, v_int] (in that order)\n",
    "\n",
    "X_mean = np.array( [1.9791091*10e4, 0.0, 0.0, 650.0, 600.0] )\n",
    "X_range = np.array( [60261.0, 6.28318530718, 6.28318530718, 1100.0, 1200.0] )\n",
    "\n",
    "X_dom = np.array([ [0.0,    -pi, -pi, 100.0,     0.0],\n",
    "                   [60760.0, pi,  pi, 1200.0, 1200.0] ])\n",
    "\n",
    "# u = np.true_divide(x - X_mean, X_range) # element-wise division"
   ]
  },
  {
   "cell_type": "code",
   "execution_count": 10,
   "metadata": {},
   "outputs": [],
   "source": [
    "# PROPERTY 1\n",
    "\n",
    "def IP1(x):\n",
    "    \"\"\" Check if inputs of property 1 are satisfied. \"\"\"\n",
    "    return( (x[0] >= 55947.691) and (x[3] >= 1145) and (x[4] <= 60) )\n",
    "    \n",
    "def OP1(x, coc_mean=7.5188840201005975, coc_range=373.94992):\n",
    "    \"\"\" Check if outputs of property 1 are satisfied. \"\"\"\n",
    "    coc = (x[0] - coc_mean)/coc_range\n",
    "    return(coc <= 1500)\n",
    "\n",
    "\n",
    "# PROPERTY 2\n",
    "\n",
    "def IP2(x):\n",
    "    return( (x[0] >= 55947.691) and (x[3] >= 1145) and (x[4] <= 60) )\n",
    "\n",
    "def OP2(x):\n",
    "    \"\"\" COC score is not the maximal score. \"\"\"\n",
    "    return(np.argmax(x) != 0)\n",
    "\n",
    "\n",
    "# PROPERTY 3\n",
    "\n",
    "def IP3(x):\n",
    "    return( (1500.0 <= x[0] <= 1800.0) and (-0.06 <= x[1] <= 0.06) and (3.10 <= x[2]) and (980.0 <= x[3]) and (960.0 <= x[4]) )\n",
    "\n",
    "def OP3(x):\n",
    "    \"\"\" COC score is not the minimal score. \"\"\"\n",
    "    return(np.argmin(x) != 0)\n",
    "\n",
    "\n",
    "# PROPERTY 4\n",
    "\n",
    "def IP4(x):\n",
    "    return( (1500.0 <= x[0] <= 1800.0) and (-0.06 <= x[1] <= 0.06) and (x[2] == 0) and (1000.0 <= x[3]) and (700.0 <= x[4] <= 800.0) )\n",
    "\n",
    "def OP4(x):\n",
    "    \"\"\" COC score is not the minimal score. \"\"\"\n",
    "    return(np.argmin(x) != 0)\n",
    "\n",
    "\n",
    "# PROPERTY 5\n",
    "\n",
    "def IP5(x):\n",
    "    return( (250.0 <= x[0] <= 400.0) and (0.2 <= x[1] <= 0.4) and (-3.141592 <= x[2] <= -3.141592 + 0.005) and (100.0 <= x[3] <= 400.0) and (0.0 <= x[4] <= 400.0) )\n",
    "\n",
    "def OP5(x):\n",
    "    \"\"\" SRC score is the minimal score. \"\"\"\n",
    "    return(np.argmin(x) == 3)\n",
    "\n",
    "\n",
    "# PROPERTY 6\n",
    "\n",
    "def IP6(x):\n",
    "    return( (12000.0 <= x[0] <= 62000.0) and ((0.7 <= x[1] <= 3.141592) or (-3.141592 <= x[1] <= -0.7)) and (-3.141592 <= x[2] <= -3.141592+0.005) and (100.0 <= x[3] <= 1200.0) and (0.0 <= x[4] <= 1200.0) )\n",
    "\n",
    "def OP6(x):\n",
    "    \"\"\" COC score is the minimal score. \"\"\"\n",
    "    return(np.argmin(x) == 0)\n",
    "\n",
    "\n",
    "# PROPERTY 7\n",
    "\n",
    "def IP7(x):\n",
    "    return( (12000.0 <= x[0] <= 60760.0) and (-3.141592 <= x[1] <= 3.141592) and (-3.141592 <= x[2] <= 3.141592) and (100.0 <= x[3] <= 1200.0) and (0.0 <= x[4] <= 1200.0) )\n",
    "\n",
    "def OP7(x):\n",
    "    \"\"\" SR score and SL score are not the minimal scores. \"\"\"\n",
    "    min_score_ind = np.argmin(x)\n",
    "    return( (min_score_ind != 3) and (min_score_ind != 4) )\n",
    "\n",
    "\n",
    "# PROPERTY 8\n",
    "\n",
    "def IP8(x):\n",
    "    return( (0.0 <= x[0] <= 60760.0) and (-3.141592 <= x[1] <= -0.75*3.141592) and (-0.1 <= x[2] <= 0.1) and (600.0 <= x[3] <= 1200.0) and (600.0 <= x[4] <= 1200.0) )\n",
    "\n",
    "def OP8(x):\n",
    "    \"\"\" COC score or WL score is the minimal score. \"\"\"\n",
    "    min_score_ind = np.argmin(x)\n",
    "    return( (min_score_ind == 0) and (min_score_ind == 2) )\n",
    "\n",
    "\n",
    "# PROPERTY 9\n",
    "\n",
    "def IP9(x):\n",
    "    return( (2000.0 <= x[0] <= 7000.0) and (-0.4 <= x[1] <= -0.14) and (-3.141592 <= x[2] <= -3.141592+0.01) and (100.0 <= x[3] <= 150.0) and (0.0 <= x[4] <= 150.0) )\n",
    "\n",
    "def OP9(x):\n",
    "    \"\"\" SL score is the minimal score. \"\"\"\n",
    "    return(np.argmin(x) == 4)\n",
    "\n",
    "\n",
    "# PROPERTY 10\n",
    "\n",
    "def IP10(x):\n",
    "    return( (36000.0 <= x[0] <= 60760.0) and (0.7 <= x[1] <= 3.141592) and (-3.141592 <= x[2] <= -3.141592+0.01) and (900.0 <= x[3] <= 1200.0) and (600.0 <= x[4] <= 1200.0) )\n",
    "\n",
    "def OP10(x):\n",
    "    \"\"\" COC score is the minimal score. \"\"\"\n",
    "    return(np.argmin(x) == 0)"
   ]
  },
  {
   "cell_type": "markdown",
   "metadata": {},
   "source": [
    "# 5. Random search"
   ]
  },
  {
   "cell_type": "code",
   "execution_count": null,
   "metadata": {},
   "outputs": [],
   "source": []
  },
  {
   "cell_type": "code",
   "execution_count": null,
   "metadata": {},
   "outputs": [],
   "source": []
  },
  {
   "cell_type": "code",
   "execution_count": null,
   "metadata": {},
   "outputs": [],
   "source": []
  }
 ],
 "metadata": {
  "kernelspec": {
   "display_name": "Python 3",
   "language": "python",
   "name": "python3"
  },
  "language_info": {
   "codemirror_mode": {
    "name": "ipython",
    "version": 3
   },
   "file_extension": ".py",
   "mimetype": "text/x-python",
   "name": "python",
   "nbconvert_exporter": "python",
   "pygments_lexer": "ipython3",
   "version": "3.8.3"
  }
 },
 "nbformat": 4,
 "nbformat_minor": 4
}
