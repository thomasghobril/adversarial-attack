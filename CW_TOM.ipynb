{
 "cells": [
  {
   "cell_type": "markdown",
   "metadata": {},
   "source": [
    "# 1. Imports"
   ]
  },
  {
   "cell_type": "code",
   "execution_count": 1,
   "metadata": {},
   "outputs": [],
   "source": [
    "import numpy as np\n",
    "from math import pi"
   ]
  },
  {
   "cell_type": "code",
   "execution_count": 2,
   "metadata": {},
   "outputs": [],
   "source": [
    "from tensorflow.keras.models import load_model"
   ]
  },
  {
   "cell_type": "code",
   "execution_count": 3,
   "metadata": {},
   "outputs": [],
   "source": [
    "from tensorflow.keras.losses import MSE\n",
    "from tensorflow.keras.losses import categorical_crossentropy as CCE\n",
    "import tensorflow as tf"
   ]
  },
  {
   "cell_type": "code",
   "execution_count": 4,
   "metadata": {},
   "outputs": [],
   "source": [
    "from art.attacks.evasion import *\n",
    "from art.estimators.classification import TensorFlowV2Classifier\n",
    "\n",
    "from matplotlib import pyplot as plt\n",
    "\n",
    "import numpy as np\n",
    "\n",
    "from tensorflow.keras import Model\n",
    "from tensorflow.keras.layers import Dense, Flatten, Conv2D\n",
    "import tensorflow as tf\n",
    "\n",
    "import os\n",
    "import warnings\n",
    "warnings.filterwarnings('ignore')\n",
    "os.environ['TF_CPP_MIN_LOG_LEVEL'] = '3'"
   ]
  },
  {
   "cell_type": "code",
   "execution_count": 5,
   "metadata": {},
   "outputs": [],
   "source": [
    "# Load properties from another python file\n",
    "from properties import *"
   ]
  },
  {
   "cell_type": "code",
   "execution_count": 6,
   "metadata": {},
   "outputs": [],
   "source": [
    "from random import random, randint"
   ]
  },
  {
   "cell_type": "markdown",
   "metadata": {},
   "source": [
    "# 2. Load models"
   ]
  },
  {
   "cell_type": "code",
   "execution_count": 7,
   "metadata": {},
   "outputs": [],
   "source": [
    "path_model = \"ACAS_XU_tf_keras/ACASXU_1_1.h5\""
   ]
  },
  {
   "cell_type": "code",
   "execution_count": 8,
   "metadata": {},
   "outputs": [
    {
     "name": "stdout",
     "output_type": "stream",
     "text": [
      "WARNING:tensorflow:No training configuration found in the save file, so the model was *not* compiled. Compile it manually.\n"
     ]
    }
   ],
   "source": [
    "model_11 = load_model(path_model)"
   ]
  },
  {
   "cell_type": "code",
   "execution_count": null,
   "metadata": {},
   "outputs": [],
   "source": [
    "model_35 = load_model(\"ACAS_XU_tf_keras/ACASXU_3_5.h5\")"
   ]
  },
  {
   "cell_type": "code",
   "execution_count": 9,
   "metadata": {},
   "outputs": [
    {
     "name": "stdout",
     "output_type": "stream",
     "text": [
      "Model: \"sequential_14\"\n",
      "_________________________________________________________________\n",
      "Layer (type)                 Output Shape              Param #   \n",
      "=================================================================\n",
      "dense_98 (Dense)             (None, 50)                300       \n",
      "_________________________________________________________________\n",
      "activation_98 (Activation)   (None, 50)                0         \n",
      "_________________________________________________________________\n",
      "dense_99 (Dense)             (None, 50)                2550      \n",
      "_________________________________________________________________\n",
      "activation_99 (Activation)   (None, 50)                0         \n",
      "_________________________________________________________________\n",
      "dense_100 (Dense)            (None, 50)                2550      \n",
      "_________________________________________________________________\n",
      "activation_100 (Activation)  (None, 50)                0         \n",
      "_________________________________________________________________\n",
      "dense_101 (Dense)            (None, 50)                2550      \n",
      "_________________________________________________________________\n",
      "activation_101 (Activation)  (None, 50)                0         \n",
      "_________________________________________________________________\n",
      "dense_102 (Dense)            (None, 50)                2550      \n",
      "_________________________________________________________________\n",
      "activation_102 (Activation)  (None, 50)                0         \n",
      "_________________________________________________________________\n",
      "dense_103 (Dense)            (None, 50)                2550      \n",
      "_________________________________________________________________\n",
      "activation_103 (Activation)  (None, 50)                0         \n",
      "_________________________________________________________________\n",
      "dense_104 (Dense)            (None, 5)                 255       \n",
      "_________________________________________________________________\n",
      "activation_104 (Activation)  (None, 5)                 0         \n",
      "=================================================================\n",
      "Total params: 13,305\n",
      "Trainable params: 13,305\n",
      "Non-trainable params: 0\n",
      "_________________________________________________________________\n"
     ]
    }
   ],
   "source": [
    "model_11.summary()"
   ]
  },
  {
   "cell_type": "code",
   "execution_count": 10,
   "metadata": {},
   "outputs": [],
   "source": [
    "model_11.compile()"
   ]
  },
  {
   "cell_type": "code",
   "execution_count": null,
   "metadata": {},
   "outputs": [],
   "source": [
    "model_35.compile()"
   ]
  },
  {
   "cell_type": "code",
   "execution_count": null,
   "metadata": {},
   "outputs": [],
   "source": [
    "pt = np.array([1.0, 1.0, 1.0, 1.0, 1.0]).reshape(1,5)\n",
    "model_11.predict(pt)"
   ]
  },
  {
   "cell_type": "code",
   "execution_count": null,
   "metadata": {},
   "outputs": [],
   "source": [
    "pt = np.array([1.0, 1.0, 1.0, 1.0, 1.0]).reshape(1,5)\n",
    "model_35.predict(pt)"
   ]
  },
  {
   "cell_type": "code",
   "execution_count": 29,
   "metadata": {},
   "outputs": [],
   "source": [
    "ACAS_model = model_11"
   ]
  },
  {
   "cell_type": "markdown",
   "metadata": {},
   "source": [
    "# 3. Carlini & Wagner = CW"
   ]
  },
  {
   "cell_type": "code",
   "execution_count": null,
   "metadata": {},
   "outputs": [],
   "source": [
    "\"\"\"\n",
    "def generate_adv_sample(model, x0, label, loss_function=\"MSE\", eps=1e-5):\n",
    "    # transforming into a tensorflow object\n",
    "    x0_ = tf.cast(x0, tf.float32)\n",
    "    \n",
    "    # record our gradients\n",
    "    with tf.GradientTape() as tape:\n",
    "        # explicitly indicate that our input should be tacked for gradient updates\n",
    "        tape.watch(x0_)\n",
    "\n",
    "        # use our model to make predictions on the input and then compute the loss\n",
    "        pred = model(x0_)\n",
    "        if loss_function == \"CCE\":\n",
    "            np_label = np.array([i==label for i in range(0,5)]).reshape((1,5))\n",
    "            loss = CCE(np_label, pred)\n",
    "        elif loss_function == \"MSE\":\n",
    "            loss = MSE(label, pred)\n",
    "        else:\n",
    "            raise Exception(\"Unknown loss function '{0}'\".format(loss_function))\n",
    "        \n",
    "        # calculate the gradients of loss with respect to the input, then compute the sign of the gradient\n",
    "        gradient = tape.gradient(loss, x0_)\n",
    "        signedGrad = tf.sign(gradient)\n",
    "\n",
    "        # construct the image adversary\n",
    "        adv_sample = (x0_ + (signedGrad * eps)).numpy()\n",
    "\n",
    "        # return the adversarial sample to the calling function\n",
    "        return(adv_sample)\n",
    "\"\"\""
   ]
  },
  {
   "cell_type": "code",
   "execution_count": 13,
   "metadata": {},
   "outputs": [
    {
     "name": "stdout",
     "output_type": "stream",
     "text": [
      "(2, 5)\n",
      "[[0.8  0.8  0.8  0.8  0.8 ]\n",
      " [0.48 0.4  0.8  0.24 0.8 ]]\n"
     ]
    }
   ],
   "source": [
    "x_test = 0.8*np.array([[1.0, 1.0, 1.0, 1.0, 1.0],[0.6, 0.5, 1.0, 0.3, 1.0]])\n",
    "print(x_test.shape)\n",
    "print(x_test)"
   ]
  },
  {
   "cell_type": "code",
   "execution_count": 30,
   "metadata": {},
   "outputs": [],
   "source": [
    "ACAS_classifier = TensorFlowV2Classifier(\n",
    "    model=ACAS_model,\n",
    "    loss_object=MSE,\n",
    "    train_step=None,\n",
    "    nb_classes=5,\n",
    "    input_shape=(1, 5, 1),\n",
    "    clip_values=(-1.0, 1.0),\n",
    ")"
   ]
  },
  {
   "cell_type": "code",
   "execution_count": 14,
   "metadata": {},
   "outputs": [
    {
     "data": {
      "application/vnd.jupyter.widget-view+json": {
       "model_id": "1df0132800804b40af3a21b38bb8d958",
       "version_major": 2,
       "version_minor": 0
      },
      "text/plain": [
       "HBox(children=(FloatProgress(value=0.0, description='C&W L_inf', max=2.0, style=ProgressStyle(description_widt…"
      ]
     },
     "metadata": {},
     "output_type": "display_data"
    },
    {
     "name": "stdout",
     "output_type": "stream",
     "text": [
      "WARNING:tensorflow:Calling GradientTape.gradient on a persistent tape inside its context is significantly less efficient than calling it outside the context (it causes the gradient ops to be recorded on the tape, leading to increased CPU and memory usage). Only call GradientTape.gradient inside the context if you actually want to trace the gradient in order to compute higher order derivatives.\n",
      "\n",
      "(2, 5)\n",
      "[[0.8  0.8  0.8  0.8  0.8 ]\n",
      " [0.48 0.4  0.8  0.24 0.8 ]]\n"
     ]
    }
   ],
   "source": [
    "attack_CW = CarliniLInfMethod(classifier=ACAS_classifier,\n",
    "                              initial_const=1.0, \n",
    "                              max_iter=100, \n",
    "                              # targeted=True, \n",
    "                              verbose=True)\n",
    "\n",
    "x_adv_cw = attack_CW.generate(x_test) #, y=np.array([[0,1,0,0,0]]))\n",
    "\n",
    "print(x_adv_cw.shape)\n",
    "print(x_adv_cw)"
   ]
  },
  {
   "cell_type": "code",
   "execution_count": 39,
   "metadata": {},
   "outputs": [
    {
     "name": "stdout",
     "output_type": "stream",
     "text": [
      "[[ 0.    0.    1.    0.    1.  ]\n",
      " [-0.32 -0.4   1.    1.    0.  ]]\n"
     ]
    }
   ],
   "source": [
    "intensity_fgsm = 0.8\n",
    "\n",
    "attack_FGSM = FastGradientMethod(estimator=ACAS_classifier,\n",
    "                                 eps=intensity_fgsm)\n",
    "\n",
    "x_adv_fgsm = attack_FGSM.generate(x_test)\n",
    "\n",
    "print(x_adv_fgsm)"
   ]
  },
  {
   "cell_type": "markdown",
   "metadata": {},
   "source": [
    "# 4. Generate points"
   ]
  },
  {
   "cell_type": "code",
   "execution_count": 103,
   "metadata": {},
   "outputs": [],
   "source": [
    "def random_pts(n, prop_dom, main_dom):\n",
    "    \"\"\" prop_dom is a list of domains given by intervals in a numpy 2x5 table. \"\"\"\n",
    "    ndom = len(prop_dom)\n",
    "    ndim = main_dom.shape[1]\n",
    "    \n",
    "    x = np.zeros((n,ndim))\n",
    "    for i in range(n): # generate the i-th point\n",
    "        choosen_dom = prop_dom[randint(0,ndom-1)] # choose the input property domain for a given prop\n",
    "        for k in range(ndim): # create a random coord for each dim\n",
    "            boundaries = main_dom[:,k]\n",
    "            if choosen_dom[0,k] != None:\n",
    "                boundaries[0] = choosen_dom[0,k]\n",
    "            if choosen_dom[1,k] != None:\n",
    "                boundaries[1] = choosen_dom[1,k]\n",
    "            x[i,k] = boundaries[0] + random()*(boundaries[1]-boundaries[0])\n",
    "\n",
    "    return(x)"
   ]
  },
  {
   "cell_type": "code",
   "execution_count": 16,
   "metadata": {},
   "outputs": [],
   "source": [
    "def random_main_pts(n, main_dom):\n",
    "    \"\"\" Generate random points in the main domain given by intervals stored in a numpy 2x5 table. \"\"\"\n",
    "    ndim = main_dom.shape[1]\n",
    "    \n",
    "    x = np.zeros((n,ndim))\n",
    "    for k in range(ndim): # create a random coord for each dim\n",
    "        col = main_dom[0,k]*np.ones((n,1)) + np.random.rand(n,1)*(main_dom[1,k] - main_dom[0,k])\n",
    "        for i in range(n):\n",
    "            x[i,k] = col[i]\n",
    "\n",
    "    return(x)"
   ]
  },
  {
   "cell_type": "code",
   "execution_count": 79,
   "metadata": {},
   "outputs": [],
   "source": [
    "x_test = random_main_pts(1000, X_dom)"
   ]
  },
  {
   "cell_type": "code",
   "execution_count": 104,
   "metadata": {},
   "outputs": [],
   "source": [
    "def normalize(x, x_mean, x_range):\n",
    "    (n,k) = x.shape\n",
    "    nx = np.zeros((n,k))\n",
    "    for i in range(n):\n",
    "        for j in range(k):\n",
    "            nx[i,j] = (x[i,j]-x_mean[j])/x_range[j]\n",
    "    return(nx)"
   ]
  },
  {
   "cell_type": "code",
   "execution_count": 105,
   "metadata": {},
   "outputs": [],
   "source": [
    "def check_pts(model, input_pts, IP, OP):\n",
    "    n = input_pts.shape[0]\n",
    "    IO_check = np.zeros((n,2)) # 1st column : input checked - 2nd column : output checked\n",
    "    \n",
    "    norm_input = normalize(input_pts, X_mean, X_range) # normalize pts\n",
    "    \n",
    "    pred_pts = model.predict(norm_input) # make predictions with the model (neural net)\n",
    "    \n",
    "    for k in range(n):\n",
    "        IO_check[k,0] = IP(input_pts[k,:]) # check input (just in case)\n",
    "        IO_check[k,1] = OP(pred_pts[k,:]) # check output\n",
    "\n",
    "    return(IO_check, pred_pts)"
   ]
  },
  {
   "cell_type": "code",
   "execution_count": 112,
   "metadata": {},
   "outputs": [],
   "source": [
    "rand_inputs = random_pts(1000000, IP2_dom, X_dom)"
   ]
  },
  {
   "cell_type": "code",
   "execution_count": 113,
   "metadata": {},
   "outputs": [],
   "source": [
    "Pcheck, pred_pts = check_pts(model_11, rand_inputs, IP1, OP1)"
   ]
  },
  {
   "cell_type": "code",
   "execution_count": 117,
   "metadata": {},
   "outputs": [],
   "source": [
    "def find_adverse(input_pts, prop_check):\n",
    "    n = prop_check.shape[0]\n",
    "    index = []\n",
    "    for k in range(n):\n",
    "        if prop_check[k,0] and not(prop_check[k,1]):\n",
    "            index.append(k)\n",
    "    return(input_pts[index,:])"
   ]
  },
  {
   "cell_type": "code",
   "execution_count": 118,
   "metadata": {},
   "outputs": [
    {
     "name": "stdout",
     "output_type": "stream",
     "text": [
      "(0, 5)\n"
     ]
    }
   ],
   "source": [
    "adv = find_adverse(rand_inputs, Pcheck)\n",
    "print(adv.shape)"
   ]
  },
  {
   "cell_type": "code",
   "execution_count": 116,
   "metadata": {},
   "outputs": [
    {
     "data": {
      "text/plain": [
       "(1000000, 2)"
      ]
     },
     "execution_count": 116,
     "metadata": {},
     "output_type": "execute_result"
    }
   ],
   "source": [
    "Pcheck.shape"
   ]
  },
  {
   "cell_type": "markdown",
   "metadata": {},
   "source": [
    "# Try FGSM & CW"
   ]
  },
  {
   "cell_type": "code",
   "execution_count": 47,
   "metadata": {},
   "outputs": [],
   "source": [
    "original_pts = np.random.rand(10, 5) # random_main_pts(10, X_dom)"
   ]
  },
  {
   "cell_type": "code",
   "execution_count": 48,
   "metadata": {},
   "outputs": [
    {
     "name": "stdout",
     "output_type": "stream",
     "text": [
      "[[0.8377245  0.74456    0.25902265 0.09397303 0.05569007]\n",
      " [0.47215357 0.71655417 0.21923121 0.898122   0.52910626]\n",
      " [0.5332981  0.22828044 0.29442809 0.78952536 0.6968603 ]\n",
      " [0.56954083 0.54455364 0.23186989 0.82858992 0.46137778]\n",
      " [0.490866   0.02590769 0.72713321 0.02189469 0.77439508]\n",
      " [0.82136041 0.26128093 0.12451134 0.99664711 0.23838506]\n",
      " [0.62239794 0.84862118 0.52782687 0.41611897 0.68149823]\n",
      " [0.90684225 0.38932749 0.17970234 0.61160592 0.87404112]\n",
      " [0.28027271 0.70340199 0.01710091 0.56575161 0.19973995]\n",
      " [0.12103047 0.00881489 0.25273928 0.46360088 0.63755401]]\n"
     ]
    }
   ],
   "source": [
    "print(original_pts)"
   ]
  },
  {
   "cell_type": "code",
   "execution_count": 49,
   "metadata": {},
   "outputs": [
    {
     "data": {
      "application/vnd.jupyter.widget-view+json": {
       "model_id": "e4a4bcbe0f2743d9905bf5a6328a4e46",
       "version_major": 2,
       "version_minor": 0
      },
      "text/plain": [
       "HBox(children=(FloatProgress(value=0.0, description='C&W L_inf', max=10.0, style=ProgressStyle(description_wid…"
      ]
     },
     "metadata": {},
     "output_type": "display_data"
    },
    {
     "name": "stdout",
     "output_type": "stream",
     "text": [
      "\n"
     ]
    }
   ],
   "source": [
    "adv_pts_cw = attack_CW.generate(original_pts)"
   ]
  },
  {
   "cell_type": "code",
   "execution_count": 50,
   "metadata": {},
   "outputs": [],
   "source": [
    "adv_pts_fgsm = attack_FGSM.generate(original_pts)"
   ]
  },
  {
   "cell_type": "code",
   "execution_count": 51,
   "metadata": {},
   "outputs": [
    {
     "name": "stdout",
     "output_type": "stream",
     "text": [
      "CW\n",
      "[[0.8377245  0.74456    0.25902265 0.09397303 0.05569007]\n",
      " [0.47215357 0.71655416 0.2192312  0.898122   0.52910626]\n",
      " [0.5332981  0.22828044 0.29442808 0.78952533 0.6968603 ]\n",
      " [0.56954086 0.54455364 0.23186989 0.8285899  0.46137777]\n",
      " [0.48535177 0.01856896 0.7332181  0.01858784 0.77924097]\n",
      " [0.8213604  0.26128092 0.12451134 0.9966471  0.23838505]\n",
      " [0.62239796 0.8486212  0.52782685 0.41611898 0.6814982 ]\n",
      " [0.90684223 0.3893275  0.17970234 0.61160594 0.87404114]\n",
      " [0.28027272 0.703402   0.01710091 0.5657516  0.19973995]\n",
      " [0.12103047 0.00881489 0.25273928 0.46360087 0.637554  ]]\n",
      "FGSM\n",
      "[[ 0.0377245   1.         -0.54097736 -0.706027    0.85569006]\n",
      " [-0.32784644  1.          1.          0.09812201  1.        ]\n",
      " [ 1.          1.         -0.5055719   1.         -0.1031397 ]\n",
      " [-0.23045915 -0.25544637  1.          1.         -0.3386222 ]\n",
      " [-0.309134   -0.7740923   1.         -0.7781053   1.        ]\n",
      " [ 0.02136041 -0.53871906 -0.67548865  0.19664711  1.        ]\n",
      " [-0.17760205  0.04862119 -0.27217314 -0.38388103  1.        ]\n",
      " [ 0.10684225 -0.41067252 -0.6202977   1.          0.07404113]\n",
      " [-0.5197273  -0.09659801  0.8171009  -0.2342484   0.99973994]\n",
      " [-0.6789695   0.8088149  -0.5472607  -0.33639914  1.        ]]\n"
     ]
    }
   ],
   "source": [
    "print(\"CW\")\n",
    "print(adv_pts_cw)\n",
    "\n",
    "print(\"FGSM\")\n",
    "print(adv_pts_fgsm)"
   ]
  },
  {
   "cell_type": "code",
   "execution_count": 52,
   "metadata": {},
   "outputs": [],
   "source": [
    "original_pred = ACAS_model.predict(original_pts)\n",
    "\n",
    "adv_pred_cw = ACAS_model.predict(adv_pts_cw)\n",
    "adv_pred_fgsm = ACAS_model.predict(adv_pts_fgsm)"
   ]
  },
  {
   "cell_type": "code",
   "execution_count": 54,
   "metadata": {},
   "outputs": [
    {
     "name": "stdout",
     "output_type": "stream",
     "text": [
      "Original pred :\n",
      "[[0.19949643 0.20014174 0.20012534 0.20012468 0.2001118 ]\n",
      " [0.19952053 0.20013495 0.20011802 0.2001167  0.20010985]\n",
      " [0.1995482  0.20012693 0.20010968 0.20010777 0.20010735]\n",
      " [0.19953354 0.20013192 0.20011353 0.20011126 0.2001097 ]\n",
      " [0.1989527  0.19874685 0.20220192 0.19503412 0.20506445]\n",
      " [0.19956627 0.20012143 0.20010449 0.20010245 0.20010532]\n",
      " [0.19945754 0.20015381 0.20013644 0.20013584 0.20011644]\n",
      " [0.19953272 0.20013191 0.200114   0.20011197 0.20010942]\n",
      " [0.19960083 0.20011099 0.20009446 0.20009215 0.20010157]\n",
      " [0.19955824 0.20012242 0.20010786 0.20010726 0.2001042 ]]\n",
      "CW pred :\n",
      "[[0.19949643 0.20014174 0.20012534 0.20012468 0.2001118 ]\n",
      " [0.19952053 0.20013495 0.20011802 0.2001167  0.20010985]\n",
      " [0.1995482  0.20012693 0.20010968 0.20010777 0.20010735]\n",
      " [0.19953354 0.20013192 0.20011353 0.20011126 0.2001097 ]\n",
      " [0.19954535 0.19945152 0.20077102 0.19946922 0.20076291]\n",
      " [0.19956627 0.20012143 0.20010449 0.20010245 0.20010532]\n",
      " [0.19945754 0.20015381 0.20013644 0.20013584 0.20011644]\n",
      " [0.19953272 0.20013191 0.200114   0.20011197 0.20010942]\n",
      " [0.19960083 0.20011099 0.20009446 0.20009215 0.20010157]\n",
      " [0.19955824 0.20012242 0.20010786 0.20010726 0.2001042 ]]\n",
      "FGSM pred :\n",
      "[[0.19977537 0.19991809 0.20002343 0.20016548 0.20011762]\n",
      " [0.19905476 0.2086346  0.20541388 0.19753283 0.1893639 ]\n",
      " [0.19936524 0.2001907  0.20015664 0.20014855 0.20013891]\n",
      " [0.19938634 0.20018074 0.20015314 0.20014817 0.20013167]\n",
      " [0.2011537  0.19917662 0.19870682 0.19981538 0.20114747]\n",
      " [0.19968252 0.19993462 0.20017102 0.20000581 0.20020601]\n",
      " [0.19946153 0.20011425 0.20018047 0.20012113 0.20012267]\n",
      " [0.19962206 0.20010403 0.20008872 0.20008673 0.2000985 ]\n",
      " [0.17623779 0.10337823 0.21413293 0.10308024 0.4031708 ]\n",
      " [0.03555838 0.21323025 0.09777422 0.6436834  0.00975375]]\n"
     ]
    }
   ],
   "source": [
    "print(\"Original pred :\")\n",
    "print(original_pred)\n",
    "\n",
    "print(\"CW pred :\")\n",
    "print(adv_pred_cw)\n",
    "print(\"FGSM pred :\")\n",
    "print(adv_pred_fgsm)"
   ]
  },
  {
   "cell_type": "code",
   "execution_count": 55,
   "metadata": {},
   "outputs": [],
   "source": [
    "original_advice = np.argmin(original_pred, axis=1)\n",
    "\n",
    "cw_advice = np.argmin(adv_pred_cw, axis=1)\n",
    "fgsm_advice = np.argmin(adv_pred_fgsm, axis=1)"
   ]
  },
  {
   "cell_type": "code",
   "execution_count": 56,
   "metadata": {},
   "outputs": [
    {
     "name": "stdout",
     "output_type": "stream",
     "text": [
      "[0 0 0 0 3 0 0 0 0 0]\n",
      "[0 0 0 0 1 0 0 0 0 0]\n",
      "[0 4 0 0 2 0 0 0 3 4]\n"
     ]
    }
   ],
   "source": [
    "print(original_advice)\n",
    "\n",
    "print(cw_advice)\n",
    "print(fgsm_advice)"
   ]
  },
  {
   "cell_type": "code",
   "execution_count": 46,
   "metadata": {},
   "outputs": [
    {
     "data": {
      "image/png": "[encoded data removed]",
      "text/plain": [
       "<Figure size 432x288 with 1 Axes>"
      ]
     },
     "metadata": {
      "needs_background": "light"
     },
     "output_type": "display_data"
    }
   ],
   "source": [
    "plt.scatter(original_pts[:,0], original_pts[:,1], color='blue')\n",
    "plt.scatter(adv_pts_fgsm[:,0], adv_pts_fgsm[:,1], color='red')\n",
    "plt.show()"
   ]
  }
 ],
 "metadata": {
  "kernelspec": {
   "display_name": "Python 3",
   "language": "python",
   "name": "python3"
  },
  "language_info": {
   "codemirror_mode": {
    "name": "ipython",
    "version": 3
   },
   "file_extension": ".py",
   "mimetype": "text/x-python",
   "name": "python",
   "nbconvert_exporter": "python",
   "pygments_lexer": "ipython3",
   "version": "3.8.3"
  }
 },
 "nbformat": 4,
 "nbformat_minor": 4
}
