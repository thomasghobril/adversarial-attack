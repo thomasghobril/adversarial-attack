{
 "cells": [
  {
   "cell_type": "markdown",
   "metadata": {},
   "source": [
    "# 1. Imports"
   ]
  },
  {
   "cell_type": "code",
   "execution_count": 1,
   "metadata": {},
   "outputs": [],
   "source": [
    "from art.attacks.evasion import *\n",
    "from art.estimators.classification import TensorFlowV2Classifier\n",
    "\n",
    "import numpy as np\n",
    "from math import pi\n",
    "from random import random, randint\n",
    "\n",
    "import pandas as pd\n",
    "import seaborn as sns\n",
    "\n",
    "from matplotlib import pyplot as plt\n",
    "\n",
    "from tensorflow.keras.losses import MSE\n",
    "from tensorflow.keras.losses import categorical_crossentropy as CCE\n",
    "from tensorflow.keras.models import load_model\n",
    "\n",
    "import os\n",
    "import warnings\n",
    "warnings.filterwarnings('ignore')\n",
    "os.environ['TF_CPP_MIN_LOG_LEVEL'] = '3'"
   ]
  },
  {
   "cell_type": "code",
   "execution_count": 34,
   "metadata": {},
   "outputs": [
    {
     "name": "stdout",
     "output_type": "stream",
     "text": [
      "Frontieres du domaine :\n",
      "[[-0.32842288 -0.5        -0.5        -0.5        -0.5       ]\n",
      " [ 0.67985777  0.5         0.5         0.5         0.5       ]]\n"
     ]
    }
   ],
   "source": [
    "input_names = ['rho','theta','psi','v_own','v_int']\n",
    "\n",
    "X_mean = np.array( [1.9791091*1e4, 0.0, 0.0, 650.0, 600.0] )\n",
    "X_range = np.array( [60261.0, 6.28318530718, 6.28318530718, 1100.0, 1200.0] )\n",
    "X_dom = np.array([ [0.0,    -pi, -pi, 100.0,     0.0],\n",
    "                   [60760.0, pi,  pi, 1200.0, 1200.0] ])\n",
    "\n",
    "# print(X_mean) ; print(X_range) ; print(X_dom) ; print(\"\")\n",
    "\n",
    "inputs_boundaries = np.zeros((2,5))\n",
    "for k in range(5):\n",
    "    inputs_boundaries[0,k] = (X_dom[0,k]-X_mean[k])/X_range[k]\n",
    "    inputs_boundaries[1,k] = (X_dom[1,k]-X_mean[k])/X_range[k]\n",
    "\n",
    "print(\"Frontieres du domaine :\")\n",
    "print(inputs_boundaries)"
   ]
  },
  {
   "cell_type": "markdown",
   "metadata": {},
   "source": [
    "# 2. Load models"
   ]
  },
  {
   "cell_type": "code",
   "execution_count": 3,
   "metadata": {},
   "outputs": [
    {
     "name": "stdout",
     "output_type": "stream",
     "text": [
      "WARNING:tensorflow:No training configuration found in the save file, so the model was *not* compiled. Compile it manually.\n",
      "Model: \"sequential_14\"\n",
      "_________________________________________________________________\n",
      "Layer (type)                 Output Shape              Param #   \n",
      "=================================================================\n",
      "dense_98 (Dense)             (None, 50)                300       \n",
      "_________________________________________________________________\n",
      "activation_98 (Activation)   (None, 50)                0         \n",
      "_________________________________________________________________\n",
      "dense_99 (Dense)             (None, 50)                2550      \n",
      "_________________________________________________________________\n",
      "activation_99 (Activation)   (None, 50)                0         \n",
      "_________________________________________________________________\n",
      "dense_100 (Dense)            (None, 50)                2550      \n",
      "_________________________________________________________________\n",
      "activation_100 (Activation)  (None, 50)                0         \n",
      "_________________________________________________________________\n",
      "dense_101 (Dense)            (None, 50)                2550      \n",
      "_________________________________________________________________\n",
      "activation_101 (Activation)  (None, 50)                0         \n",
      "_________________________________________________________________\n",
      "dense_102 (Dense)            (None, 50)                2550      \n",
      "_________________________________________________________________\n",
      "activation_102 (Activation)  (None, 50)                0         \n",
      "_________________________________________________________________\n",
      "dense_103 (Dense)            (None, 50)                2550      \n",
      "_________________________________________________________________\n",
      "activation_103 (Activation)  (None, 50)                0         \n",
      "_________________________________________________________________\n",
      "dense_104 (Dense)            (None, 5)                 255       \n",
      "_________________________________________________________________\n",
      "activation_104 (Activation)  (None, 5)                 0         \n",
      "=================================================================\n",
      "Total params: 13,305\n",
      "Trainable params: 13,305\n",
      "Non-trainable params: 0\n",
      "_________________________________________________________________\n"
     ]
    }
   ],
   "source": [
    "path_model = \"ACAS_XU_tf_keras/ACASXU_1_1.h5\"\n",
    "\n",
    "model_11 = load_model(path_model)\n",
    "\n",
    "model_11.compile()\n",
    "\n",
    "model_11.summary()"
   ]
  },
  {
   "cell_type": "markdown",
   "metadata": {},
   "source": [
    "# 3. Home-made FGSM"
   ]
  },
  {
   "cell_type": "code",
   "execution_count": null,
   "metadata": {},
   "outputs": [],
   "source": [
    "def generate_adv_sample(model, x0, label, loss_function=\"MSE\", eps=1e-5):\n",
    "    # transforming into a tensorflow object\n",
    "    x0_ = tf.cast(x0, tf.float32)\n",
    "    \n",
    "    # record our gradients\n",
    "    with tf.GradientTape() as tape:\n",
    "        # explicitly indicate that our input should be tacked for gradient updates\n",
    "        tape.watch(x0_)\n",
    "\n",
    "        # use our model to make predictions on the input and then compute the loss\n",
    "        pred = model(x0_)\n",
    "        if loss_function == \"CCE\":\n",
    "            np_label = np.array([i==label for i in range(0,5)]).reshape((1,5))\n",
    "            loss = CCE(np_label, pred)\n",
    "        elif loss_function == \"MSE\":\n",
    "            loss = MSE(label, pred)\n",
    "        else:\n",
    "            raise Exception(\"Unknown loss function '{0}'\".format(loss_function))\n",
    "        \n",
    "        # calculate the gradients of loss with respect to the input, then compute the sign of the gradient\n",
    "        gradient = tape.gradient(loss, x0_)\n",
    "        signedGrad = tf.sign(gradient)\n",
    "\n",
    "        # construct the image adversary\n",
    "        adv_sample = (x0_ + (signedGrad * eps)).numpy()\n",
    "\n",
    "        # return the adversarial sample to the calling function\n",
    "        return(adv_sample)"
   ]
  },
  {
   "cell_type": "markdown",
   "metadata": {},
   "source": [
    "# 4. Generate points & check properties"
   ]
  },
  {
   "cell_type": "code",
   "execution_count": null,
   "metadata": {},
   "outputs": [],
   "source": [
    "def random_pts(n, prop_dom, main_dom):\n",
    "    \"\"\" prop_dom is a list of domains given by intervals in a numpy 2x5 table. \"\"\"\n",
    "    ndom = len(prop_dom)\n",
    "    ndim = main_dom.shape[1]\n",
    "    \n",
    "    x = np.zeros((n,ndim))\n",
    "    for i in range(n): # generate the i-th point\n",
    "        choosen_dom = prop_dom[randint(0,ndom-1)] # choose the input property domain for a given prop\n",
    "        for k in range(ndim): # create a random coord for each dim\n",
    "            boundaries = main_dom[:,k]\n",
    "            if choosen_dom[0,k] != None:\n",
    "                boundaries[0] = choosen_dom[0,k]\n",
    "            if choosen_dom[1,k] != None:\n",
    "                boundaries[1] = choosen_dom[1,k]\n",
    "            x[i,k] = boundaries[0] + random()*(boundaries[1]-boundaries[0])\n",
    "\n",
    "    return(x)"
   ]
  },
  {
   "cell_type": "code",
   "execution_count": null,
   "metadata": {},
   "outputs": [],
   "source": [
    "def random_main_pts(n, main_dom):\n",
    "    \"\"\" Generate random points in the main domain given by intervals stored in a numpy 2x5 table. \"\"\"\n",
    "    ndim = main_dom.shape[1]\n",
    "    \n",
    "    x = np.zeros((n,ndim))\n",
    "    for k in range(ndim): # create a random coord for each dim\n",
    "        col = main_dom[0,k]*np.ones((n,1)) + np.random.rand(n,1)*(main_dom[1,k] - main_dom[0,k])\n",
    "        for i in range(n):\n",
    "            x[i,k] = col[i]\n",
    "\n",
    "    return(x)"
   ]
  },
  {
   "cell_type": "code",
   "execution_count": null,
   "metadata": {},
   "outputs": [],
   "source": [
    "x_test = random_main_pts(1000, X_dom)"
   ]
  },
  {
   "cell_type": "code",
   "execution_count": null,
   "metadata": {},
   "outputs": [],
   "source": [
    "def normalize(x, x_mean, x_range):\n",
    "    (n,k) = x.shape\n",
    "    nx = np.zeros((n,k))\n",
    "    for i in range(n):\n",
    "        for j in range(k):\n",
    "            nx[i,j] = (x[i,j]-x_mean[j])/x_range[j]\n",
    "    return(nx)"
   ]
  },
  {
   "cell_type": "code",
   "execution_count": null,
   "metadata": {},
   "outputs": [],
   "source": [
    "def check_pts(model, input_pts, IP, OP):\n",
    "    n = input_pts.shape[0]\n",
    "    IO_check = np.zeros((n,2)) # 1st column : input checked - 2nd column : output checked\n",
    "    \n",
    "    norm_input = normalize(input_pts, X_mean, X_range) # normalize pts\n",
    "    \n",
    "    pred_pts = model.predict(norm_input) # make predictions with the model (neural net)\n",
    "    \n",
    "    for k in range(n):\n",
    "        IO_check[k,0] = IP(input_pts[k,:]) # check input (just in case)\n",
    "        IO_check[k,1] = OP(pred_pts[k,:]) # check output\n",
    "\n",
    "    return(IO_check, pred_pts)"
   ]
  },
  {
   "cell_type": "code",
   "execution_count": null,
   "metadata": {},
   "outputs": [],
   "source": [
    "rand_inputs = random_pts(1000000, IP2_dom, X_dom)"
   ]
  },
  {
   "cell_type": "code",
   "execution_count": null,
   "metadata": {},
   "outputs": [],
   "source": [
    "Pcheck, pred_pts = check_pts(model_11, rand_inputs, IP1, OP1)"
   ]
  },
  {
   "cell_type": "code",
   "execution_count": null,
   "metadata": {},
   "outputs": [],
   "source": [
    "def find_adverse(input_pts, prop_check):\n",
    "    n = prop_check.shape[0]\n",
    "    index = []\n",
    "    for k in range(n):\n",
    "        if prop_check[k,0] and not(prop_check[k,1]):\n",
    "            index.append(k)\n",
    "    return(input_pts[index,:])"
   ]
  },
  {
   "cell_type": "code",
   "execution_count": null,
   "metadata": {},
   "outputs": [],
   "source": [
    "adv = find_adverse(rand_inputs, Pcheck)\n",
    "print(adv.shape)"
   ]
  },
  {
   "cell_type": "code",
   "execution_count": null,
   "metadata": {},
   "outputs": [],
   "source": [
    "Pcheck.shape"
   ]
  },
  {
   "cell_type": "markdown",
   "metadata": {},
   "source": [
    "# 5. Attack the networks : FGSM & CW"
   ]
  },
  {
   "cell_type": "code",
   "execution_count": 34,
   "metadata": {},
   "outputs": [
    {
     "name": "stdout",
     "output_type": "stream",
     "text": [
      "WARNING:tensorflow:No training configuration found in the save file, so the model was *not* compiled. Compile it manually.\n"
     ]
    }
   ],
   "source": [
    "ACAS_model = load_model(\"ACAS_XU_tf_keras/ACASXU_2_4.h5\")"
   ]
  },
  {
   "cell_type": "markdown",
   "metadata": {},
   "source": [
    "> See ConfusionMatrix_PIERRE.ipynb for the attacks + confusion matrix"
   ]
  },
  {
   "cell_type": "markdown",
   "metadata": {},
   "source": [
    "### Save points in a file .npy"
   ]
  },
  {
   "cell_type": "code",
   "execution_count": 30,
   "metadata": {},
   "outputs": [],
   "source": [
    "np.save(\"clear_pts.npy\",original_pts)"
   ]
  },
  {
   "cell_type": "code",
   "execution_count": 31,
   "metadata": {},
   "outputs": [],
   "source": [
    "test_data = np.load(\"clear_pts.npy\")"
   ]
  },
  {
   "cell_type": "markdown",
   "metadata": {},
   "source": [
    "# 6. Test des categories manquantes"
   ]
  },
  {
   "cell_type": "code",
   "execution_count": 30,
   "metadata": {},
   "outputs": [],
   "source": [
    "def full_nets_id():\n",
    "    \"\"\" Get the id of the 45 neural networks. \"\"\"\n",
    "    nets_id = []\n",
    "    for k in range(11,60):\n",
    "        if k%10 != 0:\n",
    "            nets_id.append( (str(k//10),str(k%10)) )\n",
    "    return(nets_id)"
   ]
  },
  {
   "cell_type": "code",
   "execution_count": 31,
   "metadata": {},
   "outputs": [],
   "source": [
    "# inputs_boundaries = np.array([[-0.32842288, -0.5, -0.5, -0.5, -0.5],\n",
    "#                               [ 0.67985777,  0.5,  0.5,  0.5,  0.5]])\n",
    "\n",
    "def create_random_pts(npts, bounds=inputs_boundaries):\n",
    "    \"\"\" Generate npts random points in the domain defined by bound. \"\"\"\n",
    "    pts = np.random.rand(npts, 5)\n",
    "    for f in range(0,5):\n",
    "        pts[:,f] *= (bounds[1][f] - bounds[0][f])\n",
    "        pts[:,f] += bounds[0][f]\n",
    "    return(pts)"
   ]
  },
  {
   "cell_type": "code",
   "execution_count": 32,
   "metadata": {},
   "outputs": [
    {
     "name": "stdout",
     "output_type": "stream",
     "text": [
      "[[ 0.1677703   0.38898248  0.347677   -0.05784558  0.47246717]\n",
      " [ 0.56561774  0.31474007 -0.33928224  0.33233638  0.43137226]\n",
      " [ 0.45666537  0.3828354  -0.00689867  0.1575067  -0.25423743]\n",
      " [ 0.62401965  0.30592069  0.41840733 -0.25193172  0.1853918 ]\n",
      " [-0.06442642  0.11038703  0.18289914 -0.28815126 -0.44960104]\n",
      " [ 0.67173732 -0.11216828 -0.22675566  0.26718589 -0.09807554]\n",
      " [ 0.49363988  0.03790187  0.0178762  -0.14660554  0.33888782]\n",
      " [ 0.65670354 -0.38612265 -0.2994481  -0.40140013 -0.22211865]\n",
      " [ 0.12048588  0.49360643 -0.37303431  0.39505076  0.02649933]\n",
      " [-0.22205889 -0.24889337 -0.11289956 -0.04367295 -0.14323859]]\n"
     ]
    }
   ],
   "source": [
    "a = create_random_pts(10)\n",
    "print(a)"
   ]
  },
  {
   "cell_type": "code",
   "execution_count": 35,
   "metadata": {},
   "outputs": [],
   "source": [
    "def get_label_frequency(npts, nets_id=None, show=False):\n",
    "    \"\"\" Create 'npts' random points in the domain and make a prediction on each one of them\n",
    "        with every nnet whose id is in 'nets_id'. \"\"\"\n",
    "    \n",
    "    if nets_id == None: # all 45 networks\n",
    "        nets_id = full_nets_id()\n",
    "    else:\n",
    "        for k in range(0,len(nets_id)):\n",
    "            (na,nb) = nets_id[k]\n",
    "            nets_id[k] = (str(na),str(nb))\n",
    "    nnets = len(nets_id)\n",
    "    \n",
    "    base_pts = create_random_pts(npts)\n",
    "    all_freq = np.zeros((nnets,5))\n",
    "    \n",
    "    for k in range(0,nnets):\n",
    "        \n",
    "        # load the corresponding model\n",
    "        (a,b) = nets_id[k]\n",
    "        ACAS_model = load_model(\"ACAS_XU_tf_keras/ACASXU_{0}_{1}.h5\".format(a,b), compile=False) # run-mode model only\n",
    "        \n",
    "        # make predictions and compute label frequencies\n",
    "        base_pred = ACAS_model.predict(base_pts)                                                                              \n",
    "        all_freq[k,:] = np.bincount(np.concatenate((np.argmin(base_pred, axis=1),np.arange(0,5)))) - np.ones(5)\n",
    "        \n",
    "        if show:\n",
    "            print('ACAS-XU {0}-{1} : {2}'.format(a,b,all_freq[k,:]))\n",
    "        \n",
    "    return(all_freq.astype(int))"
   ]
  },
  {
   "cell_type": "code",
   "execution_count": 39,
   "metadata": {},
   "outputs": [
    {
     "name": "stdout",
     "output_type": "stream",
     "text": [
      "ACAS-XU 1-1 : [854791.  29945.  35506.  42838.  36920.]\n",
      "ACAS-XU 1-2 : [848805.  44665.  34841.  34294.  37395.]\n",
      "ACAS-XU 1-3 : [846771.  22278.  57592.  42255.  31104.]\n",
      "ACAS-XU 1-4 : [845164.  58537.  23231.  35064.  38004.]\n",
      "ACAS-XU 1-5 : [854152.  36155.  38355.  37949.  33389.]\n",
      "ACAS-XU 1-6 : [855054.  58501.  72444.   7586.   6415.]\n",
      "ACAS-XU 1-7 : [9.71651e+05 1.43670e+04 1.36020e+04 1.58000e+02 2.22000e+02]\n",
      "ACAS-XU 1-8 : [9.95633e+05 1.98200e+03 2.37500e+03 1.00000e+00 9.00000e+00]\n",
      "ACAS-XU 1-9 : [9.99337e+05 3.04000e+02 3.59000e+02 0.00000e+00 0.00000e+00]\n",
      "ACAS-XU 2-1 : [8.47417e+05 8.64930e+04 3.60000e+01 5.51510e+04 1.09030e+04]\n",
      "ACAS-XU 2-2 : [8.58326e+05 7.59330e+04 2.20000e+01 5.45030e+04 1.12160e+04]\n",
      "ACAS-XU 2-3 : [8.42803e+05 9.72590e+04 2.00000e+00 4.93930e+04 1.05430e+04]\n",
      "ACAS-XU 2-4 : [8.44392e+05 9.39440e+04 6.10000e+01 5.55010e+04 6.10200e+03]\n",
      "ACAS-XU 2-5 : [8.50023e+05 8.30250e+04 1.17000e+02 6.58070e+04 1.02800e+03]\n",
      "ACAS-XU 2-6 : [8.63634e+05 1.35917e+05 2.20000e+01 3.46000e+02 8.10000e+01]\n",
      "ACAS-XU 2-7 : [8.72063e+05 1.27905e+05 5.00000e+00 2.70000e+01 0.00000e+00]\n",
      "ACAS-XU 2-8 : [8.75671e+05 1.24312e+05 0.00000e+00 1.70000e+01 0.00000e+00]\n",
      "ACAS-XU 2-9 : [8.88275e+05 1.11711e+05 0.00000e+00 1.40000e+01 0.00000e+00]\n",
      "ACAS-XU 3-1 : [8.58984e+05 4.00000e+00 7.52100e+04 1.10720e+04 5.47300e+04]\n",
      "ACAS-XU 3-2 : [8.72825e+05 3.00000e+00 5.80630e+04 1.10880e+04 5.80210e+04]\n",
      "ACAS-XU 3-3 : [8.49879e+05 4.00000e+00 8.82840e+04 1.01540e+04 5.16790e+04]\n",
      "ACAS-XU 3-4 : [8.4545e+05 1.8800e+02 9.3847e+04 6.2160e+03 5.4299e+04]\n",
      "ACAS-XU 3-5 : [8.52915e+05 4.20000e+01 8.88530e+04 1.35000e+03 5.68400e+04]\n",
      "ACAS-XU 3-6 : [8.27995e+05 3.00000e+00 1.71610e+05 3.40000e+01 3.58000e+02]\n",
      "ACAS-XU 3-7 : [8.72907e+05 2.00000e+00 1.27074e+05 0.00000e+00 1.70000e+01]\n",
      "ACAS-XU 3-8 : [8.81036e+05 0.00000e+00 1.18912e+05 0.00000e+00 5.20000e+01]\n",
      "ACAS-XU 3-9 : [8.74701e+05 0.00000e+00 1.25298e+05 0.00000e+00 1.00000e+00]\n",
      "ACAS-XU 4-1 : [8.86622e+05 3.83290e+04 3.70000e+01 6.32620e+04 1.17500e+04]\n",
      "ACAS-XU 4-2 : [8.86226e+05 3.39090e+04 7.50000e+01 6.83400e+04 1.14500e+04]\n",
      "ACAS-XU 4-3 : [885900.  35727.      0.  68252.  10121.]\n",
      "ACAS-XU 4-4 : [8.88727e+05 4.03440e+04 2.43000e+02 6.47650e+04 5.92100e+03]\n",
      "ACAS-XU 4-5 : [8.84012e+05 4.38260e+04 1.00000e+02 7.10640e+04 9.98000e+02]\n",
      "ACAS-XU 4-6 : [9.00887e+05 9.69020e+04 3.90000e+01 2.12700e+03 4.50000e+01]\n",
      "ACAS-XU 4-7 : [8.91589e+05 1.06802e+05 5.00000e+00 1.60400e+03 0.00000e+00]\n",
      "ACAS-XU 4-8 : [8.88656e+05 1.10738e+05 0.00000e+00 6.06000e+02 0.00000e+00]\n",
      "ACAS-XU 4-9 : [890550.  86710.      0.  22740.      0.]\n",
      "ACAS-XU 5-1 : [8.83656e+05 1.60000e+01 3.70140e+04 1.10390e+04 6.82750e+04]\n",
      "ACAS-XU 5-2 : [884600.      0.  32176.  11948.  71276.]\n",
      "ACAS-XU 5-3 : [8.89918e+05 1.30000e+01 3.49690e+04 9.65200e+03 6.54480e+04]\n",
      "ACAS-XU 5-4 : [8.86843e+05 2.70000e+02 4.87250e+04 6.06800e+03 5.80940e+04]\n",
      "ACAS-XU 5-5 : [8.87983e+05 1.90000e+01 4.81630e+04 1.38400e+03 6.24510e+04]\n",
      "ACAS-XU 5-6 : [8.98563e+05 1.01000e+02 9.81150e+04 3.20000e+01 3.18900e+03]\n",
      "ACAS-XU 5-7 : [8.82829e+05 6.00000e+00 1.12821e+05 0.00000e+00 4.34400e+03]\n",
      "ACAS-XU 5-8 : [8.79395e+05 0.00000e+00 1.19835e+05 0.00000e+00 7.70000e+02]\n",
      "ACAS-XU 5-9 : [881906.      0. 116135.      0.   1959.]\n"
     ]
    }
   ],
   "source": [
    "freq = get_label_frequency(1000000, show=True)"
   ]
  },
  {
   "cell_type": "code",
   "execution_count": 40,
   "metadata": {},
   "outputs": [
    {
     "name": "stdout",
     "output_type": "stream",
     "text": [
      "[[854791  29945  35506  42838  36920]\n",
      " [848805  44665  34841  34294  37395]\n",
      " [846771  22278  57592  42255  31104]\n",
      " [845164  58537  23231  35064  38004]\n",
      " [854152  36155  38355  37949  33389]\n",
      " [855054  58501  72444   7586   6415]\n",
      " [971651  14367  13602    158    222]\n",
      " [995633   1982   2375      1      9]\n",
      " [999337    304    359      0      0]\n",
      " [847417  86493     36  55151  10903]\n",
      " [858326  75933     22  54503  11216]\n",
      " [842803  97259      2  49393  10543]\n",
      " [844392  93944     61  55501   6102]\n",
      " [850023  83025    117  65807   1028]\n",
      " [863634 135917     22    346     81]\n",
      " [872063 127905      5     27      0]\n",
      " [875671 124312      0     17      0]\n",
      " [888275 111711      0     14      0]\n",
      " [858984      4  75210  11072  54730]\n",
      " [872825      3  58063  11088  58021]\n",
      " [849879      4  88284  10154  51679]\n",
      " [845450    188  93847   6216  54299]\n",
      " [852915     42  88853   1350  56840]\n",
      " [827995      3 171610     34    358]\n",
      " [872907      2 127074      0     17]\n",
      " [881036      0 118912      0     52]\n",
      " [874701      0 125298      0      1]\n",
      " [886622  38329     37  63262  11750]\n",
      " [886226  33909     75  68340  11450]\n",
      " [885900  35727      0  68252  10121]\n",
      " [888727  40344    243  64765   5921]\n",
      " [884012  43826    100  71064    998]\n",
      " [900887  96902     39   2127     45]\n",
      " [891589 106802      5   1604      0]\n",
      " [888656 110738      0    606      0]\n",
      " [890550  86710      0  22740      0]\n",
      " [883656     16  37014  11039  68275]\n",
      " [884600      0  32176  11948  71276]\n",
      " [889918     13  34969   9652  65448]\n",
      " [886843    270  48725   6068  58094]\n",
      " [887983     19  48163   1384  62451]\n",
      " [898563    101  98115     32   3189]\n",
      " [882829      6 112821      0   4344]\n",
      " [879395      0 119835      0    770]\n",
      " [881906      0 116135      0   1959]]\n"
     ]
    }
   ],
   "source": [
    "print(freq)"
   ]
  },
  {
   "cell_type": "code",
   "execution_count": 41,
   "metadata": {},
   "outputs": [],
   "source": [
    "np.save(\"one_million_pts.npy\",freq)"
   ]
  },
  {
   "cell_type": "markdown",
   "metadata": {},
   "source": [
    "## Histplots and plots"
   ]
  },
  {
   "cell_type": "code",
   "execution_count": 42,
   "metadata": {},
   "outputs": [],
   "source": [
    "ACAS_labels = [\"COC\",\"WR\",\"WL\",\"SR\",\"SL\"]"
   ]
  },
  {
   "cell_type": "code",
   "execution_count": 43,
   "metadata": {},
   "outputs": [
    {
     "data": {
      "text/html": [
       "<svg  width=\"440\" height=\"55\"><rect x=\"0\" y=\"0\" width=\"55\" height=\"55\" style=\"fill:#66c2a5;stroke-width:2;stroke:rgb(255,255,255)\"/><rect x=\"55\" y=\"0\" width=\"55\" height=\"55\" style=\"fill:#fc8d62;stroke-width:2;stroke:rgb(255,255,255)\"/><rect x=\"110\" y=\"0\" width=\"55\" height=\"55\" style=\"fill:#8da0cb;stroke-width:2;stroke:rgb(255,255,255)\"/><rect x=\"165\" y=\"0\" width=\"55\" height=\"55\" style=\"fill:#e78ac3;stroke-width:2;stroke:rgb(255,255,255)\"/><rect x=\"220\" y=\"0\" width=\"55\" height=\"55\" style=\"fill:#a6d854;stroke-width:2;stroke:rgb(255,255,255)\"/><rect x=\"275\" y=\"0\" width=\"55\" height=\"55\" style=\"fill:#ffd92f;stroke-width:2;stroke:rgb(255,255,255)\"/><rect x=\"330\" y=\"0\" width=\"55\" height=\"55\" style=\"fill:#e5c494;stroke-width:2;stroke:rgb(255,255,255)\"/><rect x=\"385\" y=\"0\" width=\"55\" height=\"55\" style=\"fill:#b3b3b3;stroke-width:2;stroke:rgb(255,255,255)\"/></svg>"
      ],
      "text/plain": [
       "[(0.4, 0.7607843137254902, 0.6470588235294118),\n",
       " (0.9882352941176471, 0.5529411764705883, 0.3843137254901961),\n",
       " (0.5529411764705883, 0.6274509803921569, 0.796078431372549),\n",
       " (0.9058823529411765, 0.5411764705882353, 0.7647058823529411),\n",
       " (0.6509803921568628, 0.8470588235294118, 0.32941176470588235),\n",
       " (1.0, 0.8509803921568627, 0.1843137254901961),\n",
       " (0.8980392156862745, 0.7686274509803922, 0.5803921568627451),\n",
       " (0.7019607843137254, 0.7019607843137254, 0.7019607843137254)]"
      ]
     },
     "execution_count": 43,
     "metadata": {},
     "output_type": "execute_result"
    }
   ],
   "source": [
    "multiplot_pos = [(0,0),(0,1),(0,2),(1,1),(1,2)]\n",
    "labels_color = [(0.5529411764705883, 0.6274509803921569, 0.796078431372549),\n",
    "                (0.4, 0.7607843137254902, 0.6470588235294118),\n",
    "                (0.6509803921568628, 0.8470588235294118, 0.32941176470588235),\n",
    "                (0.8980392156862745, 0.7686274509803922, 0.5803921568627451),\n",
    "                (0.9882352941176471, 0.5529411764705883, 0.3843137254901961)]\n",
    "sns.color_palette(\"Set2\")"
   ]
  },
  {
   "cell_type": "code",
   "execution_count": 44,
   "metadata": {},
   "outputs": [
    {
     "data": {
      "text/html": [
       "<div>\n",
       "<style scoped>\n",
       "    .dataframe tbody tr th:only-of-type {\n",
       "        vertical-align: middle;\n",
       "    }\n",
       "\n",
       "    .dataframe tbody tr th {\n",
       "        vertical-align: top;\n",
       "    }\n",
       "\n",
       "    .dataframe thead th {\n",
       "        text-align: right;\n",
       "    }\n",
       "</style>\n",
       "<table border=\"1\" class=\"dataframe\">\n",
       "  <thead>\n",
       "    <tr style=\"text-align: right;\">\n",
       "      <th></th>\n",
       "      <th>COC</th>\n",
       "      <th>WR</th>\n",
       "      <th>WL</th>\n",
       "      <th>SR</th>\n",
       "      <th>SL</th>\n",
       "    </tr>\n",
       "  </thead>\n",
       "  <tbody>\n",
       "    <tr>\n",
       "      <th>0</th>\n",
       "      <td>854791</td>\n",
       "      <td>29945</td>\n",
       "      <td>35506</td>\n",
       "      <td>42838</td>\n",
       "      <td>36920</td>\n",
       "    </tr>\n",
       "    <tr>\n",
       "      <th>1</th>\n",
       "      <td>848805</td>\n",
       "      <td>44665</td>\n",
       "      <td>34841</td>\n",
       "      <td>34294</td>\n",
       "      <td>37395</td>\n",
       "    </tr>\n",
       "    <tr>\n",
       "      <th>2</th>\n",
       "      <td>846771</td>\n",
       "      <td>22278</td>\n",
       "      <td>57592</td>\n",
       "      <td>42255</td>\n",
       "      <td>31104</td>\n",
       "    </tr>\n",
       "    <tr>\n",
       "      <th>3</th>\n",
       "      <td>845164</td>\n",
       "      <td>58537</td>\n",
       "      <td>23231</td>\n",
       "      <td>35064</td>\n",
       "      <td>38004</td>\n",
       "    </tr>\n",
       "    <tr>\n",
       "      <th>4</th>\n",
       "      <td>854152</td>\n",
       "      <td>36155</td>\n",
       "      <td>38355</td>\n",
       "      <td>37949</td>\n",
       "      <td>33389</td>\n",
       "    </tr>\n",
       "  </tbody>\n",
       "</table>\n",
       "</div>"
      ],
      "text/plain": [
       "      COC     WR     WL     SR     SL\n",
       "0  854791  29945  35506  42838  36920\n",
       "1  848805  44665  34841  34294  37395\n",
       "2  846771  22278  57592  42255  31104\n",
       "3  845164  58537  23231  35064  38004\n",
       "4  854152  36155  38355  37949  33389"
      ]
     },
     "execution_count": 44,
     "metadata": {},
     "output_type": "execute_result"
    }
   ],
   "source": [
    "df_freq = pd.DataFrame(freq, columns = ACAS_labels)\n",
    "df_freq.head()"
   ]
  },
  {
   "cell_type": "code",
   "execution_count": 46,
   "metadata": {},
   "outputs": [
    {
     "data": {
      "image/png": "[encoded data removed]",
      "text/plain": [
       "<Figure size 1080x720 with 6 Axes>"
      ]
     },
     "metadata": {
      "needs_background": "light"
     },
     "output_type": "display_data"
    }
   ],
   "source": [
    "fig, axes = plt.subplots(2, 3, figsize=(15, 10)) #, sharey=True)\n",
    "fig.suptitle(\"Frequencies of predicted labels on {0} random points\".format(np.sum(freq[0,:])), size=25)\n",
    "\n",
    "bar_width = 25\n",
    "\n",
    "for k in range(5):\n",
    "    sns.histplot(ax=axes[multiplot_pos[k]], data = df_freq[ACAS_labels[k]], binwidth = bar_width, color = labels_color[k])\n",
    "    axes[multiplot_pos[k]].set_xlim(0,1000000)\n",
    "\n",
    "plt.show()"
   ]
  },
  {
   "cell_type": "code",
   "execution_count": 47,
   "metadata": {},
   "outputs": [],
   "source": [
    "sorted_index = np.argsort(freq, axis=0)"
   ]
  },
  {
   "cell_type": "code",
   "execution_count": 48,
   "metadata": {},
   "outputs": [
    {
     "data": {
      "image/png": "[encoded data removed]",
      "text/plain": [
       "<Figure size 1080x720 with 6 Axes>"
      ]
     },
     "metadata": {
      "needs_background": "light"
     },
     "output_type": "display_data"
    }
   ],
   "source": [
    "fig, axes = plt.subplots(2, 3, figsize=(15, 10)) #, sharey=True)\n",
    "plt.subplots_adjust(wspace = 0.3, hspace = 0.3)\n",
    "fig.suptitle(\"Frequencies of predicted labels on {0} random points\".format(np.sum(freq[0,:])), size=25)\n",
    "\n",
    "for k in range(5):\n",
    "    axes[multiplot_pos[k]].plot(freq[:,k][sorted_index[:,k]], color = labels_color[k])\n",
    "    axes[multiplot_pos[k]].set_xlim(0,45)\n",
    "    axes[multiplot_pos[k]].set_title(ACAS_labels[k], size=15)\n",
    "    axes[multiplot_pos[k]].set_xlabel(\"networks\") ; axes[multiplot_pos[k]].set_ylabel(\"number of predictions\")\n",
    "    \n",
    "plt.show()"
   ]
  },
  {
   "cell_type": "markdown",
   "metadata": {},
   "source": [
    "# Classes of networks"
   ]
  },
  {
   "cell_type": "code",
   "execution_count": 49,
   "metadata": {},
   "outputs": [
    {
     "data": {
      "image/png": "[encoded data removed]",
      "text/plain": [
       "<Figure size 1080x720 with 6 Axes>"
      ]
     },
     "metadata": {
      "needs_background": "light"
     },
     "output_type": "display_data"
    }
   ],
   "source": [
    "multiplot_pos = [(0,0),(0,1),(0,2),(1,0),(1,1),(1,2)]\n",
    "choose_inputs = [(1,2),(2,3),(3,4),(2,4),(3,4),(1,3)]\n",
    "\n",
    "fig, axes = plt.subplots(2, 3, figsize=(15, 10)) #, sharey=True)\n",
    "plt.subplots_adjust(wspace = 0.3, hspace = 0.3)\n",
    "# fig.suptitle(\"Frequencies of predicted labels on {0} random points\".format(np.sum(freq[0,:])), size=25)\n",
    "\n",
    "for k in range(6):\n",
    "    axes[multiplot_pos[k]].scatter(freq[:,choose_inputs[k][0]],freq[:,choose_inputs[k][1]])\n",
    "    axes[multiplot_pos[k]].set_xlabel(\"input {0}\".format(choose_inputs[k][0]))\n",
    "    axes[multiplot_pos[k]].set_ylabel(\"input {0}\".format(choose_inputs[k][1]))\n",
    "    \n",
    "plt.show()"
   ]
  },
  {
   "cell_type": "code",
   "execution_count": 50,
   "metadata": {},
   "outputs": [],
   "source": [
    "from sklearn.decomposition import PCA\n",
    "from sklearn.cluster import KMeans\n",
    "from sklearn.cluster import SpectralClustering\n",
    "from sklearn.metrics import silhouette_score as sil_score"
   ]
  },
  {
   "cell_type": "code",
   "execution_count": 55,
   "metadata": {},
   "outputs": [
    {
     "name": "stdout",
     "output_type": "stream",
     "text": [
      "[0.68023374 0.18094136 0.08579388 0.05303102]\n"
     ]
    }
   ],
   "source": [
    "pca = PCA(n_components=4)\n",
    "y = pca.fit_transform(freq[:,[1,2,3,4]])\n",
    "var_ratio = pca.explained_variance_ratio_\n",
    "print(var_ratio)"
   ]
  },
  {
   "cell_type": "code",
   "execution_count": 123,
   "metadata": {},
   "outputs": [
    {
     "data": {
      "text/plain": [
       "Text(0, 0.5, 'CP n°2 (18%)')"
      ]
     },
     "execution_count": 123,
     "metadata": {},
     "output_type": "execute_result"
    },
    {
     "data": {
      "image/png": "[encoded data removed]",
      "text/plain": [
       "<Figure size 432x288 with 1 Axes>"
      ]
     },
     "metadata": {
      "needs_background": "light"
     },
     "output_type": "display_data"
    }
   ],
   "source": [
    "plt.scatter(y[:,0], y[:,1], color=to_colors(nets_type), marker=\"*\")\n",
    "plt.title(\"Visualisation des types de réseaux avec une ACP\")\n",
    "plt.xlabel(\"CP n°1 ({0}%)\".format(int(100*var_ratio[0])))\n",
    "plt.ylabel(\"CP n°2 ({0}%)\".format(int(100*var_ratio[1])))"
   ]
  },
  {
   "cell_type": "code",
   "execution_count": 120,
   "metadata": {},
   "outputs": [],
   "source": [
    "def get_network_type(line, threshold = 0.001):\n",
    "    \"\"\" Codage en base 2 du type du réseau : bit de poids k = 1 si line[5-k]>borne et 0 sinon \"\"\"\n",
    "    borne = int(threshold*np.sum(line))\n",
    "    num = 0\n",
    "    for k in range(0,5):\n",
    "        num *= 2\n",
    "        if line[k]>borne:\n",
    "            num += 1\n",
    "    return(num)"
   ]
  },
  {
   "cell_type": "code",
   "execution_count": 100,
   "metadata": {},
   "outputs": [
    {
     "name": "stdout",
     "output_type": "stream",
     "text": [
      "type = 30\n"
     ]
    }
   ],
   "source": [
    "u = np.array([125,179,658,36,2]) # sum = 1000\n",
    "x = get_network_type(u, threshold=0.01)\n",
    "print(\"type =\",x)"
   ]
  },
  {
   "cell_type": "code",
   "execution_count": 121,
   "metadata": {
    "scrolled": true
   },
   "outputs": [
    {
     "name": "stdout",
     "output_type": "stream",
     "text": [
      "Cluster 16\n",
      "#8 : [999337    304    359      0      0]\n",
      "\n",
      "Cluster 20\n",
      "#23 : [827995      3 171610     34    358]\n",
      "#24 : [872907      2 127074      0     17]\n",
      "#25 : [881036      0 118912      0     52]\n",
      "#26 : [874701      0 125298      0      1]\n",
      "#43 : [879395      0 119835      0    770]\n",
      "\n",
      "Cluster 21\n",
      "#41 : [898563    101  98115     32   3189]\n",
      "#42 : [882829      6 112821      0   4344]\n",
      "#44 : [881906      0 116135      0   1959]\n",
      "\n",
      "Cluster 23\n",
      "#18 : [858984      4  75210  11072  54730]\n",
      "#19 : [872825      3  58063  11088  58021]\n",
      "#20 : [849879      4  88284  10154  51679]\n",
      "#21 : [845450    188  93847   6216  54299]\n",
      "#22 : [852915     42  88853   1350  56840]\n",
      "#36 : [883656     16  37014  11039  68275]\n",
      "#37 : [884600      0  32176  11948  71276]\n",
      "#38 : [889918     13  34969   9652  65448]\n",
      "#39 : [886843    270  48725   6068  58094]\n",
      "#40 : [887983     19  48163   1384  62451]\n",
      "\n",
      "Cluster 24\n",
      "#14 : [863634 135917     22    346     81]\n",
      "#15 : [872063 127905      5     27      0]\n",
      "#16 : [875671 124312      0     17      0]\n",
      "#17 : [888275 111711      0     14      0]\n",
      "#34 : [888656 110738      0    606      0]\n",
      "\n",
      "Cluster 26\n",
      "#31 : [884012  43826    100  71064    998]\n",
      "#32 : [900887  96902     39   2127     45]\n",
      "#33 : [891589 106802      5   1604      0]\n",
      "#35 : [890550  86710      0  22740      0]\n",
      "\n",
      "Cluster 27\n",
      "#9 : [847417  86493     36  55151  10903]\n",
      "#10 : [858326  75933     22  54503  11216]\n",
      "#11 : [842803  97259      2  49393  10543]\n",
      "#12 : [844392  93944     61  55501   6102]\n",
      "#13 : [850023  83025    117  65807   1028]\n",
      "#27 : [886622  38329     37  63262  11750]\n",
      "#28 : [886226  33909     75  68340  11450]\n",
      "#29 : [885900  35727      0  68252  10121]\n",
      "#30 : [888727  40344    243  64765   5921]\n",
      "\n",
      "Cluster 28\n",
      "#6 : [971651  14367  13602    158    222]\n",
      "#7 : [995633   1982   2375      1      9]\n",
      "\n",
      "Cluster 31\n",
      "#0 : [854791  29945  35506  42838  36920]\n",
      "#1 : [848805  44665  34841  34294  37395]\n",
      "#2 : [846771  22278  57592  42255  31104]\n",
      "#3 : [845164  58537  23231  35064  38004]\n",
      "#4 : [854152  36155  38355  37949  33389]\n",
      "#5 : [855054  58501  72444   7586   6415]\n",
      "\n",
      "Remaining pts :\n",
      "\n"
     ]
    }
   ],
   "source": [
    "nets_type = np.array([get_network_type(line) for line in freq]) #; print(nets_type)\n",
    "nets_bool = np.ones(45)\n",
    "\n",
    "for k in range(32): # 32 types de clusters\n",
    "    id_nets = np.where(nets_type == k)[0]\n",
    "    if len(id_nets) > 0:\n",
    "        print(\"Cluster {0}\".format(k))\n",
    "        for i in id_nets:\n",
    "            print(\"#{0} : {1}\".format(i,freq[i])) ; nets_bool[i] = 0\n",
    "        print(\"\")\n",
    "\n",
    "print(\"Remaining pts :\")\n",
    "for i in range(45):\n",
    "    if nets_bool[i]:\n",
    "        print(\"NET {0} : {1}\".format(i,freq[i]))\n",
    "print(\"\")"
   ]
  },
  {
   "cell_type": "code",
   "execution_count": 122,
   "metadata": {},
   "outputs": [
    {
     "name": "stdout",
     "output_type": "stream",
     "text": [
      "{16: 'red', 20: 'green', 21: 'yellow', 23: 'orange', 24: 'blue', 26: 'grey', 27: 'purple', 28: 'brown', 31: 'pink'}\n"
     ]
    }
   ],
   "source": [
    "colors = ['red','green','yellow','orange','blue','grey','purple','brown','pink']\n",
    "\n",
    "unique_labels = np.unique(nets_type)\n",
    "type2col = {}\n",
    "for k in range(len(unique_labels)):\n",
    "    type2col[unique_labels[k]] = colors[k]\n",
    "cluster_colors = [ type2col[nets_type[k]] for k in range(len(nets_type)) ]\n",
    "\n",
    "print(type2col)"
   ]
  },
  {
   "cell_type": "markdown",
   "metadata": {},
   "source": [
    "super clusters :\n",
    "20 21 = green yellow\n",
    "24 26 = blue grey\n",
    "27 = purple\n",
    "23 = orange\n",
    "28 = brown\n",
    "31 = pink (FULL NET)\n",
    "16 = red (COC NET)"
   ]
  },
  {
   "cell_type": "code",
   "execution_count": 136,
   "metadata": {},
   "outputs": [
    {
     "name": "stdout",
     "output_type": "stream",
     "text": [
      "### CLUSTERING DES RESEAUX :\n",
      "\n",
      "------------------------ CLUSTER 0 ------------------------\n",
      "Réseaux : 23 - 24 - 25 - 26 - 43 - 41 - 42 - 44\n",
      "Nb de réseaux = 8\n",
      "\n",
      "------------------------ CLUSTER 1 ------------------------\n",
      "Réseaux : 14 - 15 - 16 - 17 - 34 - 31 - 32 - 33 - 35\n",
      "Nb de réseaux = 9\n",
      "\n",
      "------------------------ CLUSTER 2 ------------------------\n",
      "Réseaux : 9 - 10 - 11 - 12 - 13 - 27 - 28 - 29 - 30\n",
      "Nb de réseaux = 9\n",
      "\n",
      "------------------------ CLUSTER 3 ------------------------\n",
      "Réseaux : 18 - 19 - 20 - 21 - 22 - 36 - 37 - 38 - 39 - 40\n",
      "Nb de réseaux = 10\n",
      "\n",
      "------------------------ CLUSTER 4 ------------------------\n",
      "Réseaux : 6 - 7\n",
      "Nb de réseaux = 2\n",
      "\n",
      "------------------------ CLUSTER 5 ------------------------\n",
      "Réseaux : 0 - 1 - 2 - 3 - 4 - 5\n",
      "Nb de réseaux = 6\n",
      "\n",
      "------------------------ CLUSTER 6 ------------------------\n",
      "Réseaux : 8\n",
      "Nb de réseaux = 1\n",
      "\n"
     ]
    }
   ],
   "source": [
    "# Clusters identifies pour {npts = 1000000 ; threshold = 0.001}\n",
    "c2021 = [23,24,25,26,43,41,42,44]\n",
    "c2426 = [14,15,16,17,34,31,32,33,35]\n",
    "c27 = [9,10,11,12,13,27,28,29,30]\n",
    "c23 = [18,19,20,21,22,36,37,38,39,40]\n",
    "c28 = [6,7]\n",
    "c31 = [0,1,2,3,4,5]\n",
    "c16 = [8]\n",
    "\n",
    "nets_clusters = [c2021,c2426,c27,c23,c28,c31,c16]\n",
    "\n",
    "print(\"### CLUSTERING DES RESEAUX :\\n\")\n",
    "for nc in range(len(nets_clusters)):\n",
    "    print(\"------------------------ CLUSTER {0} ------------------------\".format(nc))\n",
    "    string_clusters = [str(k) for k in nets_clusters[nc]]\n",
    "    print(\"Réseaux : {0}\".format(\" - \".join(string_clusters)))\n",
    "    print(\"Nb de réseaux = {0}\".format(len(string_clusters)))\n",
    "    print(\"\")"
   ]
  },
  {
   "cell_type": "markdown",
   "metadata": {},
   "source": [
    "# Kmeans..."
   ]
  },
  {
   "cell_type": "code",
   "execution_count": 22,
   "metadata": {},
   "outputs": [
    {
     "name": "stdout",
     "output_type": "stream",
     "text": [
      "[5 5 5 0 8 0 0 0 0 1 8 1 1 3 3 0 3 3 9 5 2 9 5 9 4 4 9 3 0 3 0 6 3 0 3 3 0\n",
      " 2 7 0 5 0 0 5 5]\n",
      "[13  3  2  9  2  8  1  1  2  4]\n"
     ]
    }
   ],
   "source": [
    "kmeans = KMeans(n_clusters=10)\n",
    "kmeans.fit(freq)\n",
    "print(kmeans.labels_)\n",
    "print(np.bincount(kmeans.labels_))"
   ]
  },
  {
   "cell_type": "code",
   "execution_count": null,
   "metadata": {},
   "outputs": [],
   "source": [
    "for k in range(10):\n",
    "    print(\"Cluster {0}\".format(k))\n",
    "    for i in range(45):\n",
    "        if kmeans.labels_[i] == k:\n",
    "            print(freq[i])\n",
    "    print(\"\")"
   ]
  },
  {
   "cell_type": "code",
   "execution_count": 49,
   "metadata": {},
   "outputs": [
    {
     "name": "stdout",
     "output_type": "stream",
     "text": [
      "nc = 4 - sil_score = 0.3365849144741345\n",
      "nc = 5 - sil_score = 0.3508289814517803\n",
      "nc = 6 - sil_score = 0.36515309638028476\n",
      "nc = 7 - sil_score = 0.3690336522015351\n",
      "nc = 8 - sil_score = 0.3154104233854524\n",
      "nc = 9 - sil_score = 0.341840541852728\n",
      "nc = 10 - sil_score = 0.34641803219759915\n",
      "nc = 11 - sil_score = 0.3498657594886785\n",
      "nc = 12 - sil_score = 0.35442180394987144\n",
      "nc = 13 - sil_score = 0.3418730189226805\n",
      "nc = 14 - sil_score = 0.3325547720025993\n",
      "nc = 15 - sil_score = 0.32167049756840727\n",
      "nc = 16 - sil_score = 0.3159172605727167\n",
      "nc = 17 - sil_score = 0.3103652518021586\n",
      "nc = 18 - sil_score = 0.32694025659785625\n",
      "nc = 19 - sil_score = 0.32095177799520486\n",
      "nc = 20 - sil_score = 0.29817458633686134\n",
      "nc = 21 - sil_score = 0.30203987176784874\n",
      "nc = 22 - sil_score = 0.276466498853856\n",
      "nc = 23 - sil_score = 0.27293290721351865\n",
      "nc = 24 - sil_score = 0.25991510596544337\n",
      "nc = 25 - sil_score = 0.28134145559910695\n",
      "nc = 26 - sil_score = 0.2685829043678244\n",
      "nc = 27 - sil_score = 0.27700744368429525\n",
      "nc = 28 - sil_score = 0.26765871564823385\n",
      "nc = 29 - sil_score = 0.24957307149263827\n",
      "nc = 30 - sil_score = 0.25918647502927195\n",
      "nc = 31 - sil_score = 0.24911201142605657\n",
      "nc = 32 - sil_score = 0.21688896106885266\n",
      "nc = 33 - sil_score = 0.21809978924409026\n",
      "nc = 34 - sil_score = 0.2116708270535103\n",
      "nc = 35 - sil_score = 0.20781260872469795\n",
      "nc = 36 - sil_score = 0.19256160318270324\n",
      "nc = 37 - sil_score = 0.18718632418201778\n",
      "nc = 38 - sil_score = 0.1791545500813978\n",
      "nc = 39 - sil_score = 0.16008083700759562\n",
      "nc = 40 - sil_score = 0.12133943986175358\n",
      "nc = 41 - sil_score = 0.11050212542449561\n",
      "nc = 42 - sil_score = 0.09148037847877855\n",
      "nc = 43 - sil_score = 0.06400027990948862\n",
      "nc = 44 - sil_score = 0.03270507855345297\n"
     ]
    }
   ],
   "source": [
    "ncluster = [k for k in range(4,45)]\n",
    "sscore = np.zeros(len(ncluster))\n",
    "\n",
    "for i in range(0,len(ncluster)):\n",
    "    nc = ncluster[i]\n",
    "    kmeans = KMeans(n_clusters=nc)\n",
    "    kmeans.fit(freq)\n",
    "    klabels = kmeans.labels_\n",
    "\n",
    "    sscore[i] = sil_score(freq, labels = klabels)\n",
    "    print(\"nc = {0} - sil_score = {1}\".format(nc,sscore[i]))"
   ]
  },
  {
   "cell_type": "code",
   "execution_count": 50,
   "metadata": {},
   "outputs": [
    {
     "data": {
      "text/plain": [
       "[<matplotlib.lines.Line2D at 0x22fa9138a60>]"
      ]
     },
     "execution_count": 50,
     "metadata": {},
     "output_type": "execute_result"
    },
    {
     "data": {
      "image/png": "[encoded data removed]",
      "text/plain": [
       "<Figure size 432x288 with 1 Axes>"
      ]
     },
     "metadata": {
      "needs_background": "light"
     },
     "output_type": "display_data"
    }
   ],
   "source": [
    "plt.plot(ncluster,sscore)"
   ]
  },
  {
   "cell_type": "code",
   "execution_count": 56,
   "metadata": {},
   "outputs": [],
   "source": [
    "a = np.argsort(sscore)"
   ]
  },
  {
   "cell_type": "code",
   "execution_count": 57,
   "metadata": {},
   "outputs": [
    {
     "name": "stdout",
     "output_type": "stream",
     "text": [
      "nc = 44 - sil_score = 0.03270507855345297\n",
      "nc = 43 - sil_score = 0.06400027990948862\n",
      "nc = 42 - sil_score = 0.09148037847877855\n",
      "nc = 41 - sil_score = 0.11050212542449561\n",
      "nc = 40 - sil_score = 0.12133943986175358\n",
      "nc = 39 - sil_score = 0.16008083700759562\n",
      "nc = 38 - sil_score = 0.1791545500813978\n",
      "nc = 37 - sil_score = 0.18718632418201778\n",
      "nc = 36 - sil_score = 0.19256160318270324\n",
      "nc = 35 - sil_score = 0.20781260872469795\n",
      "nc = 34 - sil_score = 0.2116708270535103\n",
      "nc = 32 - sil_score = 0.21688896106885266\n",
      "nc = 33 - sil_score = 0.21809978924409026\n",
      "nc = 31 - sil_score = 0.24911201142605657\n",
      "nc = 29 - sil_score = 0.24957307149263827\n",
      "nc = 30 - sil_score = 0.25918647502927195\n",
      "nc = 24 - sil_score = 0.25991510596544337\n",
      "nc = 28 - sil_score = 0.26765871564823385\n",
      "nc = 26 - sil_score = 0.2685829043678244\n",
      "nc = 23 - sil_score = 0.27293290721351865\n",
      "nc = 22 - sil_score = 0.276466498853856\n",
      "nc = 27 - sil_score = 0.27700744368429525\n",
      "nc = 25 - sil_score = 0.28134145559910695\n",
      "nc = 20 - sil_score = 0.29817458633686134\n",
      "nc = 21 - sil_score = 0.30203987176784874\n",
      "nc = 17 - sil_score = 0.3103652518021586\n",
      "nc = 8 - sil_score = 0.3154104233854524\n",
      "nc = 16 - sil_score = 0.3159172605727167\n",
      "nc = 19 - sil_score = 0.32095177799520486\n",
      "nc = 15 - sil_score = 0.32167049756840727\n",
      "nc = 18 - sil_score = 0.32694025659785625\n",
      "nc = 14 - sil_score = 0.3325547720025993\n",
      "nc = 4 - sil_score = 0.3365849144741345\n",
      "nc = 9 - sil_score = 0.341840541852728\n",
      "nc = 13 - sil_score = 0.3418730189226805\n",
      "nc = 10 - sil_score = 0.34641803219759915\n",
      "nc = 11 - sil_score = 0.3498657594886785\n",
      "nc = 5 - sil_score = 0.3508289814517803\n",
      "nc = 12 - sil_score = 0.35442180394987144\n",
      "nc = 6 - sil_score = 0.36515309638028476\n",
      "nc = 7 - sil_score = 0.3690336522015351\n"
     ]
    }
   ],
   "source": [
    "for k in range(0,len(sscore)):\n",
    "    print(\"nc = {0} - sil_score = {1}\".format(ncluster[a[k]],sscore[a[k]]))"
   ]
  },
  {
   "cell_type": "code",
   "execution_count": 61,
   "metadata": {},
   "outputs": [
    {
     "name": "stdout",
     "output_type": "stream",
     "text": [
      "[0 0 0 0 0 0 0 0 0 1 3 1 1 3 3 3 3 3 0 0 2 0 0 0 2 2 2 3 0 3 0 1 3 3 3 3 0\n",
      " 2 1 0 0 0 0 0 0]\n",
      "[23  5  5 12]\n"
     ]
    }
   ],
   "source": [
    "kmeans = KMeans(n_clusters=4)\n",
    "kmeans.fit(freq)\n",
    "print(kmeans.labels_)\n",
    "print(np.bincount(kmeans.labels_))"
   ]
  },
  {
   "cell_type": "code",
   "execution_count": 62,
   "metadata": {},
   "outputs": [
    {
     "name": "stdout",
     "output_type": "stream",
     "text": [
      "Cluster 0\n",
      "[9185    9  250  263  293]\n",
      "[8977   96  425   54  448]\n",
      "[9291    6  376  159  168]\n",
      "[9372   59   34  268  267]\n",
      "[8899    5   17  980   99]\n",
      "[9641   38  176   91   54]\n",
      "[9713    1    4    4  278]\n",
      "[9730   58    2  210    0]\n",
      "[10000     0     0     0     0]\n",
      "[8687    0 1074   12  227]\n",
      "[9145    0  394    9  452]\n",
      "[8992    0  910   14   84]\n",
      "[9065    0  744    6  185]\n",
      "[8777    0 1218    0    5]\n",
      "[9327  332    7  295   39]\n",
      "[9251  210    0  450   89]\n",
      "[9440    0  106   65  389]\n",
      "[9487    0  241   34  238]\n",
      "[8662   65  472   70  731]\n",
      "[9457   37  414   12   80]\n",
      "[9519   22  322    0  137]\n",
      "[9096    0  696    0  208]\n",
      "[9309    0  498    0  193]\n",
      "\n",
      "Cluster 1\n",
      "[6763 2483    0  753    1]\n",
      "[7642 1357    0  987   14]\n",
      "[7163 1328    0 1499   10]\n",
      "[6184  479  380 2934   23]\n",
      "[7524    0  258 1108 1110]\n",
      "\n",
      "Cluster 2\n",
      "[7887    0 1190    7  916]\n",
      "[7610    0 2385    0    5]\n",
      "[6907    0 3075    0   18]\n",
      "[8241    0 1720   32    7]\n",
      "[7918    0 1082   15  985]\n",
      "\n",
      "Cluster 3\n",
      "[8277  435    2 1192   94]\n",
      "[9116  733    0  151    0]\n",
      "[8884 1096    0   20    0]\n",
      "[9412  523   20   45    0]\n",
      "[9094  904    0    2    0]\n",
      "[8970 1019    0   11    0]\n",
      "[9206  515    0  278    1]\n",
      "[8943  663    0  390    4]\n",
      "[9262  537    2  199    0]\n",
      "[9474  509    0   17    0]\n",
      "[8331 1450   33  186    0]\n",
      "[8792  983    0  225    0]\n",
      "\n",
      "Cluster 4\n",
      "\n",
      "Cluster 5\n",
      "\n",
      "Cluster 6\n",
      "\n"
     ]
    }
   ],
   "source": [
    "for k in range(7):\n",
    "    print(\"Cluster {0}\".format(k))\n",
    "    for i in range(45):\n",
    "        if kmeans.labels_[i] == k:\n",
    "            print(freq[i])\n",
    "    print(\"\")"
   ]
  },
  {
   "cell_type": "code",
   "execution_count": 71,
   "metadata": {},
   "outputs": [],
   "source": [
    "def inside_cluster(pt, zeros_ind=[]):\n",
    "    \"\"\" True if the only zeros of pt are those whose positions are written in zeros_ind. \"\"\"\n",
    "    for x in range(5):\n",
    "        if (x in zeros_ind) and (pt[x] != 0):\n",
    "            return(False)\n",
    "        elif not(x in zeros_ind) and (pt[x] == 0):\n",
    "            return(False)\n",
    "    return(True)"
   ]
  },
  {
   "cell_type": "code",
   "execution_count": 72,
   "metadata": {},
   "outputs": [],
   "source": [
    "poss_clusters = [[1,3], [1], [2], [2,4]]"
   ]
  }
 ],
 "metadata": {
  "kernelspec": {
   "display_name": "Python 3",
   "language": "python",
   "name": "python3"
  },
  "language_info": {
   "codemirror_mode": {
    "name": "ipython",
    "version": 3
   },
   "file_extension": ".py",
   "mimetype": "text/x-python",
   "name": "python",
   "nbconvert_exporter": "python",
   "pygments_lexer": "ipython3",
   "version": "3.8.3"
  }
 },
 "nbformat": 4,
 "nbformat_minor": 4
}
