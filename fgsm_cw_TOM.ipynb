{
 "cells": [
  {
   "cell_type": "markdown",
   "metadata": {},
   "source": [
    "# 1. Imports"
   ]
  },
  {
   "cell_type": "code",
   "execution_count": 1,
   "metadata": {},
   "outputs": [],
   "source": [
    "from art.attacks.evasion import *\n",
    "from art.estimators.classification import TensorFlowV2Classifier\n",
    "\n",
    "import numpy as np\n",
    "from math import pi\n",
    "from random import random, randint\n",
    "\n",
    "import pandas as pd\n",
    "import seaborn as sns\n",
    "\n",
    "from matplotlib import pyplot as plt\n",
    "\n",
    "from tensorflow.keras.losses import MSE\n",
    "from tensorflow.keras.losses import categorical_crossentropy as CCE\n",
    "from tensorflow.keras.models import load_model\n",
    "\n",
    "import os\n",
    "import warnings\n",
    "warnings.filterwarnings('ignore')\n",
    "os.environ['TF_CPP_MIN_LOG_LEVEL'] = '3'"
   ]
  },
  {
   "cell_type": "code",
   "execution_count": 5,
   "metadata": {},
   "outputs": [],
   "source": [
    "# Load ACAS properties from another python file\n",
    "from properties import *"
   ]
  },
  {
   "cell_type": "markdown",
   "metadata": {},
   "source": [
    "# 2. Load models"
   ]
  },
  {
   "cell_type": "code",
   "execution_count": null,
   "metadata": {},
   "outputs": [],
   "source": [
    "path_model = \"ACAS_XU_tf_keras/ACASXU_1_1.h5\"\n",
    "\n",
    "model_11 = load_model(path_model)\n",
    "\n",
    "model_11.compile()\n",
    "\n",
    "model_11.summary()"
   ]
  },
  {
   "cell_type": "markdown",
   "metadata": {},
   "source": [
    "# 3. Home-made FGSM"
   ]
  },
  {
   "cell_type": "code",
   "execution_count": null,
   "metadata": {},
   "outputs": [],
   "source": [
    "def generate_adv_sample(model, x0, label, loss_function=\"MSE\", eps=1e-5):\n",
    "    # transforming into a tensorflow object\n",
    "    x0_ = tf.cast(x0, tf.float32)\n",
    "    \n",
    "    # record our gradients\n",
    "    with tf.GradientTape() as tape:\n",
    "        # explicitly indicate that our input should be tacked for gradient updates\n",
    "        tape.watch(x0_)\n",
    "\n",
    "        # use our model to make predictions on the input and then compute the loss\n",
    "        pred = model(x0_)\n",
    "        if loss_function == \"CCE\":\n",
    "            np_label = np.array([i==label for i in range(0,5)]).reshape((1,5))\n",
    "            loss = CCE(np_label, pred)\n",
    "        elif loss_function == \"MSE\":\n",
    "            loss = MSE(label, pred)\n",
    "        else:\n",
    "            raise Exception(\"Unknown loss function '{0}'\".format(loss_function))\n",
    "        \n",
    "        # calculate the gradients of loss with respect to the input, then compute the sign of the gradient\n",
    "        gradient = tape.gradient(loss, x0_)\n",
    "        signedGrad = tf.sign(gradient)\n",
    "\n",
    "        # construct the image adversary\n",
    "        adv_sample = (x0_ + (signedGrad * eps)).numpy()\n",
    "\n",
    "        # return the adversarial sample to the calling function\n",
    "        return(adv_sample)"
   ]
  },
  {
   "cell_type": "markdown",
   "metadata": {},
   "source": [
    "# 4. Generate points & check properties"
   ]
  },
  {
   "cell_type": "code",
   "execution_count": null,
   "metadata": {},
   "outputs": [],
   "source": [
    "def random_pts(n, prop_dom, main_dom):\n",
    "    \"\"\" prop_dom is a list of domains given by intervals in a numpy 2x5 table. \"\"\"\n",
    "    ndom = len(prop_dom)\n",
    "    ndim = main_dom.shape[1]\n",
    "    \n",
    "    x = np.zeros((n,ndim))\n",
    "    for i in range(n): # generate the i-th point\n",
    "        choosen_dom = prop_dom[randint(0,ndom-1)] # choose the input property domain for a given prop\n",
    "        for k in range(ndim): # create a random coord for each dim\n",
    "            boundaries = main_dom[:,k]\n",
    "            if choosen_dom[0,k] != None:\n",
    "                boundaries[0] = choosen_dom[0,k]\n",
    "            if choosen_dom[1,k] != None:\n",
    "                boundaries[1] = choosen_dom[1,k]\n",
    "            x[i,k] = boundaries[0] + random()*(boundaries[1]-boundaries[0])\n",
    "\n",
    "    return(x)"
   ]
  },
  {
   "cell_type": "code",
   "execution_count": null,
   "metadata": {},
   "outputs": [],
   "source": [
    "def random_main_pts(n, main_dom):\n",
    "    \"\"\" Generate random points in the main domain given by intervals stored in a numpy 2x5 table. \"\"\"\n",
    "    ndim = main_dom.shape[1]\n",
    "    \n",
    "    x = np.zeros((n,ndim))\n",
    "    for k in range(ndim): # create a random coord for each dim\n",
    "        col = main_dom[0,k]*np.ones((n,1)) + np.random.rand(n,1)*(main_dom[1,k] - main_dom[0,k])\n",
    "        for i in range(n):\n",
    "            x[i,k] = col[i]\n",
    "\n",
    "    return(x)"
   ]
  },
  {
   "cell_type": "code",
   "execution_count": null,
   "metadata": {},
   "outputs": [],
   "source": [
    "x_test = random_main_pts(1000, X_dom)"
   ]
  },
  {
   "cell_type": "code",
   "execution_count": null,
   "metadata": {},
   "outputs": [],
   "source": [
    "def normalize(x, x_mean, x_range):\n",
    "    (n,k) = x.shape\n",
    "    nx = np.zeros((n,k))\n",
    "    for i in range(n):\n",
    "        for j in range(k):\n",
    "            nx[i,j] = (x[i,j]-x_mean[j])/x_range[j]\n",
    "    return(nx)"
   ]
  },
  {
   "cell_type": "code",
   "execution_count": null,
   "metadata": {},
   "outputs": [],
   "source": [
    "def check_pts(model, input_pts, IP, OP):\n",
    "    n = input_pts.shape[0]\n",
    "    IO_check = np.zeros((n,2)) # 1st column : input checked - 2nd column : output checked\n",
    "    \n",
    "    norm_input = normalize(input_pts, X_mean, X_range) # normalize pts\n",
    "    \n",
    "    pred_pts = model.predict(norm_input) # make predictions with the model (neural net)\n",
    "    \n",
    "    for k in range(n):\n",
    "        IO_check[k,0] = IP(input_pts[k,:]) # check input (just in case)\n",
    "        IO_check[k,1] = OP(pred_pts[k,:]) # check output\n",
    "\n",
    "    return(IO_check, pred_pts)"
   ]
  },
  {
   "cell_type": "code",
   "execution_count": null,
   "metadata": {},
   "outputs": [],
   "source": [
    "rand_inputs = random_pts(1000000, IP2_dom, X_dom)"
   ]
  },
  {
   "cell_type": "code",
   "execution_count": null,
   "metadata": {},
   "outputs": [],
   "source": [
    "Pcheck, pred_pts = check_pts(model_11, rand_inputs, IP1, OP1)"
   ]
  },
  {
   "cell_type": "code",
   "execution_count": null,
   "metadata": {},
   "outputs": [],
   "source": [
    "def find_adverse(input_pts, prop_check):\n",
    "    n = prop_check.shape[0]\n",
    "    index = []\n",
    "    for k in range(n):\n",
    "        if prop_check[k,0] and not(prop_check[k,1]):\n",
    "            index.append(k)\n",
    "    return(input_pts[index,:])"
   ]
  },
  {
   "cell_type": "code",
   "execution_count": null,
   "metadata": {},
   "outputs": [],
   "source": [
    "adv = find_adverse(rand_inputs, Pcheck)\n",
    "print(adv.shape)"
   ]
  },
  {
   "cell_type": "code",
   "execution_count": null,
   "metadata": {},
   "outputs": [],
   "source": [
    "Pcheck.shape"
   ]
  },
  {
   "cell_type": "markdown",
   "metadata": {},
   "source": [
    "# 5. Attack the networks : FGSM & CW"
   ]
  },
  {
   "cell_type": "code",
   "execution_count": 34,
   "metadata": {},
   "outputs": [
    {
     "name": "stdout",
     "output_type": "stream",
     "text": [
      "WARNING:tensorflow:No training configuration found in the save file, so the model was *not* compiled. Compile it manually.\n"
     ]
    }
   ],
   "source": [
    "ACAS_model = load_model(\"ACAS_XU_tf_keras/ACASXU_2_4.h5\")"
   ]
  },
  {
   "cell_type": "markdown",
   "metadata": {},
   "source": [
    "> See ConfusionMatrix_PIERRE.ipynb for the attacks + confusion matrix"
   ]
  },
  {
   "cell_type": "markdown",
   "metadata": {},
   "source": [
    "### Save points in a file .npy"
   ]
  },
  {
   "cell_type": "code",
   "execution_count": 30,
   "metadata": {},
   "outputs": [],
   "source": [
    "np.save(\"clear_pts.npy\",original_pts)"
   ]
  },
  {
   "cell_type": "code",
   "execution_count": 31,
   "metadata": {},
   "outputs": [],
   "source": [
    "test_data = np.load(\"clear_pts.npy\")"
   ]
  },
  {
   "cell_type": "markdown",
   "metadata": {},
   "source": [
    "# 6. Test des categories manquantes"
   ]
  },
  {
   "cell_type": "code",
   "execution_count": 2,
   "metadata": {},
   "outputs": [],
   "source": [
    "def full_nets_id():\n",
    "    \"\"\" Get the id of the 45 neural networks. \"\"\"\n",
    "    nets_id = []\n",
    "    for k in range(11,60):\n",
    "        if k%10 != 0:\n",
    "            nets_id.append( (str(k//10),str(k%10)) )\n",
    "    return(nets_id)"
   ]
  },
  {
   "cell_type": "code",
   "execution_count": 3,
   "metadata": {},
   "outputs": [],
   "source": [
    "def get_label_frequency(npts, nets_id=None, show=False):\n",
    "    \"\"\" Create 'npts' random points in the domain and make a prediction on each one of them\n",
    "        with every nnet whose id is in 'nets_id'. \"\"\"\n",
    "    \n",
    "    if nets_id == None: # all 45 networks\n",
    "        nets_id = full_nets_id()\n",
    "    else:\n",
    "        for k in range(0,len(nets_id)):\n",
    "            (na,nb) = nets_id[k]\n",
    "            nets_id[k] = (str(na),str(nb))\n",
    "    nnets = len(nets_id)\n",
    "    \n",
    "    base_pts = np.random.rand(npts, 5)\n",
    "    all_freq = np.zeros((nnets,5))\n",
    "    \n",
    "    for k in range(0,nnets):\n",
    "        \n",
    "        # load the corresponding model\n",
    "        (a,b) = nets_id[k]\n",
    "        ACAS_model = load_model(\"ACAS_XU_tf_keras/ACASXU_{0}_{1}.h5\".format(a,b), compile=False) # run-mode model only\n",
    "        \n",
    "        # make predictions and compute label frequencies\n",
    "        base_pred = ACAS_model.predict(base_pts)                                                                              \n",
    "        all_freq[k,:] = np.bincount(np.concatenate((np.argmin(base_pred, axis=1),np.arange(0,5)))) - np.ones(5)\n",
    "        \n",
    "        if show:\n",
    "            print('ACAS-XU {0}-{1} : {2}'.format(a,b,all_freq[k,:]))\n",
    "        \n",
    "    return(all_freq.astype(int))"
   ]
  },
  {
   "cell_type": "code",
   "execution_count": 4,
   "metadata": {},
   "outputs": [
    {
     "name": "stdout",
     "output_type": "stream",
     "text": [
      "ACAS-XU 1-1 : [9.127e+03 3.000e+00 2.770e+02 2.790e+02 3.140e+02]\n",
      "ACAS-XU 1-2 : [8945.  114.  419.   68.  454.]\n",
      "ACAS-XU 1-3 : [9.228e+03 4.000e+00 4.040e+02 1.880e+02 1.760e+02]\n",
      "ACAS-XU 1-4 : [9339.   49.   24.  292.  296.]\n",
      "ACAS-XU 1-5 : [8.964e+03 6.000e+00 1.500e+01 9.190e+02 9.600e+01]\n",
      "ACAS-XU 1-6 : [9658.   54.  160.   71.   57.]\n",
      "ACAS-XU 1-7 : [9.732e+03 0.000e+00 3.000e+00 4.000e+00 2.610e+02]\n",
      "ACAS-XU 1-8 : [9.708e+03 4.700e+01 1.000e+00 2.440e+02 0.000e+00]\n",
      "ACAS-XU 1-9 : [10000.     0.     0.     0.     0.]\n",
      "ACAS-XU 2-1 : [6.752e+03 2.478e+03 0.000e+00 7.670e+02 3.000e+00]\n",
      "ACAS-XU 2-2 : [8.206e+03 4.570e+02 1.000e+00 1.252e+03 8.400e+01]\n",
      "ACAS-XU 2-3 : [7673. 1363.    0.  946.   18.]\n",
      "ACAS-XU 2-4 : [7103. 1421.    0. 1467.    9.]\n",
      "ACAS-XU 2-5 : [9030.  799.    0.  171.    0.]\n",
      "ACAS-XU 2-6 : [8818. 1164.    0.   18.    0.]\n",
      "ACAS-XU 2-7 : [9.41e+03 5.22e+02 1.60e+01 5.10e+01 1.00e+00]\n",
      "ACAS-XU 2-8 : [9086.  914.    0.    0.    0.]\n",
      "ACAS-XU 2-9 : [8.895e+03 1.097e+03 0.000e+00 8.000e+00 0.000e+00]\n",
      "ACAS-XU 3-1 : [8634.    0. 1087.   13.  266.]\n",
      "ACAS-XU 3-2 : [9108.    0.  401.   11.  480.]\n",
      "ACAS-XU 3-3 : [7.847e+03 0.000e+00 1.175e+03 7.000e+00 9.710e+02]\n",
      "ACAS-XU 3-4 : [8893.    0.  993.   13.  101.]\n",
      "ACAS-XU 3-5 : [8.997e+03 0.000e+00 8.040e+02 5.000e+00 1.940e+02]\n",
      "ACAS-XU 3-6 : [8.706e+03 0.000e+00 1.292e+03 0.000e+00 2.000e+00]\n",
      "ACAS-XU 3-7 : [7.613e+03 0.000e+00 2.382e+03 0.000e+00 5.000e+00]\n",
      "ACAS-XU 3-8 : [6861.    0. 3108.    0.   31.]\n",
      "ACAS-XU 3-9 : [8.216e+03 1.000e+00 1.726e+03 3.700e+01 2.000e+01]\n",
      "ACAS-XU 4-1 : [9206.  512.    0.  282.    0.]\n",
      "ACAS-XU 4-2 : [9.287e+03 3.690e+02 5.000e+00 2.970e+02 4.200e+01]\n",
      "ACAS-XU 4-3 : [8.905e+03 6.750e+02 0.000e+00 4.180e+02 2.000e+00]\n",
      "ACAS-XU 4-4 : [9167.  228.    0.  526.   79.]\n",
      "ACAS-XU 4-5 : [6185.  498.  360. 2919.   38.]\n",
      "ACAS-XU 4-6 : [9230.  540.    0.  230.    0.]\n",
      "ACAS-XU 4-7 : [9421.  563.    0.   16.    0.]\n",
      "ACAS-XU 4-8 : [8.322e+03 1.465e+03 2.900e+01 1.830e+02 1.000e+00]\n",
      "ACAS-XU 4-9 : [8715. 1010.    0.  275.    0.]\n",
      "ACAS-XU 5-1 : [9381.    0.  124.   70.  425.]\n",
      "ACAS-XU 5-2 : [7777.    0. 1103.   11. 1109.]\n",
      "ACAS-XU 5-3 : [7477.    0.  257. 1049. 1217.]\n",
      "ACAS-XU 5-4 : [9461.    0.  257.   42.  240.]\n",
      "ACAS-XU 5-5 : [8598.   82.  491.   82.  747.]\n",
      "ACAS-XU 5-6 : [9.436e+03 3.500e+01 4.420e+02 8.000e+00 7.900e+01]\n",
      "ACAS-XU 5-7 : [9513.   20.  332.    0.  135.]\n",
      "ACAS-XU 5-8 : [9086.    0.  730.    0.  184.]\n",
      "ACAS-XU 5-9 : [9275.    0.  514.    0.  211.]\n"
     ]
    }
   ],
   "source": [
    "freq = get_label_frequency(10000, show=True)"
   ]
  },
  {
   "cell_type": "code",
   "execution_count": 5,
   "metadata": {},
   "outputs": [
    {
     "name": "stdout",
     "output_type": "stream",
     "text": [
      "[[ 9127     3   277   279   314]\n",
      " [ 8945   114   419    68   454]\n",
      " [ 9228     4   404   188   176]\n",
      " [ 9339    49    24   292   296]\n",
      " [ 8964     6    15   919    96]\n",
      " [ 9658    54   160    71    57]\n",
      " [ 9732     0     3     4   261]\n",
      " [ 9708    47     1   244     0]\n",
      " [10000     0     0     0     0]]\n"
     ]
    }
   ],
   "source": [
    "print(freq[:9,:])"
   ]
  },
  {
   "cell_type": "markdown",
   "metadata": {},
   "source": [
    "## Histplots and plots"
   ]
  },
  {
   "cell_type": "code",
   "execution_count": 6,
   "metadata": {},
   "outputs": [],
   "source": [
    "ACAS_labels = [\"COC\",\"WR\",\"WL\",\"SR\",\"SL\"]"
   ]
  },
  {
   "cell_type": "code",
   "execution_count": 7,
   "metadata": {},
   "outputs": [
    {
     "data": {
      "text/html": [
       "<svg  width=\"440\" height=\"55\"><rect x=\"0\" y=\"0\" width=\"55\" height=\"55\" style=\"fill:#66c2a5;stroke-width:2;stroke:rgb(255,255,255)\"/><rect x=\"55\" y=\"0\" width=\"55\" height=\"55\" style=\"fill:#fc8d62;stroke-width:2;stroke:rgb(255,255,255)\"/><rect x=\"110\" y=\"0\" width=\"55\" height=\"55\" style=\"fill:#8da0cb;stroke-width:2;stroke:rgb(255,255,255)\"/><rect x=\"165\" y=\"0\" width=\"55\" height=\"55\" style=\"fill:#e78ac3;stroke-width:2;stroke:rgb(255,255,255)\"/><rect x=\"220\" y=\"0\" width=\"55\" height=\"55\" style=\"fill:#a6d854;stroke-width:2;stroke:rgb(255,255,255)\"/><rect x=\"275\" y=\"0\" width=\"55\" height=\"55\" style=\"fill:#ffd92f;stroke-width:2;stroke:rgb(255,255,255)\"/><rect x=\"330\" y=\"0\" width=\"55\" height=\"55\" style=\"fill:#e5c494;stroke-width:2;stroke:rgb(255,255,255)\"/><rect x=\"385\" y=\"0\" width=\"55\" height=\"55\" style=\"fill:#b3b3b3;stroke-width:2;stroke:rgb(255,255,255)\"/></svg>"
      ],
      "text/plain": [
       "[(0.4, 0.7607843137254902, 0.6470588235294118),\n",
       " (0.9882352941176471, 0.5529411764705883, 0.3843137254901961),\n",
       " (0.5529411764705883, 0.6274509803921569, 0.796078431372549),\n",
       " (0.9058823529411765, 0.5411764705882353, 0.7647058823529411),\n",
       " (0.6509803921568628, 0.8470588235294118, 0.32941176470588235),\n",
       " (1.0, 0.8509803921568627, 0.1843137254901961),\n",
       " (0.8980392156862745, 0.7686274509803922, 0.5803921568627451),\n",
       " (0.7019607843137254, 0.7019607843137254, 0.7019607843137254)]"
      ]
     },
     "execution_count": 7,
     "metadata": {},
     "output_type": "execute_result"
    }
   ],
   "source": [
    "multiplot_pos = [(0,0),(0,1),(0,2),(1,1),(1,2)]\n",
    "labels_color = [(0.5529411764705883, 0.6274509803921569, 0.796078431372549),\n",
    "                (0.4, 0.7607843137254902, 0.6470588235294118),\n",
    "                (0.6509803921568628, 0.8470588235294118, 0.32941176470588235),\n",
    "                (0.8980392156862745, 0.7686274509803922, 0.5803921568627451),\n",
    "                (0.9882352941176471, 0.5529411764705883, 0.3843137254901961)]\n",
    "sns.color_palette(\"Set2\")"
   ]
  },
  {
   "cell_type": "code",
   "execution_count": 8,
   "metadata": {},
   "outputs": [
    {
     "data": {
      "text/html": [
       "<div>\n",
       "<style scoped>\n",
       "    .dataframe tbody tr th:only-of-type {\n",
       "        vertical-align: middle;\n",
       "    }\n",
       "\n",
       "    .dataframe tbody tr th {\n",
       "        vertical-align: top;\n",
       "    }\n",
       "\n",
       "    .dataframe thead th {\n",
       "        text-align: right;\n",
       "    }\n",
       "</style>\n",
       "<table border=\"1\" class=\"dataframe\">\n",
       "  <thead>\n",
       "    <tr style=\"text-align: right;\">\n",
       "      <th></th>\n",
       "      <th>COC</th>\n",
       "      <th>WR</th>\n",
       "      <th>WL</th>\n",
       "      <th>SR</th>\n",
       "      <th>SL</th>\n",
       "    </tr>\n",
       "  </thead>\n",
       "  <tbody>\n",
       "    <tr>\n",
       "      <th>0</th>\n",
       "      <td>9127</td>\n",
       "      <td>3</td>\n",
       "      <td>277</td>\n",
       "      <td>279</td>\n",
       "      <td>314</td>\n",
       "    </tr>\n",
       "    <tr>\n",
       "      <th>1</th>\n",
       "      <td>8945</td>\n",
       "      <td>114</td>\n",
       "      <td>419</td>\n",
       "      <td>68</td>\n",
       "      <td>454</td>\n",
       "    </tr>\n",
       "    <tr>\n",
       "      <th>2</th>\n",
       "      <td>9228</td>\n",
       "      <td>4</td>\n",
       "      <td>404</td>\n",
       "      <td>188</td>\n",
       "      <td>176</td>\n",
       "    </tr>\n",
       "    <tr>\n",
       "      <th>3</th>\n",
       "      <td>9339</td>\n",
       "      <td>49</td>\n",
       "      <td>24</td>\n",
       "      <td>292</td>\n",
       "      <td>296</td>\n",
       "    </tr>\n",
       "    <tr>\n",
       "      <th>4</th>\n",
       "      <td>8964</td>\n",
       "      <td>6</td>\n",
       "      <td>15</td>\n",
       "      <td>919</td>\n",
       "      <td>96</td>\n",
       "    </tr>\n",
       "  </tbody>\n",
       "</table>\n",
       "</div>"
      ],
      "text/plain": [
       "    COC   WR   WL   SR   SL\n",
       "0  9127    3  277  279  314\n",
       "1  8945  114  419   68  454\n",
       "2  9228    4  404  188  176\n",
       "3  9339   49   24  292  296\n",
       "4  8964    6   15  919   96"
      ]
     },
     "execution_count": 8,
     "metadata": {},
     "output_type": "execute_result"
    }
   ],
   "source": [
    "df_freq = pd.DataFrame(freq, columns = ACAS_labels)\n",
    "df_freq.head()"
   ]
  },
  {
   "cell_type": "code",
   "execution_count": 15,
   "metadata": {},
   "outputs": [
    {
     "data": {
      "image/png": "[encoded data removed]",
      "text/plain": [
       "<Figure size 1080x720 with 6 Axes>"
      ]
     },
     "metadata": {
      "needs_background": "light"
     },
     "output_type": "display_data"
    }
   ],
   "source": [
    "fig, axes = plt.subplots(2, 3, figsize=(15, 10)) #, sharey=True)\n",
    "fig.suptitle(\"Frequencies of predicted labels on {0} random points\".format(np.sum(freq[0,:])), size=25)\n",
    "\n",
    "bar_width = 25\n",
    "\n",
    "for k in range(5):\n",
    "    sns.histplot(ax=axes[multiplot_pos[k]], data = df_freq[ACAS_labels[k]], binwidth = bar_width, color = labels_color[k])\n",
    "    axes[multiplot_pos[k]].set_xlim(0,1000)\n",
    "\n",
    "plt.show()"
   ]
  },
  {
   "cell_type": "code",
   "execution_count": 10,
   "metadata": {},
   "outputs": [],
   "source": [
    "sorted_index = np.argsort(freq, axis=0)"
   ]
  },
  {
   "cell_type": "code",
   "execution_count": 26,
   "metadata": {},
   "outputs": [
    {
     "data": {
      "image/png": "[encoded data removed]",
      "text/plain": [
       "<Figure size 1080x720 with 6 Axes>"
      ]
     },
     "metadata": {
      "needs_background": "light"
     },
     "output_type": "display_data"
    }
   ],
   "source": [
    "fig, axes = plt.subplots(2, 3, figsize=(15, 10)) #, sharey=True)\n",
    "plt.subplots_adjust(wspace = 0.3, hspace = 0.3)\n",
    "fig.suptitle(\"Frequencies of predicted labels on {0} random points\".format(np.sum(freq[0,:])), size=25)\n",
    "\n",
    "for k in range(5):\n",
    "    axes[multiplot_pos[k]].plot(freq[:,k][sorted_index[:,k]], color = labels_color[k])\n",
    "    axes[multiplot_pos[k]].set_xlim(0,45)\n",
    "    axes[multiplot_pos[k]].set_title(ACAS_labels[k], size=15)\n",
    "    axes[multiplot_pos[k]].set_xlabel(\"networks\") ; axes[multiplot_pos[k]].set_ylabel(\"number of predictions\")\n",
    "    \n",
    "plt.show()"
   ]
  }
 ],
 "metadata": {
  "kernelspec": {
   "display_name": "Python 3",
   "language": "python",
   "name": "python3"
  },
  "language_info": {
   "codemirror_mode": {
    "name": "ipython",
    "version": 3
   },
   "file_extension": ".py",
   "mimetype": "text/x-python",
   "name": "python",
   "nbconvert_exporter": "python",
   "pygments_lexer": "ipython3",
   "version": "3.8.3"
  }
 },
 "nbformat": 4,
 "nbformat_minor": 4
}
