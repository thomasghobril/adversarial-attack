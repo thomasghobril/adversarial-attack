{
 "cells": [
  {
   "cell_type": "markdown",
   "metadata": {},
   "source": [
    "# 1. Imports"
   ]
  },
  {
   "cell_type": "code",
   "execution_count": 1,
   "metadata": {},
   "outputs": [],
   "source": [
    "import numpy as np\n",
    "from math import pi\n",
    "\n",
    "from matplotlib import pyplot as plt\n",
    "\n",
    "import seaborn as sn\n",
    "import pandas as pd"
   ]
  },
  {
   "cell_type": "code",
   "execution_count": 2,
   "metadata": {},
   "outputs": [],
   "source": [
    "from tensorflow.keras.models import load_model"
   ]
  },
  {
   "cell_type": "code",
   "execution_count": 3,
   "metadata": {},
   "outputs": [],
   "source": [
    "from tensorflow.keras.losses import MSE\n",
    "from tensorflow.keras.losses import categorical_crossentropy as CCE\n",
    "import tensorflow as tf"
   ]
  },
  {
   "cell_type": "code",
   "execution_count": 4,
   "metadata": {},
   "outputs": [],
   "source": [
    "from art.attacks.evasion import *\n",
    "from art.estimators.classification import TensorFlowV2Classifier\n",
    "\n",
    "import os\n",
    "import warnings\n",
    "warnings.filterwarnings('ignore')\n",
    "os.environ['TF_CPP_MIN_LOG_LEVEL'] = '3'"
   ]
  },
  {
   "cell_type": "code",
   "execution_count": 5,
   "metadata": {},
   "outputs": [],
   "source": [
    "# Load properties from another python file\n",
    "from properties import *"
   ]
  },
  {
   "cell_type": "code",
   "execution_count": 6,
   "metadata": {},
   "outputs": [],
   "source": [
    "from random import random, randint"
   ]
  },
  {
   "cell_type": "markdown",
   "metadata": {},
   "source": [
    "# 2. Load models"
   ]
  },
  {
   "cell_type": "code",
   "execution_count": 7,
   "metadata": {},
   "outputs": [],
   "source": [
    "path_model = \"ACAS_XU_tf_keras/ACASXU_1_1.h5\""
   ]
  },
  {
   "cell_type": "code",
   "execution_count": 8,
   "metadata": {},
   "outputs": [
    {
     "name": "stdout",
     "output_type": "stream",
     "text": [
      "WARNING:tensorflow:No training configuration found in the save file, so the model was *not* compiled. Compile it manually.\n"
     ]
    }
   ],
   "source": [
    "model_11 = load_model(path_model)"
   ]
  },
  {
   "cell_type": "code",
   "execution_count": null,
   "metadata": {},
   "outputs": [],
   "source": [
    "model_35 = load_model(\"ACAS_XU_tf_keras/ACASXU_3_5.h5\")"
   ]
  },
  {
   "cell_type": "code",
   "execution_count": null,
   "metadata": {},
   "outputs": [],
   "source": [
    "model_11.summary()"
   ]
  },
  {
   "cell_type": "code",
   "execution_count": 9,
   "metadata": {},
   "outputs": [],
   "source": [
    "model_11.compile()"
   ]
  },
  {
   "cell_type": "code",
   "execution_count": null,
   "metadata": {},
   "outputs": [],
   "source": [
    "model_35.compile()"
   ]
  },
  {
   "cell_type": "code",
   "execution_count": null,
   "metadata": {},
   "outputs": [],
   "source": [
    "pt = np.array([1.0, 1.0, 1.0, 1.0, 1.0]).reshape(1,5)\n",
    "model_11.predict(pt)"
   ]
  },
  {
   "cell_type": "code",
   "execution_count": null,
   "metadata": {},
   "outputs": [],
   "source": [
    "pt = np.array([1.0, 1.0, 1.0, 1.0, 1.0]).reshape(1,5)\n",
    "model_35.predict(pt)"
   ]
  },
  {
   "cell_type": "code",
   "execution_count": 10,
   "metadata": {},
   "outputs": [],
   "source": [
    "ACAS_model = model_11"
   ]
  },
  {
   "cell_type": "markdown",
   "metadata": {},
   "source": [
    "# 3. FGSM"
   ]
  },
  {
   "cell_type": "code",
   "execution_count": null,
   "metadata": {},
   "outputs": [],
   "source": [
    "def generate_adv_sample(model, x0, label, loss_function=\"MSE\", eps=1e-5):\n",
    "    # transforming into a tensorflow object\n",
    "    x0_ = tf.cast(x0, tf.float32)\n",
    "    \n",
    "    # record our gradients\n",
    "    with tf.GradientTape() as tape:\n",
    "        # explicitly indicate that our input should be tacked for gradient updates\n",
    "        tape.watch(x0_)\n",
    "\n",
    "        # use our model to make predictions on the input and then compute the loss\n",
    "        pred = model(x0_)\n",
    "        if loss_function == \"CCE\":\n",
    "            np_label = np.array([i==label for i in range(0,5)]).reshape((1,5))\n",
    "            loss = CCE(np_label, pred)\n",
    "        elif loss_function == \"MSE\":\n",
    "            loss = MSE(label, pred)\n",
    "        else:\n",
    "            raise Exception(\"Unknown loss function '{0}'\".format(loss_function))\n",
    "        \n",
    "        # calculate the gradients of loss with respect to the input, then compute the sign of the gradient\n",
    "        gradient = tape.gradient(loss, x0_)\n",
    "        signedGrad = tf.sign(gradient)\n",
    "\n",
    "        # construct the image adversary\n",
    "        adv_sample = (x0_ + (signedGrad * eps)).numpy()\n",
    "\n",
    "        # return the adversarial sample to the calling function\n",
    "        return(adv_sample)"
   ]
  },
  {
   "cell_type": "markdown",
   "metadata": {},
   "source": [
    "# 4. Generate points"
   ]
  },
  {
   "cell_type": "code",
   "execution_count": null,
   "metadata": {},
   "outputs": [],
   "source": [
    "def random_pts(n, prop_dom, main_dom):\n",
    "    \"\"\" prop_dom is a list of domains given by intervals in a numpy 2x5 table. \"\"\"\n",
    "    ndom = len(prop_dom)\n",
    "    ndim = main_dom.shape[1]\n",
    "    \n",
    "    x = np.zeros((n,ndim))\n",
    "    for i in range(n): # generate the i-th point\n",
    "        choosen_dom = prop_dom[randint(0,ndom-1)] # choose the input property domain for a given prop\n",
    "        for k in range(ndim): # create a random coord for each dim\n",
    "            boundaries = main_dom[:,k]\n",
    "            if choosen_dom[0,k] != None:\n",
    "                boundaries[0] = choosen_dom[0,k]\n",
    "            if choosen_dom[1,k] != None:\n",
    "                boundaries[1] = choosen_dom[1,k]\n",
    "            x[i,k] = boundaries[0] + random()*(boundaries[1]-boundaries[0])\n",
    "\n",
    "    return(x)"
   ]
  },
  {
   "cell_type": "code",
   "execution_count": null,
   "metadata": {},
   "outputs": [],
   "source": [
    "def random_main_pts(n, main_dom):\n",
    "    \"\"\" Generate random points in the main domain given by intervals stored in a numpy 2x5 table. \"\"\"\n",
    "    ndim = main_dom.shape[1]\n",
    "    \n",
    "    x = np.zeros((n,ndim))\n",
    "    for k in range(ndim): # create a random coord for each dim\n",
    "        col = main_dom[0,k]*np.ones((n,1)) + np.random.rand(n,1)*(main_dom[1,k] - main_dom[0,k])\n",
    "        for i in range(n):\n",
    "            x[i,k] = col[i]\n",
    "\n",
    "    return(x)"
   ]
  },
  {
   "cell_type": "code",
   "execution_count": null,
   "metadata": {},
   "outputs": [],
   "source": [
    "x_test = random_main_pts(1000, X_dom)"
   ]
  },
  {
   "cell_type": "code",
   "execution_count": null,
   "metadata": {},
   "outputs": [],
   "source": [
    "def normalize(x, x_mean, x_range):\n",
    "    (n,k) = x.shape\n",
    "    nx = np.zeros((n,k))\n",
    "    for i in range(n):\n",
    "        for j in range(k):\n",
    "            nx[i,j] = (x[i,j]-x_mean[j])/x_range[j]\n",
    "    return(nx)"
   ]
  },
  {
   "cell_type": "code",
   "execution_count": null,
   "metadata": {},
   "outputs": [],
   "source": [
    "def check_pts(model, input_pts, IP, OP):\n",
    "    n = input_pts.shape[0]\n",
    "    IO_check = np.zeros((n,2)) # 1st column : input checked - 2nd column : output checked\n",
    "    \n",
    "    norm_input = normalize(input_pts, X_mean, X_range) # normalize pts\n",
    "    \n",
    "    pred_pts = model.predict(norm_input) # make predictions with the model (neural net)\n",
    "    \n",
    "    for k in range(n):\n",
    "        IO_check[k,0] = IP(input_pts[k,:]) # check input (just in case)\n",
    "        IO_check[k,1] = OP(pred_pts[k,:]) # check output\n",
    "\n",
    "    return(IO_check, pred_pts)"
   ]
  },
  {
   "cell_type": "code",
   "execution_count": null,
   "metadata": {},
   "outputs": [],
   "source": [
    "rand_inputs = random_pts(1000000, IP2_dom, X_dom)"
   ]
  },
  {
   "cell_type": "code",
   "execution_count": null,
   "metadata": {},
   "outputs": [],
   "source": [
    "Pcheck, pred_pts = check_pts(model_11, rand_inputs, IP1, OP1)"
   ]
  },
  {
   "cell_type": "code",
   "execution_count": null,
   "metadata": {},
   "outputs": [],
   "source": [
    "def find_adverse(input_pts, prop_check):\n",
    "    n = prop_check.shape[0]\n",
    "    index = []\n",
    "    for k in range(n):\n",
    "        if prop_check[k,0] and not(prop_check[k,1]):\n",
    "            index.append(k)\n",
    "    return(input_pts[index,:])"
   ]
  },
  {
   "cell_type": "code",
   "execution_count": null,
   "metadata": {},
   "outputs": [],
   "source": [
    "adv = find_adverse(rand_inputs, Pcheck)\n",
    "print(adv.shape)"
   ]
  },
  {
   "cell_type": "code",
   "execution_count": null,
   "metadata": {},
   "outputs": [],
   "source": [
    "Pcheck.shape"
   ]
  },
  {
   "cell_type": "markdown",
   "metadata": {},
   "source": [
    "# 5. Attack the networks : FGSM & CW"
   ]
  },
  {
   "cell_type": "code",
   "execution_count": 34,
   "metadata": {},
   "outputs": [
    {
     "name": "stdout",
     "output_type": "stream",
     "text": [
      "WARNING:tensorflow:No training configuration found in the save file, so the model was *not* compiled. Compile it manually.\n"
     ]
    }
   ],
   "source": [
    "ACAS_model = load_model(\"ACAS_XU_tf_keras/ACASXU_2_4.h5\")"
   ]
  },
  {
   "cell_type": "markdown",
   "metadata": {},
   "source": [
    "### Define the attacks"
   ]
  },
  {
   "cell_type": "code",
   "execution_count": 35,
   "metadata": {},
   "outputs": [],
   "source": [
    "# Classifier object <~> neural network ACAS-Xu ...\n",
    "\n",
    "ACAS_classifier = TensorFlowV2Classifier(model = ACAS_model,\n",
    "                                         loss_object = MSE, # MSE or CCE ?...\n",
    "                                         train_step = None,\n",
    "                                         nb_classes = 5,\n",
    "                                         input_shape = (1, 5, 1),\n",
    "                                         clip_values = (-1.0, 1.0))"
   ]
  },
  {
   "cell_type": "code",
   "execution_count": null,
   "metadata": {},
   "outputs": [],
   "source": [
    "# x_test = 0.8*np.array([ [1.0, 1.0, 1.0, 1.0, 1.0],\n",
    "#                         [0.6, 0.5, 1.0, 0.3, 1.0] ])"
   ]
  },
  {
   "cell_type": "markdown",
   "metadata": {},
   "source": [
    "Carlini-Wagner (CW) attack"
   ]
  },
  {
   "cell_type": "code",
   "execution_count": 36,
   "metadata": {},
   "outputs": [],
   "source": [
    "attack_CW = CarliniLInfMethod(classifier=ACAS_classifier,\n",
    "                              initial_const = 1.0, \n",
    "                              max_iter = 100, \n",
    "                              # targeted=True, \n",
    "                              verbose = True)\n",
    "\n",
    "# x_adv_cw = attack_CW.generate(x_test) #, y=np.array([[0,1,0,0,0]]))\n",
    "# print(x_adv_cw)"
   ]
  },
  {
   "cell_type": "markdown",
   "metadata": {},
   "source": [
    "Fast Gradient Sign Method (FGSM) attack"
   ]
  },
  {
   "cell_type": "code",
   "execution_count": 37,
   "metadata": {},
   "outputs": [],
   "source": [
    "intensity_fgsm = 0.8\n",
    "\n",
    "attack_FGSM = FastGradientMethod(estimator = ACAS_classifier,\n",
    "                                 eps = intensity_fgsm)\n",
    "\n",
    "# x_adv_fgsm = attack_FGSM.generate(x_test)\n",
    "# print(x_adv_fgsm)"
   ]
  },
  {
   "cell_type": "markdown",
   "metadata": {},
   "source": [
    "### Create random (normalized) points"
   ]
  },
  {
   "cell_type": "code",
   "execution_count": 38,
   "metadata": {},
   "outputs": [],
   "source": [
    "original_pts = np.random.rand(1000, 5) # random_main_pts(10, X_dom)"
   ]
  },
  {
   "cell_type": "code",
   "execution_count": 17,
   "metadata": {},
   "outputs": [
    {
     "name": "stdout",
     "output_type": "stream",
     "text": [
      "[[0.76830627 0.52625757 0.63057784 0.84970256 0.12826136]\n",
      " [0.29287982 0.37831122 0.67717346 0.02992429 0.70559888]\n",
      " [0.14302361 0.0917562  0.22385754 0.5931272  0.24412429]\n",
      " ...\n",
      " [0.34937638 0.9471524  0.90867038 0.54171453 0.91603414]\n",
      " [0.2582764  0.86312649 0.68463625 0.18181338 0.17777323]\n",
      " [0.40612166 0.303844   0.42994302 0.32165554 0.22895306]]\n"
     ]
    }
   ],
   "source": [
    "print(original_pts)"
   ]
  },
  {
   "cell_type": "markdown",
   "metadata": {},
   "source": [
    "### Apply the attacks"
   ]
  },
  {
   "cell_type": "code",
   "execution_count": 18,
   "metadata": {},
   "outputs": [
    {
     "data": {
      "application/vnd.jupyter.widget-view+json": {
       "model_id": "16a90b9760eb4c008911194438b06ee9",
       "version_major": 2,
       "version_minor": 0
      },
      "text/plain": [
       "HBox(children=(FloatProgress(value=0.0, description='C&W L_inf', max=1000.0, style=ProgressStyle(description_w…"
      ]
     },
     "metadata": {},
     "output_type": "display_data"
    },
    {
     "name": "stdout",
     "output_type": "stream",
     "text": [
      "WARNING:tensorflow:Calling GradientTape.gradient on a persistent tape inside its context is significantly less efficient than calling it outside the context (it causes the gradient ops to be recorded on the tape, leading to increased CPU and memory usage). Only call GradientTape.gradient inside the context if you actually want to trace the gradient in order to compute higher order derivatives.\n",
      "\n"
     ]
    }
   ],
   "source": [
    "# CW\n",
    "adv_pts_cw = attack_CW.generate(original_pts)"
   ]
  },
  {
   "cell_type": "code",
   "execution_count": 52,
   "metadata": {},
   "outputs": [],
   "source": [
    "# FGSM\n",
    "adv_pts_fgsm = attack_FGSM.generate(original_pts)"
   ]
  },
  {
   "cell_type": "code",
   "execution_count": 20,
   "metadata": {},
   "outputs": [
    {
     "name": "stdout",
     "output_type": "stream",
     "text": [
      "CW adv points\n",
      "[[0.76830626 0.5262576  0.63057786 0.84970254 0.12826136]\n",
      " [0.29287982 0.37831122 0.67717344 0.02992429 0.7055989 ]\n",
      " [0.14302361 0.0917562  0.22385754 0.5931272  0.2441243 ]\n",
      " ...\n",
      " [0.34937638 0.9471524  0.90867037 0.54171455 0.91603416]\n",
      " [0.2582764  0.8631265  0.68463624 0.18181337 0.17777322]\n",
      " [0.40612167 0.303844   0.42994303 0.32165554 0.22895305]] \n",
      "\n",
      "FGSM adv points\n",
      "[[-0.03169373 -0.27374244 -0.16942215  0.04970256  0.92826134]\n",
      " [-0.5071202   1.         -0.12282654  0.8299243  -0.09440111]\n",
      " [ 0.9430236  -0.7082438  -0.5761425   1.          1.        ]\n",
      " ...\n",
      " [-0.45062363  0.1471524   0.10867038 -0.25828546  1.        ]\n",
      " [-0.5417236   0.0631265  -0.11536375 -0.61818665  0.97777325]\n",
      " [-0.39387834 -0.496156   -0.370057    1.          1.        ]]\n"
     ]
    }
   ],
   "source": [
    "print(\"CW adv points\")\n",
    "print(adv_pts_cw,\"\\n\")\n",
    "\n",
    "print(\"FGSM adv points\")\n",
    "print(adv_pts_fgsm)"
   ]
  },
  {
   "cell_type": "code",
   "execution_count": 21,
   "metadata": {},
   "outputs": [
    {
     "name": "stdout",
     "output_type": "stream",
     "text": [
      "Original pred :\n",
      "[[0.19946052 0.20015194 0.20013621 0.20013647 0.20011479]\n",
      " [0.19952877 0.20013227 0.20011573 0.2001145  0.2001087 ]\n",
      " [0.19956154 0.20012225 0.2001063  0.20010488 0.200105  ]\n",
      " ...\n",
      " [0.1994313  0.20016111 0.2001445  0.20014471 0.20011841]\n",
      " [0.1994308  0.20016056 0.20014514 0.20014599 0.2001175 ]\n",
      " [0.19955795 0.20012386 0.20010696 0.20010509 0.20010611]] \n",
      "\n",
      "CW pred :\n",
      "[[0.19946052 0.20015194 0.20013621 0.20013647 0.20011479]\n",
      " [0.19952877 0.20013227 0.20011573 0.2001145  0.2001087 ]\n",
      " [0.19956154 0.20012225 0.2001063  0.20010488 0.200105  ]\n",
      " ...\n",
      " [0.1994313  0.20016111 0.2001445  0.20014471 0.20011841]\n",
      " [0.1994308  0.20016056 0.20014514 0.20014599 0.2001175 ]\n",
      " [0.19955795 0.20012386 0.20010696 0.20010509 0.20010611]] \n",
      "\n",
      "FGSM pred :\n",
      "[[0.19958445 0.20011601 0.20009917 0.20009692 0.20010345]\n",
      " [0.09427588 0.24716148 0.15785016 0.44311404 0.0575984 ]\n",
      " [0.19960797 0.2001086  0.20009254 0.20009035 0.2001005 ]\n",
      " ...\n",
      " [0.10609905 0.23975204 0.16476323 0.42235887 0.06702682]\n",
      " [0.0947131  0.2301111  0.14705595 0.4752041  0.05291565]\n",
      " [0.19082639 0.22332154 0.18886642 0.23874265 0.15824302]]\n"
     ]
    }
   ],
   "source": [
    "# Make predictions with the adversarial points\n",
    "\n",
    "original_pred = ACAS_model.predict(original_pts)\n",
    "adv_pred_cw = ACAS_model.predict(adv_pts_cw)\n",
    "adv_pred_fgsm = ACAS_model.predict(adv_pts_fgsm)\n",
    "\n",
    "print(\"Original pred :\")\n",
    "print(original_pred,\"\\n\")\n",
    "\n",
    "print(\"CW pred :\")\n",
    "print(adv_pred_cw,\"\\n\")\n",
    "\n",
    "print(\"FGSM pred :\")\n",
    "print(adv_pred_fgsm)"
   ]
  },
  {
   "cell_type": "code",
   "execution_count": 55,
   "metadata": {},
   "outputs": [],
   "source": [
    "original_advice = np.argmin(original_pred, axis=1)\n",
    "adv_pred_fgsm = ACAS_model.predict(adv_pts_fgsm)\n",
    "fgsm_advice = np.argmin(adv_pred_fgsm, axis=1)"
   ]
  },
  {
   "cell_type": "code",
   "execution_count": 22,
   "metadata": {},
   "outputs": [
    {
     "name": "stdout",
     "output_type": "stream",
     "text": [
      "[0 0 0 0 0 0 0 0 0 0 0 0 0 0 0 0 0 0 0 0]\n",
      "[0 0 0 0 0 0 0 0 0 0 0 0 0 0 0 0 0 0 0 0]\n",
      "[0 4 0 4 0 0 0 1 0 0 0 0 4 0 4 0 0 0 3 0]\n"
     ]
    }
   ],
   "source": [
    "# Get advices from the predictions of the network (prediction = min score)\n",
    "\n",
    "original_advice = np.argmin(original_pred, axis=1)\n",
    "cw_advice = np.argmin(adv_pred_cw, axis=1)\n",
    "fgsm_advice = np.argmin(adv_pred_fgsm, axis=1)\n",
    "\n",
    "print(original_advice[:20])\n",
    "print(cw_advice[:20])\n",
    "print(fgsm_advice[:20])"
   ]
  },
  {
   "cell_type": "markdown",
   "metadata": {},
   "source": [
    "### Results visualization with confusion matrix"
   ]
  },
  {
   "cell_type": "code",
   "execution_count": 23,
   "metadata": {},
   "outputs": [],
   "source": [
    "def confusion_matrix(pred0, pred1, n_classes=5):\n",
    "    \"\"\" Create the n_classes*n_classes confusion matrix of pred1 compared to the original pred0. \n",
    "        - cmat[i,j] = nb of pts classified as i at the origin and as j after the attack \"\"\"\n",
    "    cmat = np.zeros((n_classes,n_classes)).astype(int)\n",
    "    n_sample = pred0.shape[0]\n",
    "    for k in range(n_sample):\n",
    "        cmat[pred0[k],pred1[k]] += 1\n",
    "    return(cmat)"
   ]
  },
  {
   "cell_type": "code",
   "execution_count": 64,
   "metadata": {},
   "outputs": [],
   "source": [
    "def norm_rows(cmat):\n",
    "    \"\"\" Normalize the lines of the confusion matrix cmat. \"\"\"\n",
    "    n = cmat.shape[0]\n",
    "    ncmat = np.zeros((n,n))\n",
    "    sum_rows = np.sum(cmat, axis=1)\n",
    "    for k in range(n):\n",
    "        s = sum_rows[k]\n",
    "        if s != 0:\n",
    "            ncmat[k,:] = cmat[k,:]/sum_rows[k]\n",
    "    return(ncmat)"
   ]
  },
  {
   "cell_type": "code",
   "execution_count": 25,
   "metadata": {},
   "outputs": [
    {
     "name": "stdout",
     "output_type": "stream",
     "text": [
      "[[924   0   0   1   0]\n",
      " [  0   0   0   0   0]\n",
      " [  0   0  22   0   2]\n",
      " [  1   0   1  14   1]\n",
      " [  0   0   6   5  23]]\n",
      "[[0.99891892 0.         0.         0.00108108 0.        ]\n",
      " [0.         0.         0.         0.         0.        ]\n",
      " [0.         0.         0.91666667 0.         0.08333333]\n",
      " [0.05882353 0.         0.05882353 0.82352941 0.05882353]\n",
      " [0.         0.         0.17647059 0.14705882 0.67647059]]\n"
     ]
    }
   ],
   "source": [
    "# confusion matrix\n",
    "cmat_cw = confusion_matrix(original_advice, cw_advice)\n",
    "print(cmat_cw)\n",
    "\n",
    "# confusion matrix with normalized lines\n",
    "ncmat_cw = norm_rows(cmat_cw)\n",
    "print(ncmat_cw)"
   ]
  },
  {
   "cell_type": "code",
   "execution_count": 65,
   "metadata": {},
   "outputs": [
    {
     "name": "stdout",
     "output_type": "stream",
     "text": [
      "[[535  64   0 104   8]\n",
      " [ 71  48   0  25   0]\n",
      " [  0   0   0   0   0]\n",
      " [ 95  20   0  22   7]\n",
      " [  1   0   0   0   0]]\n",
      "[[0.75246132 0.09001406 0.         0.14627286 0.01125176]\n",
      " [0.49305556 0.33333333 0.         0.17361111 0.        ]\n",
      " [0.         0.         0.         0.         0.        ]\n",
      " [0.65972222 0.13888889 0.         0.15277778 0.04861111]\n",
      " [1.         0.         0.         0.         0.        ]]\n"
     ]
    }
   ],
   "source": [
    "# confusion matrix\n",
    "cmat_fgsm = confusion_matrix(original_advice, fgsm_advice)\n",
    "print(cmat_fgsm)\n",
    "\n",
    "# confusion matrix with normalized lines\n",
    "ncmat_fgsm = norm_rows(cmat_fgsm)\n",
    "print(ncmat_fgsm)"
   ]
  },
  {
   "cell_type": "code",
   "execution_count": 59,
   "metadata": {},
   "outputs": [
    {
     "name": "stdout",
     "output_type": "stream",
     "text": [
      "[711 144   0 144   1]\n"
     ]
    }
   ],
   "source": [
    "print(np.sum(cmat_fgsm, axis=1))"
   ]
  },
  {
   "cell_type": "code",
   "execution_count": 27,
   "metadata": {},
   "outputs": [],
   "source": [
    "# confusion matrix plot legend\n",
    "index0 = [\"COC\",\"WR\",\"WL\",\"SR\",\"SL\"]\n",
    "index1 = [\"adv-COC\",\"adv-WR\",\"adv-WL\",\"adv-SR\",\"adv-SL\"]"
   ]
  },
  {
   "cell_type": "markdown",
   "metadata": {},
   "source": [
    "### Plot confusion matrix for CW attack"
   ]
  },
  {
   "cell_type": "code",
   "execution_count": 28,
   "metadata": {},
   "outputs": [
    {
     "data": {
      "image/png": "[encoded data removed]",
      "text/plain": [
       "<Figure size 720x504 with 2 Axes>"
      ]
     },
     "metadata": {
      "needs_background": "light"
     },
     "output_type": "display_data"
    }
   ],
   "source": [
    "df_cmat = pd.DataFrame(ncmat_cw, index = index0, columns = index1)\n",
    "\n",
    "plt.figure(figsize = (10,7))\n",
    "sn.heatmap(df_cmat, annot=True)\n",
    "plt.title(\"Confusion matrix - CW - #{0}\".format(1000))\n",
    "plt.show()"
   ]
  },
  {
   "cell_type": "markdown",
   "metadata": {},
   "source": [
    "### Plot confusion matrix for FGSM attack"
   ]
  },
  {
   "cell_type": "code",
   "execution_count": 66,
   "metadata": {},
   "outputs": [
    {
     "data": {
      "image/png": "[encoded data removed]",
      "text/plain": [
       "<Figure size 720x504 with 2 Axes>"
      ]
     },
     "metadata": {
      "needs_background": "light"
     },
     "output_type": "display_data"
    }
   ],
   "source": [
    "df_cmat = pd.DataFrame(ncmat_fgsm, index = index0, columns = index1)\n",
    "\n",
    "plt.figure(figsize = (10,7))\n",
    "sn.heatmap(df_cmat, annot=True)\n",
    "plt.title(\"Confusion matrix - FGSM - #{0}\".format(1000))\n",
    "plt.show()"
   ]
  },
  {
   "cell_type": "markdown",
   "metadata": {},
   "source": [
    "### Sauvegarde des pts dans un fichier"
   ]
  },
  {
   "cell_type": "code",
   "execution_count": 30,
   "metadata": {},
   "outputs": [],
   "source": [
    "np.save(\"clear_pts.npy\",original_pts)"
   ]
  },
  {
   "cell_type": "code",
   "execution_count": 31,
   "metadata": {},
   "outputs": [],
   "source": [
    "test_data = np.load(\"clear_pts.npy\")"
   ]
  },
  {
   "cell_type": "markdown",
   "metadata": {},
   "source": [
    "### Test des categories manquantes"
   ]
  },
  {
   "cell_type": "code",
   "execution_count": 103,
   "metadata": {},
   "outputs": [],
   "source": [
    "Npts = 1000"
   ]
  },
  {
   "cell_type": "code",
   "execution_count": 119,
   "metadata": {},
   "outputs": [],
   "source": [
    "def get_count(npts, nets_id=None):\n",
    "    \n",
    "    if nets_id == None: # all 45 networks\n",
    "        nets_id = []\n",
    "        for k in range(11,60):\n",
    "            if k%10 != 0:\n",
    "                nets_id.append( (str(k//10),str(k%10)) )\n",
    "    else:\n",
    "        for k in range(0,len(nets_id)):\n",
    "            (na,nb) = nets_id[k]\n",
    "            nets_id[k] = (str(na),str(nb))\n",
    "                \n",
    "    original_pts = np.random.rand(npts, 5) # random_main_pts(10, X_dom)\n",
    "    \n",
    "    nnets = len(nets_id)\n",
    "    total_count = np.zeros((nnets,5))\n",
    "    \n",
    "    for k in range(0,nnets):\n",
    "        (a,b) = nets_id[k]\n",
    "        ACAS_model = load_model(\"ACAS_XU_tf_keras/ACASXU_{0}_{1}.h5\".format(a,b))\n",
    "        \n",
    "        original_pred = ACAS_model.predict(original_pts)\n",
    "        advice = np.concatenate( (np.argmin(original_pred, axis=1),np.array([0,1,2,3,4])) )\n",
    "        \n",
    "        total_count[k,:] = (np.bincount(advice) - np.ones(5)).astype(int)\n",
    "        print('ACAS-XU {0}-{1} : {2}'.format(a,b,total_count[k,:]))\n",
    "        \n",
    "    return(total_count)"
   ]
  },
  {
   "cell_type": "code",
   "execution_count": 107,
   "metadata": {},
   "outputs": [
    {
     "name": "stdout",
     "output_type": "stream",
     "text": [
      "[1 2 3]\n",
      "[1 2 3]\n",
      "[1 2 3 1 2 3]\n"
     ]
    }
   ],
   "source": [
    "u = np.array([1,2,3]) ; print(u)\n",
    "v = np.array([1,2,3]) ; print(v)\n",
    "w = np.concatenate((u,v)) ; print(w)"
   ]
  },
  {
   "cell_type": "code",
   "execution_count": 122,
   "metadata": {},
   "outputs": [],
   "source": [
    "warnings.filterwarnings('ignore')"
   ]
  },
  {
   "cell_type": "code",
   "execution_count": 124,
   "metadata": {},
   "outputs": [
    {
     "name": "stdout",
     "output_type": "stream",
     "text": [
      "WARNING:tensorflow:No training configuration found in the save file, so the model was *not* compiled. Compile it manually.\n",
      "ACAS-XU 1-1 : [902.   0.  35.  36.  27.]\n",
      "WARNING:tensorflow:No training configuration found in the save file, so the model was *not* compiled. Compile it manually.\n",
      "ACAS-XU 1-2 : [891.  13.  51.   6.  39.]\n",
      "WARNING:tensorflow:No training configuration found in the save file, so the model was *not* compiled. Compile it manually.\n",
      "ACAS-XU 1-3 : [914.   2.  42.  24.  18.]\n",
      "WARNING:tensorflow:No training configuration found in the save file, so the model was *not* compiled. Compile it manually.\n",
      "ACAS-XU 1-4 : [929.   5.   2.  35.  29.]\n",
      "WARNING:tensorflow:No training configuration found in the save file, so the model was *not* compiled. Compile it manually.\n",
      "ACAS-XU 1-5 : [888.   1.   1. 100.  10.]\n",
      "WARNING:tensorflow:No training configuration found in the save file, so the model was *not* compiled. Compile it manually.\n",
      "ACAS-XU 1-6 : [965.  10.  15.   5.   5.]\n",
      "WARNING:tensorflow:No training configuration found in the save file, so the model was *not* compiled. Compile it manually.\n",
      "ACAS-XU 1-7 : [968.   0.   0.   0.  32.]\n",
      "WARNING:tensorflow:No training configuration found in the save file, so the model was *not* compiled. Compile it manually.\n",
      "ACAS-XU 1-8 : [966.   5.   0.  29.   0.]\n",
      "WARNING:tensorflow:No training configuration found in the save file, so the model was *not* compiled. Compile it manually.\n",
      "ACAS-XU 1-9 : [1000.    0.    0.    0.    0.]\n",
      "WARNING:tensorflow:No training configuration found in the save file, so the model was *not* compiled. Compile it manually.\n",
      "ACAS-XU 2-1 : [669. 254.   0.  76.   1.]\n",
      "WARNING:tensorflow:No training configuration found in the save file, so the model was *not* compiled. Compile it manually.\n",
      "ACAS-XU 2-2 : [811.  46.   0. 134.   9.]\n",
      "WARNING:tensorflow:No training configuration found in the save file, so the model was *not* compiled. Compile it manually.\n",
      "ACAS-XU 2-3 : [755. 140.   0. 104.   1.]\n",
      "WARNING:tensorflow:No training configuration found in the save file, so the model was *not* compiled. Compile it manually.\n",
      "ACAS-XU 2-4 : [677. 148.   0. 174.   1.]\n",
      "WARNING:tensorflow:No training configuration found in the save file, so the model was *not* compiled. Compile it manually.\n",
      "ACAS-XU 2-5 : [910.  72.   0.  18.   0.]\n",
      "WARNING:tensorflow:No training configuration found in the save file, so the model was *not* compiled. Compile it manually.\n",
      "ACAS-XU 2-6 : [880. 119.   0.   1.   0.]\n",
      "WARNING:tensorflow:No training configuration found in the save file, so the model was *not* compiled. Compile it manually.\n",
      "ACAS-XU 2-7 : [939.  50.   2.   9.   0.]\n",
      "WARNING:tensorflow:No training configuration found in the save file, so the model was *not* compiled. Compile it manually.\n",
      "ACAS-XU 2-8 : [887. 113.   0.   0.   0.]\n",
      "WARNING:tensorflow:No training configuration found in the save file, so the model was *not* compiled. Compile it manually.\n",
      "ACAS-XU 2-9 : [895. 102.   0.   3.   0.]\n",
      "WARNING:tensorflow:No training configuration found in the save file, so the model was *not* compiled. Compile it manually.\n",
      "ACAS-XU 3-1 : [848.   0. 127.   1.  24.]\n",
      "WARNING:tensorflow:No training configuration found in the save file, so the model was *not* compiled. Compile it manually.\n",
      "ACAS-XU 3-2 : [905.   0.  49.   0.  46.]\n",
      "WARNING:tensorflow:No training configuration found in the save file, so the model was *not* compiled. Compile it manually.\n",
      "ACAS-XU 3-3 : [777.   0. 125.   1.  97.]\n",
      "WARNING:tensorflow:No training configuration found in the save file, so the model was *not* compiled. Compile it manually.\n",
      "ACAS-XU 3-4 : [895.   0.  94.   2.   9.]\n",
      "WARNING:tensorflow:No training configuration found in the save file, so the model was *not* compiled. Compile it manually.\n",
      "ACAS-XU 3-5 : [904.   0.  84.   0.  12.]\n",
      "WARNING:tensorflow:No training configuration found in the save file, so the model was *not* compiled. Compile it manually.\n",
      "ACAS-XU 3-6 : [865.   0. 135.   0.   0.]\n",
      "WARNING:tensorflow:No training configuration found in the save file, so the model was *not* compiled. Compile it manually.\n",
      "ACAS-XU 3-7 : [741.   0. 259.   0.   0.]\n",
      "WARNING:tensorflow:No training configuration found in the save file, so the model was *not* compiled. Compile it manually.\n",
      "ACAS-XU 3-8 : [676.   0. 321.   0.   3.]\n",
      "WARNING:tensorflow:No training configuration found in the save file, so the model was *not* compiled. Compile it manually.\n",
      "ACAS-XU 3-9 : [812.   0. 187.   1.   0.]\n",
      "WARNING:tensorflow:No training configuration found in the save file, so the model was *not* compiled. Compile it manually.\n",
      "ACAS-XU 4-1 : [930.  44.   0.  26.   0.]\n",
      "WARNING:tensorflow:No training configuration found in the save file, so the model was *not* compiled. Compile it manually.\n",
      "ACAS-XU 4-2 : [922.  37.   0.  35.   6.]\n",
      "WARNING:tensorflow:No training configuration found in the save file, so the model was *not* compiled. Compile it manually.\n",
      "ACAS-XU 4-3 : [895.  57.   0.  48.   0.]\n",
      "WARNING:tensorflow:No training configuration found in the save file, so the model was *not* compiled. Compile it manually.\n",
      "ACAS-XU 4-4 : [913.  25.   0.  49.  13.]\n",
      "WARNING:tensorflow:No training configuration found in the save file, so the model was *not* compiled. Compile it manually.\n",
      "ACAS-XU 4-5 : [615.  55.  38. 289.   3.]\n",
      "WARNING:tensorflow:No training configuration found in the save file, so the model was *not* compiled. Compile it manually.\n",
      "ACAS-XU 4-6 : [938.  40.   2.  20.   0.]\n",
      "WARNING:tensorflow:No training configuration found in the save file, so the model was *not* compiled. Compile it manually.\n",
      "ACAS-XU 4-7 : [948.  48.   0.   4.   0.]\n",
      "WARNING:tensorflow:No training configuration found in the save file, so the model was *not* compiled. Compile it manually.\n",
      "ACAS-XU 4-8 : [834. 139.   4.  23.   0.]\n",
      "WARNING:tensorflow:No training configuration found in the save file, so the model was *not* compiled. Compile it manually.\n",
      "ACAS-XU 4-9 : [879.  96.   0.  25.   0.]\n",
      "WARNING:tensorflow:No training configuration found in the save file, so the model was *not* compiled. Compile it manually.\n",
      "ACAS-XU 5-1 : [941.   0.   6.   9.  44.]\n",
      "WARNING:tensorflow:No training configuration found in the save file, so the model was *not* compiled. Compile it manually.\n",
      "ACAS-XU 5-2 : [770.   0. 103.   2. 125.]\n",
      "WARNING:tensorflow:No training configuration found in the save file, so the model was *not* compiled. Compile it manually.\n",
      "ACAS-XU 5-3 : [729.   0.  19. 113. 139.]\n",
      "WARNING:tensorflow:No training configuration found in the save file, so the model was *not* compiled. Compile it manually.\n",
      "ACAS-XU 5-4 : [954.   0.  25.   5.  16.]\n",
      "WARNING:tensorflow:No training configuration found in the save file, so the model was *not* compiled. Compile it manually.\n",
      "ACAS-XU 5-5 : [857.   5.  46.  12.  80.]\n",
      "WARNING:tensorflow:No training configuration found in the save file, so the model was *not* compiled. Compile it manually.\n",
      "ACAS-XU 5-6 : [936.   0.  52.   2.  10.]\n",
      "WARNING:tensorflow:No training configuration found in the save file, so the model was *not* compiled. Compile it manually.\n",
      "ACAS-XU 5-7 : [948.   1.  38.   0.  13.]\n",
      "WARNING:tensorflow:No training configuration found in the save file, so the model was *not* compiled. Compile it manually.\n",
      "ACAS-XU 5-8 : [901.   0.  83.   0.  16.]\n",
      "WARNING:tensorflow:No training configuration found in the save file, so the model was *not* compiled. Compile it manually.\n",
      "ACAS-XU 5-9 : [938.   0.  47.   0.  15.]\n"
     ]
    }
   ],
   "source": [
    "total_count = get_count(Npts) #, nets_id = [(1,1),(2,2),(3,5)])"
   ]
  },
  {
   "cell_type": "code",
   "execution_count": 125,
   "metadata": {},
   "outputs": [
    {
     "name": "stdout",
     "output_type": "stream",
     "text": [
      "[[ 902.    0.   35.   36.   27.]\n",
      " [ 891.   13.   51.    6.   39.]\n",
      " [ 914.    2.   42.   24.   18.]\n",
      " [ 929.    5.    2.   35.   29.]\n",
      " [ 888.    1.    1.  100.   10.]\n",
      " [ 965.   10.   15.    5.    5.]\n",
      " [ 968.    0.    0.    0.   32.]\n",
      " [ 966.    5.    0.   29.    0.]\n",
      " [1000.    0.    0.    0.    0.]\n",
      " [ 669.  254.    0.   76.    1.]\n",
      " [ 811.   46.    0.  134.    9.]\n",
      " [ 755.  140.    0.  104.    1.]\n",
      " [ 677.  148.    0.  174.    1.]\n",
      " [ 910.   72.    0.   18.    0.]\n",
      " [ 880.  119.    0.    1.    0.]\n",
      " [ 939.   50.    2.    9.    0.]\n",
      " [ 887.  113.    0.    0.    0.]\n",
      " [ 895.  102.    0.    3.    0.]\n",
      " [ 848.    0.  127.    1.   24.]\n",
      " [ 905.    0.   49.    0.   46.]\n",
      " [ 777.    0.  125.    1.   97.]\n",
      " [ 895.    0.   94.    2.    9.]\n",
      " [ 904.    0.   84.    0.   12.]\n",
      " [ 865.    0.  135.    0.    0.]\n",
      " [ 741.    0.  259.    0.    0.]\n",
      " [ 676.    0.  321.    0.    3.]\n",
      " [ 812.    0.  187.    1.    0.]\n",
      " [ 930.   44.    0.   26.    0.]\n",
      " [ 922.   37.    0.   35.    6.]\n",
      " [ 895.   57.    0.   48.    0.]\n",
      " [ 913.   25.    0.   49.   13.]\n",
      " [ 615.   55.   38.  289.    3.]\n",
      " [ 938.   40.    2.   20.    0.]\n",
      " [ 948.   48.    0.    4.    0.]\n",
      " [ 834.  139.    4.   23.    0.]\n",
      " [ 879.   96.    0.   25.    0.]\n",
      " [ 941.    0.    6.    9.   44.]\n",
      " [ 770.    0.  103.    2.  125.]\n",
      " [ 729.    0.   19.  113.  139.]\n",
      " [ 954.    0.   25.    5.   16.]\n",
      " [ 857.    5.   46.   12.   80.]\n",
      " [ 936.    0.   52.    2.   10.]\n",
      " [ 948.    1.   38.    0.   13.]\n",
      " [ 901.    0.   83.    0.   16.]\n",
      " [ 938.    0.   47.    0.   15.]]\n"
     ]
    }
   ],
   "source": [
    "print(total_count)"
   ]
  },
  {
   "cell_type": "code",
   "execution_count": 129,
   "metadata": {},
   "outputs": [],
   "source": [
    "df_count = pd.DataFrame(total_count, columns = index0)"
   ]
  },
  {
   "cell_type": "code",
   "execution_count": 133,
   "metadata": {},
   "outputs": [
    {
     "data": {
      "text/html": [
       "<div>\n",
       "<style scoped>\n",
       "    .dataframe tbody tr th:only-of-type {\n",
       "        vertical-align: middle;\n",
       "    }\n",
       "\n",
       "    .dataframe tbody tr th {\n",
       "        vertical-align: top;\n",
       "    }\n",
       "\n",
       "    .dataframe thead th {\n",
       "        text-align: right;\n",
       "    }\n",
       "</style>\n",
       "<table border=\"1\" class=\"dataframe\">\n",
       "  <thead>\n",
       "    <tr style=\"text-align: right;\">\n",
       "      <th></th>\n",
       "      <th>COC</th>\n",
       "      <th>WR</th>\n",
       "      <th>WL</th>\n",
       "      <th>SR</th>\n",
       "      <th>SL</th>\n",
       "    </tr>\n",
       "  </thead>\n",
       "  <tbody>\n",
       "    <tr>\n",
       "      <th>0</th>\n",
       "      <td>902.0</td>\n",
       "      <td>0.0</td>\n",
       "      <td>35.0</td>\n",
       "      <td>36.0</td>\n",
       "      <td>27.0</td>\n",
       "    </tr>\n",
       "    <tr>\n",
       "      <th>1</th>\n",
       "      <td>891.0</td>\n",
       "      <td>13.0</td>\n",
       "      <td>51.0</td>\n",
       "      <td>6.0</td>\n",
       "      <td>39.0</td>\n",
       "    </tr>\n",
       "    <tr>\n",
       "      <th>2</th>\n",
       "      <td>914.0</td>\n",
       "      <td>2.0</td>\n",
       "      <td>42.0</td>\n",
       "      <td>24.0</td>\n",
       "      <td>18.0</td>\n",
       "    </tr>\n",
       "    <tr>\n",
       "      <th>3</th>\n",
       "      <td>929.0</td>\n",
       "      <td>5.0</td>\n",
       "      <td>2.0</td>\n",
       "      <td>35.0</td>\n",
       "      <td>29.0</td>\n",
       "    </tr>\n",
       "    <tr>\n",
       "      <th>4</th>\n",
       "      <td>888.0</td>\n",
       "      <td>1.0</td>\n",
       "      <td>1.0</td>\n",
       "      <td>100.0</td>\n",
       "      <td>10.0</td>\n",
       "    </tr>\n",
       "  </tbody>\n",
       "</table>\n",
       "</div>"
      ],
      "text/plain": [
       "     COC    WR    WL     SR    SL\n",
       "0  902.0   0.0  35.0   36.0  27.0\n",
       "1  891.0  13.0  51.0    6.0  39.0\n",
       "2  914.0   2.0  42.0   24.0  18.0\n",
       "3  929.0   5.0   2.0   35.0  29.0\n",
       "4  888.0   1.0   1.0  100.0  10.0"
      ]
     },
     "execution_count": 133,
     "metadata": {},
     "output_type": "execute_result"
    }
   ],
   "source": [
    "df_count.head()"
   ]
  },
  {
   "cell_type": "code",
   "execution_count": 136,
   "metadata": {},
   "outputs": [
    {
     "ename": "AttributeError",
     "evalue": "module 'seaborn' has no attribute 'histplot'",
     "output_type": "error",
     "traceback": [
      "\u001b[1;31m---------------------------------------------------------------------------\u001b[0m",
      "\u001b[1;31mAttributeError\u001b[0m                            Traceback (most recent call last)",
      "\u001b[1;32m<ipython-input-136-056217a60907>\u001b[0m in \u001b[0;36m<module>\u001b[1;34m\u001b[0m\n\u001b[1;32m----> 1\u001b[1;33m \u001b[0msn\u001b[0m\u001b[1;33m.\u001b[0m\u001b[0mhistplot\u001b[0m\u001b[1;33m(\u001b[0m\u001b[0mdf_count\u001b[0m\u001b[1;33m[\u001b[0m\u001b[1;34m'COC'\u001b[0m\u001b[1;33m]\u001b[0m\u001b[1;33m)\u001b[0m\u001b[1;33m\u001b[0m\u001b[1;33m\u001b[0m\u001b[0m\n\u001b[0m\u001b[0;32m      2\u001b[0m \u001b[0mplt\u001b[0m\u001b[1;33m.\u001b[0m\u001b[0mshow\u001b[0m\u001b[1;33m(\u001b[0m\u001b[1;33m)\u001b[0m\u001b[1;33m\u001b[0m\u001b[1;33m\u001b[0m\u001b[0m\n",
      "\u001b[1;31mAttributeError\u001b[0m: module 'seaborn' has no attribute 'histplot'"
     ]
    }
   ],
   "source": [
    "sn.histplot(df_count['COC'])\n",
    "plt.show()"
   ]
  },
  {
   "cell_type": "code",
   "execution_count": null,
   "metadata": {},
   "outputs": [],
   "source": [
    "!pip uninstall seaborn"
   ]
  }
 ],
 "metadata": {
  "kernelspec": {
   "display_name": "Python 3",
   "language": "python",
   "name": "python3"
  },
  "language_info": {
   "codemirror_mode": {
    "name": "ipython",
    "version": 3
   },
   "file_extension": ".py",
   "mimetype": "text/x-python",
   "name": "python",
   "nbconvert_exporter": "python",
   "pygments_lexer": "ipython3",
   "version": "3.8.3"
  }
 },
 "nbformat": 4,
 "nbformat_minor": 4
}
