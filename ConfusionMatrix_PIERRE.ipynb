{
  "cells": [
    {
      "cell_type": "markdown",
      "metadata": {
        "id": "PqheWYdjDSsU"
      },
      "source": [
        "# 1. Imports"
      ]
    },
    {
      "cell_type": "code",
      "source": [
        "!pip install adversarial-robustness-toolbox"
      ],
      "metadata": {
        "colab": {
          "base_uri": "https://localhost:8080/"
        },
        "id": "PjRU7s4zD_xz",
        "outputId": "48f394eb-f128-4188-f3df-805f80387f65"
      },
      "execution_count": 2,
      "outputs": [
        {
          "output_type": "stream",
          "name": "stdout",
          "text": [
            "Collecting adversarial-robustness-toolbox\n",
            "  Downloading adversarial_robustness_toolbox-1.10.1-py3-none-any.whl (1.3 MB)\n",
            "\u001b[?25l\r\u001b[K     |▎                               | 10 kB 19.5 MB/s eta 0:00:01\r\u001b[K     |▌                               | 20 kB 7.7 MB/s eta 0:00:01\r\u001b[K     |▉                               | 30 kB 10.5 MB/s eta 0:00:01\r\u001b[K     |█                               | 40 kB 8.9 MB/s eta 0:00:01\r\u001b[K     |█▎                              | 51 kB 4.7 MB/s eta 0:00:01\r\u001b[K     |█▋                              | 61 kB 5.6 MB/s eta 0:00:01\r\u001b[K     |█▉                              | 71 kB 5.0 MB/s eta 0:00:01\r\u001b[K     |██                              | 81 kB 4.2 MB/s eta 0:00:01\r\u001b[K     |██▍                             | 92 kB 4.6 MB/s eta 0:00:01\r\u001b[K     |██▋                             | 102 kB 5.0 MB/s eta 0:00:01\r\u001b[K     |██▉                             | 112 kB 5.0 MB/s eta 0:00:01\r\u001b[K     |███▏                            | 122 kB 5.0 MB/s eta 0:00:01\r\u001b[K     |███▍                            | 133 kB 5.0 MB/s eta 0:00:01\r\u001b[K     |███▋                            | 143 kB 5.0 MB/s eta 0:00:01\r\u001b[K     |████                            | 153 kB 5.0 MB/s eta 0:00:01\r\u001b[K     |████▏                           | 163 kB 5.0 MB/s eta 0:00:01\r\u001b[K     |████▌                           | 174 kB 5.0 MB/s eta 0:00:01\r\u001b[K     |████▊                           | 184 kB 5.0 MB/s eta 0:00:01\r\u001b[K     |█████                           | 194 kB 5.0 MB/s eta 0:00:01\r\u001b[K     |█████▎                          | 204 kB 5.0 MB/s eta 0:00:01\r\u001b[K     |█████▌                          | 215 kB 5.0 MB/s eta 0:00:01\r\u001b[K     |█████▊                          | 225 kB 5.0 MB/s eta 0:00:01\r\u001b[K     |██████                          | 235 kB 5.0 MB/s eta 0:00:01\r\u001b[K     |██████▎                         | 245 kB 5.0 MB/s eta 0:00:01\r\u001b[K     |██████▌                         | 256 kB 5.0 MB/s eta 0:00:01\r\u001b[K     |██████▉                         | 266 kB 5.0 MB/s eta 0:00:01\r\u001b[K     |███████                         | 276 kB 5.0 MB/s eta 0:00:01\r\u001b[K     |███████▎                        | 286 kB 5.0 MB/s eta 0:00:01\r\u001b[K     |███████▋                        | 296 kB 5.0 MB/s eta 0:00:01\r\u001b[K     |███████▉                        | 307 kB 5.0 MB/s eta 0:00:01\r\u001b[K     |████████                        | 317 kB 5.0 MB/s eta 0:00:01\r\u001b[K     |████████▍                       | 327 kB 5.0 MB/s eta 0:00:01\r\u001b[K     |████████▋                       | 337 kB 5.0 MB/s eta 0:00:01\r\u001b[K     |█████████                       | 348 kB 5.0 MB/s eta 0:00:01\r\u001b[K     |█████████▏                      | 358 kB 5.0 MB/s eta 0:00:01\r\u001b[K     |█████████▍                      | 368 kB 5.0 MB/s eta 0:00:01\r\u001b[K     |█████████▊                      | 378 kB 5.0 MB/s eta 0:00:01\r\u001b[K     |██████████                      | 389 kB 5.0 MB/s eta 0:00:01\r\u001b[K     |██████████▏                     | 399 kB 5.0 MB/s eta 0:00:01\r\u001b[K     |██████████▌                     | 409 kB 5.0 MB/s eta 0:00:01\r\u001b[K     |██████████▊                     | 419 kB 5.0 MB/s eta 0:00:01\r\u001b[K     |███████████                     | 430 kB 5.0 MB/s eta 0:00:01\r\u001b[K     |███████████▎                    | 440 kB 5.0 MB/s eta 0:00:01\r\u001b[K     |███████████▌                    | 450 kB 5.0 MB/s eta 0:00:01\r\u001b[K     |███████████▊                    | 460 kB 5.0 MB/s eta 0:00:01\r\u001b[K     |████████████                    | 471 kB 5.0 MB/s eta 0:00:01\r\u001b[K     |████████████▎                   | 481 kB 5.0 MB/s eta 0:00:01\r\u001b[K     |████████████▌                   | 491 kB 5.0 MB/s eta 0:00:01\r\u001b[K     |████████████▉                   | 501 kB 5.0 MB/s eta 0:00:01\r\u001b[K     |█████████████                   | 512 kB 5.0 MB/s eta 0:00:01\r\u001b[K     |█████████████▍                  | 522 kB 5.0 MB/s eta 0:00:01\r\u001b[K     |█████████████▋                  | 532 kB 5.0 MB/s eta 0:00:01\r\u001b[K     |█████████████▉                  | 542 kB 5.0 MB/s eta 0:00:01\r\u001b[K     |██████████████▏                 | 552 kB 5.0 MB/s eta 0:00:01\r\u001b[K     |██████████████▍                 | 563 kB 5.0 MB/s eta 0:00:01\r\u001b[K     |██████████████▋                 | 573 kB 5.0 MB/s eta 0:00:01\r\u001b[K     |███████████████                 | 583 kB 5.0 MB/s eta 0:00:01\r\u001b[K     |███████████████▏                | 593 kB 5.0 MB/s eta 0:00:01\r\u001b[K     |███████████████▍                | 604 kB 5.0 MB/s eta 0:00:01\r\u001b[K     |███████████████▊                | 614 kB 5.0 MB/s eta 0:00:01\r\u001b[K     |████████████████                | 624 kB 5.0 MB/s eta 0:00:01\r\u001b[K     |████████████████▏               | 634 kB 5.0 MB/s eta 0:00:01\r\u001b[K     |████████████████▌               | 645 kB 5.0 MB/s eta 0:00:01\r\u001b[K     |████████████████▊               | 655 kB 5.0 MB/s eta 0:00:01\r\u001b[K     |█████████████████               | 665 kB 5.0 MB/s eta 0:00:01\r\u001b[K     |█████████████████▎              | 675 kB 5.0 MB/s eta 0:00:01\r\u001b[K     |█████████████████▌              | 686 kB 5.0 MB/s eta 0:00:01\r\u001b[K     |█████████████████▉              | 696 kB 5.0 MB/s eta 0:00:01\r\u001b[K     |██████████████████              | 706 kB 5.0 MB/s eta 0:00:01\r\u001b[K     |██████████████████▎             | 716 kB 5.0 MB/s eta 0:00:01\r\u001b[K     |██████████████████▋             | 727 kB 5.0 MB/s eta 0:00:01\r\u001b[K     |██████████████████▉             | 737 kB 5.0 MB/s eta 0:00:01\r\u001b[K     |███████████████████             | 747 kB 5.0 MB/s eta 0:00:01\r\u001b[K     |███████████████████▍            | 757 kB 5.0 MB/s eta 0:00:01\r\u001b[K     |███████████████████▋            | 768 kB 5.0 MB/s eta 0:00:01\r\u001b[K     |███████████████████▉            | 778 kB 5.0 MB/s eta 0:00:01\r\u001b[K     |████████████████████▏           | 788 kB 5.0 MB/s eta 0:00:01\r\u001b[K     |████████████████████▍           | 798 kB 5.0 MB/s eta 0:00:01\r\u001b[K     |████████████████████▋           | 808 kB 5.0 MB/s eta 0:00:01\r\u001b[K     |█████████████████████           | 819 kB 5.0 MB/s eta 0:00:01\r\u001b[K     |█████████████████████▏          | 829 kB 5.0 MB/s eta 0:00:01\r\u001b[K     |█████████████████████▌          | 839 kB 5.0 MB/s eta 0:00:01\r\u001b[K     |█████████████████████▊          | 849 kB 5.0 MB/s eta 0:00:01\r\u001b[K     |██████████████████████          | 860 kB 5.0 MB/s eta 0:00:01\r\u001b[K     |██████████████████████▎         | 870 kB 5.0 MB/s eta 0:00:01\r\u001b[K     |██████████████████████▌         | 880 kB 5.0 MB/s eta 0:00:01\r\u001b[K     |██████████████████████▊         | 890 kB 5.0 MB/s eta 0:00:01\r\u001b[K     |███████████████████████         | 901 kB 5.0 MB/s eta 0:00:01\r\u001b[K     |███████████████████████▎        | 911 kB 5.0 MB/s eta 0:00:01\r\u001b[K     |███████████████████████▌        | 921 kB 5.0 MB/s eta 0:00:01\r\u001b[K     |███████████████████████▉        | 931 kB 5.0 MB/s eta 0:00:01\r\u001b[K     |████████████████████████        | 942 kB 5.0 MB/s eta 0:00:01\r\u001b[K     |████████████████████████▎       | 952 kB 5.0 MB/s eta 0:00:01\r\u001b[K     |████████████████████████▋       | 962 kB 5.0 MB/s eta 0:00:01\r\u001b[K     |████████████████████████▉       | 972 kB 5.0 MB/s eta 0:00:01\r\u001b[K     |█████████████████████████       | 983 kB 5.0 MB/s eta 0:00:01\r\u001b[K     |█████████████████████████▍      | 993 kB 5.0 MB/s eta 0:00:01\r\u001b[K     |█████████████████████████▋      | 1.0 MB 5.0 MB/s eta 0:00:01\r\u001b[K     |██████████████████████████      | 1.0 MB 5.0 MB/s eta 0:00:01\r\u001b[K     |██████████████████████████▏     | 1.0 MB 5.0 MB/s eta 0:00:01\r\u001b[K     |██████████████████████████▍     | 1.0 MB 5.0 MB/s eta 0:00:01\r\u001b[K     |██████████████████████████▊     | 1.0 MB 5.0 MB/s eta 0:00:01\r\u001b[K     |███████████████████████████     | 1.1 MB 5.0 MB/s eta 0:00:01\r\u001b[K     |███████████████████████████▏    | 1.1 MB 5.0 MB/s eta 0:00:01\r\u001b[K     |███████████████████████████▌    | 1.1 MB 5.0 MB/s eta 0:00:01\r\u001b[K     |███████████████████████████▊    | 1.1 MB 5.0 MB/s eta 0:00:01\r\u001b[K     |████████████████████████████    | 1.1 MB 5.0 MB/s eta 0:00:01\r\u001b[K     |████████████████████████████▎   | 1.1 MB 5.0 MB/s eta 0:00:01\r\u001b[K     |████████████████████████████▌   | 1.1 MB 5.0 MB/s eta 0:00:01\r\u001b[K     |████████████████████████████▊   | 1.1 MB 5.0 MB/s eta 0:00:01\r\u001b[K     |█████████████████████████████   | 1.1 MB 5.0 MB/s eta 0:00:01\r\u001b[K     |█████████████████████████████▎  | 1.1 MB 5.0 MB/s eta 0:00:01\r\u001b[K     |█████████████████████████████▌  | 1.2 MB 5.0 MB/s eta 0:00:01\r\u001b[K     |█████████████████████████████▉  | 1.2 MB 5.0 MB/s eta 0:00:01\r\u001b[K     |██████████████████████████████  | 1.2 MB 5.0 MB/s eta 0:00:01\r\u001b[K     |██████████████████████████████▍ | 1.2 MB 5.0 MB/s eta 0:00:01\r\u001b[K     |██████████████████████████████▋ | 1.2 MB 5.0 MB/s eta 0:00:01\r\u001b[K     |██████████████████████████████▉ | 1.2 MB 5.0 MB/s eta 0:00:01\r\u001b[K     |███████████████████████████████▏| 1.2 MB 5.0 MB/s eta 0:00:01\r\u001b[K     |███████████████████████████████▍| 1.2 MB 5.0 MB/s eta 0:00:01\r\u001b[K     |███████████████████████████████▋| 1.2 MB 5.0 MB/s eta 0:00:01\r\u001b[K     |████████████████████████████████| 1.2 MB 5.0 MB/s eta 0:00:01\r\u001b[K     |████████████████████████████████| 1.3 MB 5.0 MB/s \n",
            "\u001b[?25hRequirement already satisfied: setuptools in /usr/local/lib/python3.7/dist-packages (from adversarial-robustness-toolbox) (57.4.0)\n",
            "Requirement already satisfied: scipy>=1.4.1 in /usr/local/lib/python3.7/dist-packages (from adversarial-robustness-toolbox) (1.4.1)\n",
            "Requirement already satisfied: scikit-learn<1.1.0,>=0.22.2 in /usr/local/lib/python3.7/dist-packages (from adversarial-robustness-toolbox) (1.0.2)\n",
            "Requirement already satisfied: six in /usr/local/lib/python3.7/dist-packages (from adversarial-robustness-toolbox) (1.15.0)\n",
            "Requirement already satisfied: tqdm in /usr/local/lib/python3.7/dist-packages (from adversarial-robustness-toolbox) (4.64.0)\n",
            "Requirement already satisfied: numpy>=1.18.0 in /usr/local/lib/python3.7/dist-packages (from adversarial-robustness-toolbox) (1.21.6)\n",
            "Collecting numba>=0.53.1\n",
            "  Downloading numba-0.55.1-1-cp37-cp37m-manylinux2014_x86_64.manylinux_2_17_x86_64.whl (3.3 MB)\n",
            "\u001b[K     |████████████████████████████████| 3.3 MB 50.3 MB/s \n",
            "\u001b[?25hCollecting llvmlite<0.39,>=0.38.0rc1\n",
            "  Downloading llvmlite-0.38.0-cp37-cp37m-manylinux_2_17_x86_64.manylinux2014_x86_64.whl (34.5 MB)\n",
            "\u001b[K     |████████████████████████████████| 34.5 MB 14 kB/s \n",
            "\u001b[?25hRequirement already satisfied: joblib>=0.11 in /usr/local/lib/python3.7/dist-packages (from scikit-learn<1.1.0,>=0.22.2->adversarial-robustness-toolbox) (1.1.0)\n",
            "Requirement already satisfied: threadpoolctl>=2.0.0 in /usr/local/lib/python3.7/dist-packages (from scikit-learn<1.1.0,>=0.22.2->adversarial-robustness-toolbox) (3.1.0)\n",
            "Installing collected packages: llvmlite, numba, adversarial-robustness-toolbox\n",
            "  Attempting uninstall: llvmlite\n",
            "    Found existing installation: llvmlite 0.34.0\n",
            "    Uninstalling llvmlite-0.34.0:\n",
            "      Successfully uninstalled llvmlite-0.34.0\n",
            "  Attempting uninstall: numba\n",
            "    Found existing installation: numba 0.51.2\n",
            "    Uninstalling numba-0.51.2:\n",
            "      Successfully uninstalled numba-0.51.2\n",
            "Successfully installed adversarial-robustness-toolbox-1.10.1 llvmlite-0.38.0 numba-0.55.1\n"
          ]
        }
      ]
    },
    {
      "cell_type": "code",
      "execution_count": 4,
      "metadata": {
        "id": "9TWCyqGjDSsg"
      },
      "outputs": [],
      "source": [
        "from art import *\n",
        "\n",
        "from art.attacks.evasion import *\n",
        "from art.estimators.classification import TensorFlowV2Classifier\n",
        "\n",
        "from matplotlib import pyplot as plt\n",
        "\n",
        "import numpy as np\n",
        "from math import pi\n",
        "\n",
        "import seaborn as sn\n",
        "import pandas as pd\n",
        "\n",
        "from tensorflow.keras import Model\n",
        "from tensorflow.keras.layers import Dense, Flatten, Conv2D\n",
        "from tensorflow.keras.models import load_model\n",
        "from tensorflow.keras.metrics import mean_squared_error as MSE\n",
        "\n",
        "import os\n",
        "import warnings\n",
        "warnings.filterwarnings('ignore')\n",
        "os.environ['TF_CPP_MIN_LOG_LEVEL'] = '3'\n",
        "from random import random, randint"
      ]
    },
    {
      "cell_type": "markdown",
      "metadata": {
        "id": "fcKtsOBzDSs-"
      },
      "source": [
        "# 2. Draw the confusion matrix"
      ]
    },
    {
      "cell_type": "code",
      "execution_count": 5,
      "metadata": {
        "id": "jtrNUZspDStE"
      },
      "outputs": [],
      "source": [
        "def confusion_matrix(pred0, pred1, n_classes=5):\n",
        "    \"\"\" Creates the n_classes*n_classes confusion matrix of pred1 compared to the original pred0. \n",
        "        - cmat[i,j] = nb of pts classified as i at the origin and as j after the attack \"\"\"\n",
        "    cmat = np.zeros((n_classes,n_classes)).astype(int)\n",
        "    n_sample = pred0.shape[0]\n",
        "    for k in range(n_sample):\n",
        "        cmat[pred0[k],pred1[k]] += 1\n",
        "    return(cmat)"
      ]
    },
    {
      "cell_type": "code",
      "source": [
        "def norm_rows(cmat):\n",
        "    \"\"\" Normalizes the lines of the confusion matrix cmat. \"\"\"\n",
        "    n = cmat.shape[0]\n",
        "    ncmat = np.zeros((n,n))\n",
        "    sum_rows = np.sum(cmat, axis=1)\n",
        "    for k in range(n):\n",
        "        s = sum_rows[k]\n",
        "        if s != 0:\n",
        "            ncmat[k,:] = cmat[k,:]/sum_rows[k]\n",
        "    return(ncmat)"
      ],
      "metadata": {
        "id": "9eTnye8tOZcF"
      },
      "execution_count": 7,
      "outputs": []
    },
    {
      "cell_type": "code",
      "source": [
        "def attack(method, classifier):\n",
        "    \"\"\"TO COMPLETE WITH YOUR ATTACKS\"\"\"\n",
        "\n",
        "    if method==\"nf\":\n",
        "        return NewtonFool(classifier=classifier, \n",
        "                          eta=0.95, \n",
        "                          max_iter = 20,\n",
        "                          verbose=True)\n",
        "    return NewtonFool(classifier=classifier, \n",
        "                      eta=0.95, \n",
        "                      max_iter = 20,\n",
        "                      verbose=True)"
      ],
      "metadata": {
        "id": "wIVSFMBiVKdB"
      },
      "execution_count": 8,
      "outputs": []
    },
    {
      "cell_type": "code",
      "source": [
        "def build_confusion_matrix(N, method=\"nf\", num_network=(1, 1), folder=\"/content/\"):\n",
        "    \"\"\"Do not forget to set folder and, if you use Colab, to import your neural networks!\"\"\"\n",
        "    # Load the model\n",
        "    path_model = folder + \"ACASXU_{}_{}.h5\".format(num_network[0], num_network[1])\n",
        "    model = load_model(path_model)\n",
        "    model.compile()\n",
        "\n",
        "    # ACAS classifier\n",
        "\n",
        "    ACAS_classifier = TensorFlowV2Classifier(\n",
        "    model=model,\n",
        "    loss_object=MSE,\n",
        "    train_step=None,\n",
        "    nb_classes=5,\n",
        "    input_shape=(1, 5),\n",
        "    clip_values=(-1.0, 1.0),\n",
        "    )\n",
        "\n",
        "    att = attack(method, ACAS_classifier)\n",
        "\n",
        "    # Apply the attack\n",
        "\n",
        "    original_pts = np.random.rand(N, 5)\n",
        "    adv_pts = att.generate(original_pts)\n",
        "    original_pred = model.predict(original_pts)\n",
        "    adv_pred = model.predict(adv_pts)\n",
        "    original_advice = np.argmin(original_pred, axis=1)\n",
        "    adv_advice = np.argmin(adv_pred, axis=1)\n",
        "\n",
        "    # confusion matrix\n",
        "    cmat = confusion_matrix(original_advice, adv_advice)\n",
        "\n",
        "    # confusion matrix with normalized lines\n",
        "    ncmat_nf = norm_rows(cmat)\n",
        "\n",
        "    index0 = [\"COC (\" + str(original_advice[original_advice==0].size) + \")\",\n",
        "              \"WR (\" + str(original_advice[original_advice==1].size) + \")\",\n",
        "              \"WL (\" + str(original_advice[original_advice==2].size) + \")\",\n",
        "              \"SR (\" + str(original_advice[original_advice==3].size) + \")\",\n",
        "              \"SL (\" + str(original_advice[original_advice==4].size) + \")\"]\n",
        "    index1 = [\"adv-COC (\" + str(adv_advice[adv_advice==0].size) + \")\",\n",
        "              \"adv-WR (\" + str(adv_advice[adv_advice==1].size) + \")\",\n",
        "              \"adv-WL (\" + str(adv_advice[adv_advice==2].size) + \")\",\n",
        "              \"adv-SR (\" + str(adv_advice[adv_advice==3].size) + \")\",\n",
        "              \"artSL (\" + str(adv_advice[adv_advice==4].size) + \")\"]\n",
        "\n",
        "    df_cmat = pd.DataFrame(ncmat_nf, index = index0, columns = index1)\n",
        "\n",
        "    plt.figure(figsize = (10,7))\n",
        "    sn.heatmap(df_cmat, annot=True)\n",
        "    plt.title(\"Confusion matrix - \" + method.upper() + \" - #{0}\".format(N) + \" - network {}_{}\".format(num_network[0], num_network[1]))\n",
        "    plt.show()"
      ],
      "metadata": {
        "id": "_wXsq_2JNopK"
      },
      "execution_count": 9,
      "outputs": []
    },
    {
      "cell_type": "code",
      "source": [
        "build_confusion_matrix(50, \"nf\", (1, 6))"
      ],
      "metadata": {
        "colab": {
          "base_uri": "https://localhost:8080/",
          "height": 531,
          "referenced_widgets": [
            "799ed959c60847a4ac84b84c60b84219",
            "3de6fc130ea144a2bad0ec86020273a9",
            "4775b348f26c4888bc61dac8854b7be8",
            "2ffd53ad8b5a448e84f919295fb4e43d",
            "6840433b6f0344439bbcd40d535b291f",
            "c01c451b95cc4171b3c6d08dd93c6b61",
            "3a6522008b7d4c5dba1024773ca85c13",
            "b12c2886eede4931bbba5fafd1a5bc9d",
            "e40e462d96bb4e8a8d79d4db4d5f5937",
            "84fdedd24ee24fd4a1239856442dbad3",
            "0915c81104a9415da7ba6f956980a9ab"
          ]
        },
        "id": "HXnFQwm_O6dz",
        "outputId": "6fb5f67a-ed74-461f-96c9-f30bdb3e6d35"
      },
      "execution_count": 10,
      "outputs": [
        {
          "output_type": "stream",
          "name": "stdout",
          "text": [
            "WARNING:tensorflow:No training configuration found in the save file, so the model was *not* compiled. Compile it manually.\n"
          ]
        },
        {
          "output_type": "display_data",
          "data": {
            "text/plain": [
              "NewtonFool:   0%|          | 0/50 [00:00<?, ?it/s]"
            ],
            "application/vnd.jupyter.widget-view+json": {
              "version_major": 2,
              "version_minor": 0,
              "model_id": "799ed959c60847a4ac84b84c60b84219"
            }
          },
          "metadata": {}
        },
        {
          "output_type": "stream",
          "name": "stdout",
          "text": [
            "WARNING:tensorflow:Calling GradientTape.gradient on a persistent tape inside its context is significantly less efficient than calling it outside the context (it causes the gradient ops to be recorded on the tape, leading to increased CPU and memory usage). Only call GradientTape.gradient inside the context if you actually want to trace the gradient in order to compute higher order derivatives.\n"
          ]
        },
        {
          "output_type": "display_data",
          "data": {
            "text/plain": [
              "<Figure size 720x504 with 2 Axes>"
            ],
            "image/png": "[encoded data removed]"
          },
          "metadata": {
            "needs_background": "light"
          }
        }
      ]
    }
  ],
  "metadata": {
    "kernelspec": {
      "display_name": "Python 3",
      "language": "python",
      "name": "python3"
    },
    "language_info": {
      "codemirror_mode": {
        "name": "ipython",
        "version": 3
      },
      "file_extension": ".py",
      "mimetype": "text/x-python",
      "name": "python",
      "nbconvert_exporter": "python",
      "pygments_lexer": "ipython3",
      "version": "3.8.3"
    },
    "colab": {
      "name": "ConfusionMatrix_PIERRE.ipynb",
      "provenance": []
    },
    "widgets": {
      "application/vnd.jupyter.widget-state+json": {
        "799ed959c60847a4ac84b84c60b84219": {
          "model_module": "@jupyter-widgets/controls",
          "model_name": "HBoxModel",
          "model_module_version": "1.5.0",
          "state": {
            "_dom_classes": [],
            "_model_module": "@jupyter-widgets/controls",
            "_model_module_version": "1.5.0",
            "_model_name": "HBoxModel",
            "_view_count": null,
            "_view_module": "@jupyter-widgets/controls",
            "_view_module_version": "1.5.0",
            "_view_name": "HBoxView",
            "box_style": "",
            "children": [
              "IPY_MODEL_3de6fc130ea144a2bad0ec86020273a9",
              "IPY_MODEL_4775b348f26c4888bc61dac8854b7be8",
              "IPY_MODEL_2ffd53ad8b5a448e84f919295fb4e43d"
            ],
            "layout": "IPY_MODEL_6840433b6f0344439bbcd40d535b291f"
          }
        },
        "3de6fc130ea144a2bad0ec86020273a9": {
          "model_module": "@jupyter-widgets/controls",
          "model_name": "HTMLModel",
          "model_module_version": "1.5.0",
          "state": {
            "_dom_classes": [],
            "_model_module": "@jupyter-widgets/controls",
            "_model_module_version": "1.5.0",
            "_model_name": "HTMLModel",
            "_view_count": null,
            "_view_module": "@jupyter-widgets/controls",
            "_view_module_version": "1.5.0",
            "_view_name": "HTMLView",
            "description": "",
            "description_tooltip": null,
            "layout": "IPY_MODEL_c01c451b95cc4171b3c6d08dd93c6b61",
            "placeholder": "​",
            "style": "IPY_MODEL_3a6522008b7d4c5dba1024773ca85c13",
            "value": "NewtonFool: 100%"
          }
        },
        "4775b348f26c4888bc61dac8854b7be8": {
          "model_module": "@jupyter-widgets/controls",
          "model_name": "FloatProgressModel",
          "model_module_version": "1.5.0",
          "state": {
            "_dom_classes": [],
            "_model_module": "@jupyter-widgets/controls",
            "_model_module_version": "1.5.0",
            "_model_name": "FloatProgressModel",
            "_view_count": null,
            "_view_module": "@jupyter-widgets/controls",
            "_view_module_version": "1.5.0",
            "_view_name": "ProgressView",
            "bar_style": "success",
            "description": "",
            "description_tooltip": null,
            "layout": "IPY_MODEL_b12c2886eede4931bbba5fafd1a5bc9d",
            "max": 50,
            "min": 0,
            "orientation": "horizontal",
            "style": "IPY_MODEL_e40e462d96bb4e8a8d79d4db4d5f5937",
            "value": 50
          }
        },
        "2ffd53ad8b5a448e84f919295fb4e43d": {
          "model_module": "@jupyter-widgets/controls",
          "model_name": "HTMLModel",
          "model_module_version": "1.5.0",
          "state": {
            "_dom_classes": [],
            "_model_module": "@jupyter-widgets/controls",
            "_model_module_version": "1.5.0",
            "_model_name": "HTMLModel",
            "_view_count": null,
            "_view_module": "@jupyter-widgets/controls",
            "_view_module_version": "1.5.0",
            "_view_name": "HTMLView",
            "description": "",
            "description_tooltip": null,
            "layout": "IPY_MODEL_84fdedd24ee24fd4a1239856442dbad3",
            "placeholder": "​",
            "style": "IPY_MODEL_0915c81104a9415da7ba6f956980a9ab",
            "value": " 50/50 [00:12&lt;00:00,  4.32it/s]"
          }
        },
        "6840433b6f0344439bbcd40d535b291f": {
          "model_module": "@jupyter-widgets/base",
          "model_name": "LayoutModel",
          "model_module_version": "1.2.0",
          "state": {
            "_model_module": "@jupyter-widgets/base",
            "_model_module_version": "1.2.0",
            "_model_name": "LayoutModel",
            "_view_count": null,
            "_view_module": "@jupyter-widgets/base",
            "_view_module_version": "1.2.0",
            "_view_name": "LayoutView",
            "align_content": null,
            "align_items": null,
            "align_self": null,
            "border": null,
            "bottom": null,
            "display": null,
            "flex": null,
            "flex_flow": null,
            "grid_area": null,
            "grid_auto_columns": null,
            "grid_auto_flow": null,
            "grid_auto_rows": null,
            "grid_column": null,
            "grid_gap": null,
            "grid_row": null,
            "grid_template_areas": null,
            "grid_template_columns": null,
            "grid_template_rows": null,
            "height": null,
            "justify_content": null,
            "justify_items": null,
            "left": null,
            "margin": null,
            "max_height": null,
            "max_width": null,
            "min_height": null,
            "min_width": null,
            "object_fit": null,
            "object_position": null,
            "order": null,
            "overflow": null,
            "overflow_x": null,
            "overflow_y": null,
            "padding": null,
            "right": null,
            "top": null,
            "visibility": null,
            "width": null
          }
        },
        "c01c451b95cc4171b3c6d08dd93c6b61": {
          "model_module": "@jupyter-widgets/base",
          "model_name": "LayoutModel",
          "model_module_version": "1.2.0",
          "state": {
            "_model_module": "@jupyter-widgets/base",
            "_model_module_version": "1.2.0",
            "_model_name": "LayoutModel",
            "_view_count": null,
            "_view_module": "@jupyter-widgets/base",
            "_view_module_version": "1.2.0",
            "_view_name": "LayoutView",
            "align_content": null,
            "align_items": null,
            "align_self": null,
            "border": null,
            "bottom": null,
            "display": null,
            "flex": null,
            "flex_flow": null,
            "grid_area": null,
            "grid_auto_columns": null,
            "grid_auto_flow": null,
            "grid_auto_rows": null,
            "grid_column": null,
            "grid_gap": null,
            "grid_row": null,
            "grid_template_areas": null,
            "grid_template_columns": null,
            "grid_template_rows": null,
            "height": null,
            "justify_content": null,
            "justify_items": null,
            "left": null,
            "margin": null,
            "max_height": null,
            "max_width": null,
            "min_height": null,
            "min_width": null,
            "object_fit": null,
            "object_position": null,
            "order": null,
            "overflow": null,
            "overflow_x": null,
            "overflow_y": null,
            "padding": null,
            "right": null,
            "top": null,
            "visibility": null,
            "width": null
          }
        },
        "3a6522008b7d4c5dba1024773ca85c13": {
          "model_module": "@jupyter-widgets/controls",
          "model_name": "DescriptionStyleModel",
          "model_module_version": "1.5.0",
          "state": {
            "_model_module": "@jupyter-widgets/controls",
            "_model_module_version": "1.5.0",
            "_model_name": "DescriptionStyleModel",
            "_view_count": null,
            "_view_module": "@jupyter-widgets/base",
            "_view_module_version": "1.2.0",
            "_view_name": "StyleView",
            "description_width": ""
          }
        },
        "b12c2886eede4931bbba5fafd1a5bc9d": {
          "model_module": "@jupyter-widgets/base",
          "model_name": "LayoutModel",
          "model_module_version": "1.2.0",
          "state": {
            "_model_module": "@jupyter-widgets/base",
            "_model_module_version": "1.2.0",
            "_model_name": "LayoutModel",
            "_view_count": null,
            "_view_module": "@jupyter-widgets/base",
            "_view_module_version": "1.2.0",
            "_view_name": "LayoutView",
            "align_content": null,
            "align_items": null,
            "align_self": null,
            "border": null,
            "bottom": null,
            "display": null,
            "flex": null,
            "flex_flow": null,
            "grid_area": null,
            "grid_auto_columns": null,
            "grid_auto_flow": null,
            "grid_auto_rows": null,
            "grid_column": null,
            "grid_gap": null,
            "grid_row": null,
            "grid_template_areas": null,
            "grid_template_columns": null,
            "grid_template_rows": null,
            "height": null,
            "justify_content": null,
            "justify_items": null,
            "left": null,
            "margin": null,
            "max_height": null,
            "max_width": null,
            "min_height": null,
            "min_width": null,
            "object_fit": null,
            "object_position": null,
            "order": null,
            "overflow": null,
            "overflow_x": null,
            "overflow_y": null,
            "padding": null,
            "right": null,
            "top": null,
            "visibility": null,
            "width": null
          }
        },
        "e40e462d96bb4e8a8d79d4db4d5f5937": {
          "model_module": "@jupyter-widgets/controls",
          "model_name": "ProgressStyleModel",
          "model_module_version": "1.5.0",
          "state": {
            "_model_module": "@jupyter-widgets/controls",
            "_model_module_version": "1.5.0",
            "_model_name": "ProgressStyleModel",
            "_view_count": null,
            "_view_module": "@jupyter-widgets/base",
            "_view_module_version": "1.2.0",
            "_view_name": "StyleView",
            "bar_color": null,
            "description_width": ""
          }
        },
        "84fdedd24ee24fd4a1239856442dbad3": {
          "model_module": "@jupyter-widgets/base",
          "model_name": "LayoutModel",
          "model_module_version": "1.2.0",
          "state": {
            "_model_module": "@jupyter-widgets/base",
            "_model_module_version": "1.2.0",
            "_model_name": "LayoutModel",
            "_view_count": null,
            "_view_module": "@jupyter-widgets/base",
            "_view_module_version": "1.2.0",
            "_view_name": "LayoutView",
            "align_content": null,
            "align_items": null,
            "align_self": null,
            "border": null,
            "bottom": null,
            "display": null,
            "flex": null,
            "flex_flow": null,
            "grid_area": null,
            "grid_auto_columns": null,
            "grid_auto_flow": null,
            "grid_auto_rows": null,
            "grid_column": null,
            "grid_gap": null,
            "grid_row": null,
            "grid_template_areas": null,
            "grid_template_columns": null,
            "grid_template_rows": null,
            "height": null,
            "justify_content": null,
            "justify_items": null,
            "left": null,
            "margin": null,
            "max_height": null,
            "max_width": null,
            "min_height": null,
            "min_width": null,
            "object_fit": null,
            "object_position": null,
            "order": null,
            "overflow": null,
            "overflow_x": null,
            "overflow_y": null,
            "padding": null,
            "right": null,
            "top": null,
            "visibility": null,
            "width": null
          }
        },
        "0915c81104a9415da7ba6f956980a9ab": {
          "model_module": "@jupyter-widgets/controls",
          "model_name": "DescriptionStyleModel",
          "model_module_version": "1.5.0",
          "state": {
            "_model_module": "@jupyter-widgets/controls",
            "_model_module_version": "1.5.0",
            "_model_name": "DescriptionStyleModel",
            "_view_count": null,
            "_view_module": "@jupyter-widgets/base",
            "_view_module_version": "1.2.0",
            "_view_name": "StyleView",
            "description_width": ""
          }
        }
      }
    }
  },
  "nbformat": 4,
  "nbformat_minor": 0
}