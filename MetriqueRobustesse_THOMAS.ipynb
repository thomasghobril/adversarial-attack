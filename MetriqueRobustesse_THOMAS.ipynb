{
 "cells": [
  {
   "cell_type": "markdown",
   "metadata": {
    "id": "PqheWYdjDSsU"
   },
   "source": [
    "# 1. Imports"
   ]
  },
  {
   "cell_type": "code",
   "execution_count": null,
   "metadata": {
    "colab": {
     "base_uri": "https://localhost:8080/"
    },
    "id": "PjRU7s4zD_xz",
    "outputId": "48f394eb-f128-4188-f3df-805f80387f65"
   },
   "outputs": [
    {
     "ename": "",
     "evalue": "",
     "output_type": "error",
     "traceback": [
      "\u001b[1;31mFailed to start the Kernel. \n",
      "Canceled. \n",
      "View Jupyter <a href='command:jupyter.viewOutput'>log</a> for further details."
     ]
    }
   ],
   "source": [
    "# !pip install adversarial-robustness-toolbox"
   ]
  },
  {
   "cell_type": "code",
   "execution_count": 9,
   "metadata": {
    "id": "9TWCyqGjDSsg"
   },
   "outputs": [],
   "source": [
    "import numpy as np\n",
    "import math\n",
    "from random import random, randint\n",
    "\n",
    "import pandas as pd\n",
    "import seaborn as sns\n",
    "\n",
    "from matplotlib import pyplot as plt\n",
    "\n",
    "from tensorflow.keras.models import load_model\n",
    "from tensorflow.keras.layers import Softmax\n",
    "\n",
    "from gurobipy import *\n",
    "\n",
    "import os\n",
    "import warnings\n",
    "warnings.filterwarnings('ignore')\n",
    "os.environ['TF_CPP_MIN_LOG_LEVEL'] = '3'"
   ]
  },
  {
   "cell_type": "markdown",
   "metadata": {
    "id": "fcKtsOBzDSs-"
   },
   "source": [
    "# 2. Compute statistical metrics"
   ]
  },
  {
   "cell_type": "code",
   "execution_count": 10,
   "metadata": {},
   "outputs": [],
   "source": [
    "ACAS_labels = [\"COC\",\"WR\",\"WL\",\"SR\",\"SL\"]"
   ]
  },
  {
   "cell_type": "code",
   "execution_count": null,
   "metadata": {},
   "outputs": [],
   "source": [
    "# 1 - Load the model ACAS\n",
    "\n",
    "def load_ACAS(num_net=(1, 1), folder=\"ACAS_XU_tf_keras/\"):\n",
    "    if (num_net[0] in range(1,6)) and (num_net[1] in range(1,10)):\n",
    "        path_model = folder + \"ACASXU_{}_{}.h5\".format(num_net[0], num_net[1])\n",
    "        model = load_model(path_model)\n",
    "        model.compile()\n",
    "    else:\n",
    "        raise Exception(\"ACAS neural network {0}-{1} doesn't exist.\".format(num_net[0],num_net[1]))\n",
    "    \n",
    "    return model"
   ]
  },
  {
   "cell_type": "code",
   "execution_count": null,
   "metadata": {},
   "outputs": [],
   "source": [
    "# 2 - Compute manually the output of each layer on the initial point\n",
    "\n",
    "def compute_layers(model,x_):\n",
    "    y_=[[]]\n",
    "    for j in range(model.layers[0].weights[0].shape[1]):\n",
    "        z=0\n",
    "        for k in range(model.layers[0].weights[0].shape[0]):\n",
    "            z+=model.layers[0].weights[0][k][j]* x_[k]\n",
    "        z+=model.layers[0].weights[1][j]\n",
    "        y_[0].append(z)\n",
    "\n",
    "    for i in range(1,len(model.layers)-1): # We skip last layer (softmax)\n",
    "        y_.append([])\n",
    "        if model.layers[i].__class__.__name__=='Activation':\n",
    "            for j in range(len(y_[i-1])):\n",
    "                if y_[i-1][j]<0:\n",
    "                    y_[i].append(0)\n",
    "                else:\n",
    "                    y_[i].append(y_[i-1][j])\n",
    "        elif model.layers[i].__class__.__name__=='Dense':\n",
    "            for j in range(model.layers[i].weights[0].shape[1]):\n",
    "                z=0\n",
    "                for k in range(model.layers[i].weights[0].shape[0]):\n",
    "                    z+=model.layers[i].weights[0][k][j]* y_[i-1][k]\n",
    "                z+=model.layers[i].weights[1][j]\n",
    "                y_[i].append(z)\n",
    "    \n",
    "    # 3 - Verify that the result is the same as the answer of the network\n",
    "    \n",
    "    #pdb.set_trace()\n",
    "    #model.summary()\n",
    "    # print(model.predict(np.expand_dims(x_, axis=0)))\n",
    "    # lastLayer = Softmax()\n",
    "    # print(lastLayer(y_[-1]).numpy())\n",
    "    \n",
    "    return y_"
   ]
  },
  {
   "cell_type": "code",
   "execution_count": 39,
   "metadata": {
    "id": "_wXsq_2JNopK"
   },
   "outputs": [
    {
     "name": "stdout",
     "output_type": "stream",
     "text": [
      "WARNING:tensorflow:No training configuration found in the save file, so the model was *not* compiled. Compile it manually.\n",
      "1/1 [==============================] - 0s 476ms/step\n",
      "[[0.19943528 0.20016503 0.20013963 0.20013508 0.20012508]]\n",
      "[0.19943528 0.20016503 0.20013963 0.20013508 0.20012508]\n",
      "Initial point :  [1 1 0 0 0]\n",
      "Initial scores :  [0.19943528 0.20016503 0.20013963 0.20013508 0.20012508]\n",
      "Final point :  [0.5554996229279519, 0.5554996229279519, 0.44450037707204815, -0.44450037707204815, 0.44450037707204815]\n",
      "Final scores :  [0.20004897 0.19997278 0.19996646 0.19996282 0.20004897]\n",
      "Objective :  0.44450037707204815\n"
     ]
    },
    {
     "data": {
      "text/plain": [
       "0.44450037707204815"
      ]
     },
     "execution_count": 39,
     "metadata": {},
     "output_type": "execute_result"
    }
   ],
   "source": [
    "# We use linear programming to compute the approximation of epsilon\n",
    "def compute_epsilon(x_, y_, l, model):\n",
    "    \"\"\"Do not forget to set folder and, if you use Colab, to import your neural networks!\"\"\"\n",
    "    \n",
    "    # 4 - Create model and variables\n",
    "    \n",
    "    m = Model(\"rho\")\n",
    "    t=m.addVar(lb=0.0, ub=float('inf'), obj=0.0, vtype=GRB.CONTINUOUS, name = f't')\n",
    "    x=[m.addVar(lb=-float('inf'), ub=float('inf'), vtype=GRB.CONTINUOUS, name = f'x_{i}') for i in range(len(x_))]\n",
    "    y=[[m.addVar(lb=-float('inf'), ub=float('inf'), vtype=GRB.CONTINUOUS, name = f'y_{i}_{j}') for j in range(len(y_[i]))] for i in range(len(model.layers)-1)]\n",
    "\n",
    "\n",
    "    # 5 - Add constraints\n",
    "\n",
    "    # 5.1 - Constraint |x-x_|oo<=t\n",
    "    for i in range(len(x_)):\n",
    "        m.addConstr(x[i]-x_[i] <= t)\n",
    "        m.addConstr(-x[i]+x_[i] <= t)\n",
    "\n",
    "    # 5.2 - Neural Network Constraint\n",
    "    for j in range(model.layers[0].weights[0].shape[1]):\n",
    "        z=LinExpr()\n",
    "        for k in range(model.layers[0].weights[0].shape[0]):\n",
    "            z+=model.layers[0].weights[0][k][j]* x[k]\n",
    "        z+=model.layers[0].weights[1][j]\n",
    "        m.addConstr(y[0][j] == z)\n",
    "\n",
    "    for i in range(1,len(model.layers)-1): #Skip last layer (softmax)\n",
    "        if model.layers[i].__class__.__name__=='Activation':\n",
    "            for j in range(len(y_[i-1])):\n",
    "                if y_[i-1][j]<0:\n",
    "                    m.addConstr(y[i][j] == 0)\n",
    "                else:\n",
    "                    m.addConstr(y[i][j] == y[i-1][j])\n",
    "        elif model.layers[i].__class__.__name__=='Dense':\n",
    "            for j in range(model.layers[i].weights[0].shape[1]):\n",
    "                z=LinExpr()\n",
    "                for k in range(model.layers[i].weights[0].shape[0]):\n",
    "                    z+=model.layers[i].weights[0][k][j]* y[i-1][k]\n",
    "                z+=model.layers[i].weights[1][j]\n",
    "                m.addConstr(y[i][j] == z)\n",
    "\n",
    "    # # 5.3 - Target output label\n",
    "    for i in range(len(y[-1])):\n",
    "        if i != l:\n",
    "            m.addConstr(y[-1][i]<=y[-1][l])\n",
    "\n",
    "    # 6 - Objective : minimise distance to inital point\n",
    "    \n",
    "    m.setObjective(t, GRB.MINIMIZE)\n",
    "\n",
    "    # 7 - Optimize\n",
    "\n",
    "    m.params.outputflag = 0 # mute mode\n",
    "    m.update()\n",
    "    m.display()\n",
    "    m.optimize()\n",
    "\n",
    "    # 8 - Read result\n",
    "    if  m.status == GRB.INFEASIBLE:\n",
    "        print(\"No solution !!\")\n",
    "\n",
    "        return \n",
    "    else:\n",
    "        lastLayer = Softmax()\n",
    "        print(\"Point : \",x_,\" -> \",[z.x for z in x])\n",
    "        print(\"Scores : \",lastLayer(y_[-1]).numpy(),\" -> \",lastLayer([z.x for z in y[-1]]).numpy())\n",
    "        print(\"Objective : \",m.objVal)\n",
    "\n",
    "        return m.objVal"
   ]
  },
  {
   "cell_type": "code",
   "execution_count": null,
   "metadata": {},
   "outputs": [],
   "source": [
    "def compute_rho(X,model):\n",
    "  R=[]\n",
    "  for x_ in X:\n",
    "    R.append([])\n",
    "    y_=compute_layers(model,x_)\n",
    "    l=np.argmax(y_[-1])\n",
    "    m=float('inf')\n",
    "    for i in range(5):\n",
    "      eps=compute_epsilon(x_, y_, i, model)\n",
    "      R[-1].append(eps)\n",
    "      if i!=l:\n",
    "        m=min(m,eps)\n",
    "    R[-1].append(m)\n",
    "  return R"
   ]
  },
  {
   "cell_type": "code",
   "execution_count": null,
   "metadata": {},
   "outputs": [],
   "source": [
    "def compute_metrics(R,eps):\n",
    "  phi,mu=[0]*6,[0]*6\n",
    "  for i in range(6):\n",
    "    n=0\n",
    "    for rho in R:\n",
    "      if rho[i]<=eps:\n",
    "        n+=1\n",
    "        mu[i]+=rho\n",
    "  \n",
    "    phi[i]=n/len(R)\n",
    "    mu[i]/=n\n",
    "\n",
    "  return phi,mu"
   ]
  }
 ],
 "metadata": {
  "colab": {
   "name": "ConfusionMatrix_PIERRE.ipynb",
   "provenance": []
  },
  "interpreter": {
   "hash": "ca9c90c9b299e3c35d28bc96236d8f2c0bd3d51256cb5ad616950692d4a1a879"
  },
  "kernelspec": {
   "display_name": "Python 3.9.7 64-bit",
   "language": "python",
   "name": "python3"
  },
  "language_info": {
   "codemirror_mode": {
    "name": "ipython",
    "version": 3
   },
   "file_extension": ".py",
   "mimetype": "text/x-python",
   "name": "python",
   "nbconvert_exporter": "python",
   "pygments_lexer": "ipython3",
   "version": "3.9.7"
  },
  "widgets": {
   "application/vnd.jupyter.widget-state+json": {
    "0915c81104a9415da7ba6f956980a9ab": {
     "model_module": "@jupyter-widgets/controls",
     "model_module_version": "1.5.0",
     "model_name": "DescriptionStyleModel",
     "state": {
      "_model_module": "@jupyter-widgets/controls",
      "_model_module_version": "1.5.0",
      "_model_name": "DescriptionStyleModel",
      "_view_count": null,
      "_view_module": "@jupyter-widgets/base",
      "_view_module_version": "1.2.0",
      "_view_name": "StyleView",
      "description_width": ""
     }
    },
    "2ffd53ad8b5a448e84f919295fb4e43d": {
     "model_module": "@jupyter-widgets/controls",
     "model_module_version": "1.5.0",
     "model_name": "HTMLModel",
     "state": {
      "_dom_classes": [],
      "_model_module": "@jupyter-widgets/controls",
      "_model_module_version": "1.5.0",
      "_model_name": "HTMLModel",
      "_view_count": null,
      "_view_module": "@jupyter-widgets/controls",
      "_view_module_version": "1.5.0",
      "_view_name": "HTMLView",
      "description": "",
      "description_tooltip": null,
      "layout": "IPY_MODEL_84fdedd24ee24fd4a1239856442dbad3",
      "placeholder": "​",
      "style": "IPY_MODEL_0915c81104a9415da7ba6f956980a9ab",
      "value": " 50/50 [00:12&lt;00:00,  4.32it/s]"
     }
    },
    "3a6522008b7d4c5dba1024773ca85c13": {
     "model_module": "@jupyter-widgets/controls",
     "model_module_version": "1.5.0",
     "model_name": "DescriptionStyleModel",
     "state": {
      "_model_module": "@jupyter-widgets/controls",
      "_model_module_version": "1.5.0",
      "_model_name": "DescriptionStyleModel",
      "_view_count": null,
      "_view_module": "@jupyter-widgets/base",
      "_view_module_version": "1.2.0",
      "_view_name": "StyleView",
      "description_width": ""
     }
    },
    "3de6fc130ea144a2bad0ec86020273a9": {
     "model_module": "@jupyter-widgets/controls",
     "model_module_version": "1.5.0",
     "model_name": "HTMLModel",
     "state": {
      "_dom_classes": [],
      "_model_module": "@jupyter-widgets/controls",
      "_model_module_version": "1.5.0",
      "_model_name": "HTMLModel",
      "_view_count": null,
      "_view_module": "@jupyter-widgets/controls",
      "_view_module_version": "1.5.0",
      "_view_name": "HTMLView",
      "description": "",
      "description_tooltip": null,
      "layout": "IPY_MODEL_c01c451b95cc4171b3c6d08dd93c6b61",
      "placeholder": "​",
      "style": "IPY_MODEL_3a6522008b7d4c5dba1024773ca85c13",
      "value": "NewtonFool: 100%"
     }
    },
    "4775b348f26c4888bc61dac8854b7be8": {
     "model_module": "@jupyter-widgets/controls",
     "model_module_version": "1.5.0",
     "model_name": "FloatProgressModel",
     "state": {
      "_dom_classes": [],
      "_model_module": "@jupyter-widgets/controls",
      "_model_module_version": "1.5.0",
      "_model_name": "FloatProgressModel",
      "_view_count": null,
      "_view_module": "@jupyter-widgets/controls",
      "_view_module_version": "1.5.0",
      "_view_name": "ProgressView",
      "bar_style": "success",
      "description": "",
      "description_tooltip": null,
      "layout": "IPY_MODEL_b12c2886eede4931bbba5fafd1a5bc9d",
      "max": 50,
      "min": 0,
      "orientation": "horizontal",
      "style": "IPY_MODEL_e40e462d96bb4e8a8d79d4db4d5f5937",
      "value": 50
     }
    },
    "6840433b6f0344439bbcd40d535b291f": {
     "model_module": "@jupyter-widgets/base",
     "model_module_version": "1.2.0",
     "model_name": "LayoutModel",
     "state": {
      "_model_module": "@jupyter-widgets/base",
      "_model_module_version": "1.2.0",
      "_model_name": "LayoutModel",
      "_view_count": null,
      "_view_module": "@jupyter-widgets/base",
      "_view_module_version": "1.2.0",
      "_view_name": "LayoutView",
      "align_content": null,
      "align_items": null,
      "align_self": null,
      "border": null,
      "bottom": null,
      "display": null,
      "flex": null,
      "flex_flow": null,
      "grid_area": null,
      "grid_auto_columns": null,
      "grid_auto_flow": null,
      "grid_auto_rows": null,
      "grid_column": null,
      "grid_gap": null,
      "grid_row": null,
      "grid_template_areas": null,
      "grid_template_columns": null,
      "grid_template_rows": null,
      "height": null,
      "justify_content": null,
      "justify_items": null,
      "left": null,
      "margin": null,
      "max_height": null,
      "max_width": null,
      "min_height": null,
      "min_width": null,
      "object_fit": null,
      "object_position": null,
      "order": null,
      "overflow": null,
      "overflow_x": null,
      "overflow_y": null,
      "padding": null,
      "right": null,
      "top": null,
      "visibility": null,
      "width": null
     }
    },
    "799ed959c60847a4ac84b84c60b84219": {
     "model_module": "@jupyter-widgets/controls",
     "model_module_version": "1.5.0",
     "model_name": "HBoxModel",
     "state": {
      "_dom_classes": [],
      "_model_module": "@jupyter-widgets/controls",
      "_model_module_version": "1.5.0",
      "_model_name": "HBoxModel",
      "_view_count": null,
      "_view_module": "@jupyter-widgets/controls",
      "_view_module_version": "1.5.0",
      "_view_name": "HBoxView",
      "box_style": "",
      "children": [
       "IPY_MODEL_3de6fc130ea144a2bad0ec86020273a9",
       "IPY_MODEL_4775b348f26c4888bc61dac8854b7be8",
       "IPY_MODEL_2ffd53ad8b5a448e84f919295fb4e43d"
      ],
      "layout": "IPY_MODEL_6840433b6f0344439bbcd40d535b291f"
     }
    },
    "84fdedd24ee24fd4a1239856442dbad3": {
     "model_module": "@jupyter-widgets/base",
     "model_module_version": "1.2.0",
     "model_name": "LayoutModel",
     "state": {
      "_model_module": "@jupyter-widgets/base",
      "_model_module_version": "1.2.0",
      "_model_name": "LayoutModel",
      "_view_count": null,
      "_view_module": "@jupyter-widgets/base",
      "_view_module_version": "1.2.0",
      "_view_name": "LayoutView",
      "align_content": null,
      "align_items": null,
      "align_self": null,
      "border": null,
      "bottom": null,
      "display": null,
      "flex": null,
      "flex_flow": null,
      "grid_area": null,
      "grid_auto_columns": null,
      "grid_auto_flow": null,
      "grid_auto_rows": null,
      "grid_column": null,
      "grid_gap": null,
      "grid_row": null,
      "grid_template_areas": null,
      "grid_template_columns": null,
      "grid_template_rows": null,
      "height": null,
      "justify_content": null,
      "justify_items": null,
      "left": null,
      "margin": null,
      "max_height": null,
      "max_width": null,
      "min_height": null,
      "min_width": null,
      "object_fit": null,
      "object_position": null,
      "order": null,
      "overflow": null,
      "overflow_x": null,
      "overflow_y": null,
      "padding": null,
      "right": null,
      "top": null,
      "visibility": null,
      "width": null
     }
    },
    "b12c2886eede4931bbba5fafd1a5bc9d": {
     "model_module": "@jupyter-widgets/base",
     "model_module_version": "1.2.0",
     "model_name": "LayoutModel",
     "state": {
      "_model_module": "@jupyter-widgets/base",
      "_model_module_version": "1.2.0",
      "_model_name": "LayoutModel",
      "_view_count": null,
      "_view_module": "@jupyter-widgets/base",
      "_view_module_version": "1.2.0",
      "_view_name": "LayoutView",
      "align_content": null,
      "align_items": null,
      "align_self": null,
      "border": null,
      "bottom": null,
      "display": null,
      "flex": null,
      "flex_flow": null,
      "grid_area": null,
      "grid_auto_columns": null,
      "grid_auto_flow": null,
      "grid_auto_rows": null,
      "grid_column": null,
      "grid_gap": null,
      "grid_row": null,
      "grid_template_areas": null,
      "grid_template_columns": null,
      "grid_template_rows": null,
      "height": null,
      "justify_content": null,
      "justify_items": null,
      "left": null,
      "margin": null,
      "max_height": null,
      "max_width": null,
      "min_height": null,
      "min_width": null,
      "object_fit": null,
      "object_position": null,
      "order": null,
      "overflow": null,
      "overflow_x": null,
      "overflow_y": null,
      "padding": null,
      "right": null,
      "top": null,
      "visibility": null,
      "width": null
     }
    },
    "c01c451b95cc4171b3c6d08dd93c6b61": {
     "model_module": "@jupyter-widgets/base",
     "model_module_version": "1.2.0",
     "model_name": "LayoutModel",
     "state": {
      "_model_module": "@jupyter-widgets/base",
      "_model_module_version": "1.2.0",
      "_model_name": "LayoutModel",
      "_view_count": null,
      "_view_module": "@jupyter-widgets/base",
      "_view_module_version": "1.2.0",
      "_view_name": "LayoutView",
      "align_content": null,
      "align_items": null,
      "align_self": null,
      "border": null,
      "bottom": null,
      "display": null,
      "flex": null,
      "flex_flow": null,
      "grid_area": null,
      "grid_auto_columns": null,
      "grid_auto_flow": null,
      "grid_auto_rows": null,
      "grid_column": null,
      "grid_gap": null,
      "grid_row": null,
      "grid_template_areas": null,
      "grid_template_columns": null,
      "grid_template_rows": null,
      "height": null,
      "justify_content": null,
      "justify_items": null,
      "left": null,
      "margin": null,
      "max_height": null,
      "max_width": null,
      "min_height": null,
      "min_width": null,
      "object_fit": null,
      "object_position": null,
      "order": null,
      "overflow": null,
      "overflow_x": null,
      "overflow_y": null,
      "padding": null,
      "right": null,
      "top": null,
      "visibility": null,
      "width": null
     }
    },
    "e40e462d96bb4e8a8d79d4db4d5f5937": {
     "model_module": "@jupyter-widgets/controls",
     "model_module_version": "1.5.0",
     "model_name": "ProgressStyleModel",
     "state": {
      "_model_module": "@jupyter-widgets/controls",
      "_model_module_version": "1.5.0",
      "_model_name": "ProgressStyleModel",
      "_view_count": null,
      "_view_module": "@jupyter-widgets/base",
      "_view_module_version": "1.2.0",
      "_view_name": "StyleView",
      "bar_color": null,
      "description_width": ""
     }
    }
   }
  }
 },
 "nbformat": 4,
 "nbformat_minor": 1
}
